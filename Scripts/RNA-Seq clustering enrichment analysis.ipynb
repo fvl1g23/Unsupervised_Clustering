{
 "cells": [
  {
   "metadata": {
    "ExecuteTime": {
     "end_time": "2025-06-02T09:28:59.274270Z",
     "start_time": "2025-06-02T09:28:57.548372Z"
    }
   },
   "cell_type": "code",
   "source": [
    "import pandas as pd\n",
    "from src.cluster_enrichment_analysis import analyze_cluster_deviations"
   ],
   "id": "8c8da29e186e74c3",
   "outputs": [],
   "execution_count": 6
  },
  {
   "cell_type": "code",
   "id": "initial_id",
   "metadata": {
    "collapsed": true,
    "ExecuteTime": {
     "end_time": "2025-06-02T09:28:00.633622Z",
     "start_time": "2025-06-02T09:28:00.595115Z"
    }
   },
   "source": [
    "#Import data\n",
    "temp = pd.read_table(\"C:/Users/fvl1g23/OneDrive - University of Southampton/PhD/Projects/ML/Unsupervised ML/RNA-Seq/SPARC_RNAseq_6C.txt\")"
   ],
   "outputs": [],
   "execution_count": 4
  },
  {
   "metadata": {
    "ExecuteTime": {
     "end_time": "2025-06-02T09:29:22.442354Z",
     "start_time": "2025-06-02T09:29:22.376184Z"
    }
   },
   "cell_type": "code",
   "source": "results_df = analyze_cluster_deviations(temp, ['Crohn.s.disease.phenotype', 'IBD.surgery.final'])",
   "id": "dd5a68e667727a12",
   "outputs": [],
   "execution_count": 8
  },
  {
   "metadata": {
    "ExecuteTime": {
     "end_time": "2025-06-02T09:32:46.982633Z",
     "start_time": "2025-06-02T09:32:46.971812Z"
    }
   },
   "cell_type": "code",
   "source": "results_df['IBD.surgery.final']['p_values_chi2']#.keys()",
   "id": "b86a37fc8d4f7c32",
   "outputs": [
    {
     "data": {
      "text/plain": [
       "IBD.surgery.final       0.0       1.0\n",
       "1                  0.821996  0.822577\n",
       "2                  0.285518  0.287118\n",
       "3                  0.700958  0.701903\n",
       "4                  0.650622  0.651705\n",
       "5                  0.960335  0.960466\n",
       "Misc               0.755426  0.756212"
      ],
      "text/html": [
       "<div>\n",
       "<style scoped>\n",
       "    .dataframe tbody tr th:only-of-type {\n",
       "        vertical-align: middle;\n",
       "    }\n",
       "\n",
       "    .dataframe tbody tr th {\n",
       "        vertical-align: top;\n",
       "    }\n",
       "\n",
       "    .dataframe thead th {\n",
       "        text-align: right;\n",
       "    }\n",
       "</style>\n",
       "<table border=\"1\" class=\"dataframe\">\n",
       "  <thead>\n",
       "    <tr style=\"text-align: right;\">\n",
       "      <th>IBD.surgery.final</th>\n",
       "      <th>0.0</th>\n",
       "      <th>1.0</th>\n",
       "    </tr>\n",
       "  </thead>\n",
       "  <tbody>\n",
       "    <tr>\n",
       "      <th>1</th>\n",
       "      <td>0.821996</td>\n",
       "      <td>0.822577</td>\n",
       "    </tr>\n",
       "    <tr>\n",
       "      <th>2</th>\n",
       "      <td>0.285518</td>\n",
       "      <td>0.287118</td>\n",
       "    </tr>\n",
       "    <tr>\n",
       "      <th>3</th>\n",
       "      <td>0.700958</td>\n",
       "      <td>0.701903</td>\n",
       "    </tr>\n",
       "    <tr>\n",
       "      <th>4</th>\n",
       "      <td>0.650622</td>\n",
       "      <td>0.651705</td>\n",
       "    </tr>\n",
       "    <tr>\n",
       "      <th>5</th>\n",
       "      <td>0.960335</td>\n",
       "      <td>0.960466</td>\n",
       "    </tr>\n",
       "    <tr>\n",
       "      <th>Misc</th>\n",
       "      <td>0.755426</td>\n",
       "      <td>0.756212</td>\n",
       "    </tr>\n",
       "  </tbody>\n",
       "</table>\n",
       "</div>"
      ]
     },
     "execution_count": 19,
     "metadata": {},
     "output_type": "execute_result"
    }
   ],
   "execution_count": 19
  },
  {
   "metadata": {
    "ExecuteTime": {
     "end_time": "2025-06-02T09:31:40.978335Z",
     "start_time": "2025-06-02T09:31:40.969148Z"
    }
   },
   "cell_type": "code",
   "source": "results_df['Crohn.s.disease.phenotype']['residuals']",
   "id": "a83f3b9a141a2aa2",
   "outputs": [
    {
     "data": {
      "text/plain": [
       "Crohn.s.disease.phenotype  Both stricturing and penetrating (B2B3)  \\\n",
       "1                                                         0.361610   \n",
       "3                                                         2.113277   \n",
       "5                                                         0.155897   \n",
       "Misc                                                     -2.246919   \n",
       "\n",
       "Crohn.s.disease.phenotype  Inflammatory non-penetrating, non-stricturing (B1)  \\\n",
       "1                                                                  -0.537602    \n",
       "3                                                                  -0.294119    \n",
       "5                                                                  -0.967063    \n",
       "Misc                                                                1.856500    \n",
       "\n",
       "Crohn.s.disease.phenotype  Penetrating (B3)  Stricturing (B2)   Unknown  \n",
       "1                                 -0.584256          0.543694  0.795644  \n",
       "3                                 -0.250642         -0.888911  0.509217  \n",
       "5                                  0.956027          0.342126  0.096062  \n",
       "Misc                              -0.270942         -0.211090 -1.321987  "
      ],
      "text/html": [
       "<div>\n",
       "<style scoped>\n",
       "    .dataframe tbody tr th:only-of-type {\n",
       "        vertical-align: middle;\n",
       "    }\n",
       "\n",
       "    .dataframe tbody tr th {\n",
       "        vertical-align: top;\n",
       "    }\n",
       "\n",
       "    .dataframe thead th {\n",
       "        text-align: right;\n",
       "    }\n",
       "</style>\n",
       "<table border=\"1\" class=\"dataframe\">\n",
       "  <thead>\n",
       "    <tr style=\"text-align: right;\">\n",
       "      <th>Crohn.s.disease.phenotype</th>\n",
       "      <th>Both stricturing and penetrating (B2B3)</th>\n",
       "      <th>Inflammatory non-penetrating, non-stricturing (B1)</th>\n",
       "      <th>Penetrating (B3)</th>\n",
       "      <th>Stricturing (B2)</th>\n",
       "      <th>Unknown</th>\n",
       "    </tr>\n",
       "  </thead>\n",
       "  <tbody>\n",
       "    <tr>\n",
       "      <th>1</th>\n",
       "      <td>0.361610</td>\n",
       "      <td>-0.537602</td>\n",
       "      <td>-0.584256</td>\n",
       "      <td>0.543694</td>\n",
       "      <td>0.795644</td>\n",
       "    </tr>\n",
       "    <tr>\n",
       "      <th>3</th>\n",
       "      <td>2.113277</td>\n",
       "      <td>-0.294119</td>\n",
       "      <td>-0.250642</td>\n",
       "      <td>-0.888911</td>\n",
       "      <td>0.509217</td>\n",
       "    </tr>\n",
       "    <tr>\n",
       "      <th>5</th>\n",
       "      <td>0.155897</td>\n",
       "      <td>-0.967063</td>\n",
       "      <td>0.956027</td>\n",
       "      <td>0.342126</td>\n",
       "      <td>0.096062</td>\n",
       "    </tr>\n",
       "    <tr>\n",
       "      <th>Misc</th>\n",
       "      <td>-2.246919</td>\n",
       "      <td>1.856500</td>\n",
       "      <td>-0.270942</td>\n",
       "      <td>-0.211090</td>\n",
       "      <td>-1.321987</td>\n",
       "    </tr>\n",
       "  </tbody>\n",
       "</table>\n",
       "</div>"
      ]
     },
     "execution_count": 16,
     "metadata": {},
     "output_type": "execute_result"
    }
   ],
   "execution_count": 16
  }
 ],
 "metadata": {
  "kernelspec": {
   "display_name": "Python 3",
   "language": "python",
   "name": "python3"
  },
  "language_info": {
   "codemirror_mode": {
    "name": "ipython",
    "version": 2
   },
   "file_extension": ".py",
   "mimetype": "text/x-python",
   "name": "python",
   "nbconvert_exporter": "python",
   "pygments_lexer": "ipython2",
   "version": "2.7.6"
  }
 },
 "nbformat": 4,
 "nbformat_minor": 5
}
