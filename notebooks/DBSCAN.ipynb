{
 "cells": [
  {
   "metadata": {},
   "cell_type": "markdown",
   "source": "## Imports",
   "id": "202d52ac2e84452"
  },
  {
   "metadata": {},
   "cell_type": "markdown",
   "source": "### Import Packages",
   "id": "bb773d469867f111"
  },
  {
   "cell_type": "code",
   "id": "initial_id",
   "metadata": {
    "collapsed": true,
    "ExecuteTime": {
     "end_time": "2025-05-14T19:05:50.928270Z",
     "start_time": "2025-05-14T19:05:50.923811Z"
    }
   },
   "source": "import pandas as pd",
   "outputs": [],
   "execution_count": 1
  },
  {
   "metadata": {},
   "cell_type": "markdown",
   "source": "### Import Functions",
   "id": "61850d6f9ed356f5"
  },
  {
   "metadata": {
    "ExecuteTime": {
     "end_time": "2025-05-14T19:06:52.864892Z",
     "start_time": "2025-05-14T19:06:52.857780Z"
    }
   },
   "cell_type": "code",
   "source": [
    "from src.K_Means_optimisation_GenePy import KM_RF, merge_phen_genepy\n",
    "from src.cluster_enrichment_analysis import analyze_cluster_deviations\n",
    "from src.DBSCAN_optimisation import DBSCAN_opt, dbscan"
   ],
   "id": "18162df71b884379",
   "outputs": [],
   "execution_count": 5
  },
  {
   "metadata": {},
   "cell_type": "markdown",
   "source": "### Import SPARC IBD CADD15 GenePy Matrix\n",
   "id": "f70b2ab92cdbe5b4"
  },
  {
   "metadata": {
    "ExecuteTime": {
     "end_time": "2025-05-14T19:07:38.434918Z",
     "start_time": "2025-05-14T19:07:09.340379Z"
    }
   },
   "cell_type": "code",
   "source": [
    "#Import SPARC IBD CADD15 GenePy matrix\n",
    "SPARC_IBD_CADD15_GenePy = pd.read_table(\"C:/Users/fvl1g23/OneDrive - University of Southampton/PhD/Projects/ML/IBD Data/IBD Plexus/ibdplexus202407_ccds_CADD15_merged.mmScaled.matrix\")\n",
    "\n",
    "#Set samid as index\n",
    "SPARC_IBD_CADD15_GenePy = SPARC_IBD_CADD15_GenePy.set_index(\"samid\")"
   ],
   "id": "9951c83c8094fe8d",
   "outputs": [],
   "execution_count": 6
  },
  {
   "metadata": {},
   "cell_type": "markdown",
   "source": "### Import Gene Lists",
   "id": "7e2adfe6de4df78b"
  },
  {
   "metadata": {
    "ExecuteTime": {
     "end_time": "2025-05-14T19:07:38.562266Z",
     "start_time": "2025-05-14T19:07:38.468272Z"
    }
   },
   "cell_type": "code",
   "source": "NOD_sig_genes9 = pd.read_table(\"C:/Users/fvl1g23/OneDrive - University of Southampton/PhD/Projects/ML/Gene lists/NOD_sig_genes9.txt\")",
   "id": "e77ad337b0138b4b",
   "outputs": [],
   "execution_count": 7
  },
  {
   "metadata": {},
   "cell_type": "markdown",
   "source": "## SPARC IBD",
   "id": "72001caa60827c5e"
  },
  {
   "metadata": {},
   "cell_type": "markdown",
   "source": "### 9 NOD Signalling Genes",
   "id": "8e949ad6c1a23496"
  },
  {
   "metadata": {
    "ExecuteTime": {
     "end_time": "2025-05-04T18:16:46.378178Z",
     "start_time": "2025-05-04T18:16:45.207177Z"
    }
   },
   "cell_type": "code",
   "source": "results_df = DBSCAN_opt(SPARC_IBD_CADD15_GenePy, NOD_sig_genes9, cohort_name='SPARC')",
   "id": "e0abc1b490d00e16",
   "outputs": [
    {
     "name": "stdout",
     "output_type": "stream",
     "text": [
      "eps: 0.8, Silhouette None: Undefined (single cluster)\n",
      "eps: 0.9, Silhouette None: Undefined (single cluster)\n",
      "eps: 1.0, Silhouette None: Undefined (single cluster)\n"
     ]
    }
   ],
   "execution_count": 5
  },
  {
   "metadata": {
    "ExecuteTime": {
     "end_time": "2025-05-04T18:16:46.426866Z",
     "start_time": "2025-05-04T18:16:46.417274Z"
    }
   },
   "cell_type": "code",
   "source": "results_df",
   "id": "ceb0b35dbc99f2",
   "outputs": [
    {
     "data": {
      "text/plain": [
       "   eps  silhouette_score       DBI  n_clusters  max_cluster_size\n",
       "0  0.1          0.389380  1.927433          15              1464\n",
       "1  0.2          0.574751  1.681320           8              2670\n",
       "2  0.3          0.587954  1.575496           8              2678\n",
       "3  0.4          0.591905  1.600134           7              2705\n",
       "4  0.5          0.595662  1.372066           4              2830\n",
       "5  0.6          0.766825  1.239667           2              2858\n",
       "6  0.7          0.766825  1.239667           2              2858\n",
       "7  0.8               NaN       NaN           1              2860\n",
       "8  0.9               NaN       NaN           1              2860\n",
       "9  1.0               NaN       NaN           1              2860"
      ],
      "text/html": [
       "<div>\n",
       "<style scoped>\n",
       "    .dataframe tbody tr th:only-of-type {\n",
       "        vertical-align: middle;\n",
       "    }\n",
       "\n",
       "    .dataframe tbody tr th {\n",
       "        vertical-align: top;\n",
       "    }\n",
       "\n",
       "    .dataframe thead th {\n",
       "        text-align: right;\n",
       "    }\n",
       "</style>\n",
       "<table border=\"1\" class=\"dataframe\">\n",
       "  <thead>\n",
       "    <tr style=\"text-align: right;\">\n",
       "      <th></th>\n",
       "      <th>eps</th>\n",
       "      <th>silhouette_score</th>\n",
       "      <th>DBI</th>\n",
       "      <th>n_clusters</th>\n",
       "      <th>max_cluster_size</th>\n",
       "    </tr>\n",
       "  </thead>\n",
       "  <tbody>\n",
       "    <tr>\n",
       "      <th>0</th>\n",
       "      <td>0.1</td>\n",
       "      <td>0.389380</td>\n",
       "      <td>1.927433</td>\n",
       "      <td>15</td>\n",
       "      <td>1464</td>\n",
       "    </tr>\n",
       "    <tr>\n",
       "      <th>1</th>\n",
       "      <td>0.2</td>\n",
       "      <td>0.574751</td>\n",
       "      <td>1.681320</td>\n",
       "      <td>8</td>\n",
       "      <td>2670</td>\n",
       "    </tr>\n",
       "    <tr>\n",
       "      <th>2</th>\n",
       "      <td>0.3</td>\n",
       "      <td>0.587954</td>\n",
       "      <td>1.575496</td>\n",
       "      <td>8</td>\n",
       "      <td>2678</td>\n",
       "    </tr>\n",
       "    <tr>\n",
       "      <th>3</th>\n",
       "      <td>0.4</td>\n",
       "      <td>0.591905</td>\n",
       "      <td>1.600134</td>\n",
       "      <td>7</td>\n",
       "      <td>2705</td>\n",
       "    </tr>\n",
       "    <tr>\n",
       "      <th>4</th>\n",
       "      <td>0.5</td>\n",
       "      <td>0.595662</td>\n",
       "      <td>1.372066</td>\n",
       "      <td>4</td>\n",
       "      <td>2830</td>\n",
       "    </tr>\n",
       "    <tr>\n",
       "      <th>5</th>\n",
       "      <td>0.6</td>\n",
       "      <td>0.766825</td>\n",
       "      <td>1.239667</td>\n",
       "      <td>2</td>\n",
       "      <td>2858</td>\n",
       "    </tr>\n",
       "    <tr>\n",
       "      <th>6</th>\n",
       "      <td>0.7</td>\n",
       "      <td>0.766825</td>\n",
       "      <td>1.239667</td>\n",
       "      <td>2</td>\n",
       "      <td>2858</td>\n",
       "    </tr>\n",
       "    <tr>\n",
       "      <th>7</th>\n",
       "      <td>0.8</td>\n",
       "      <td>NaN</td>\n",
       "      <td>NaN</td>\n",
       "      <td>1</td>\n",
       "      <td>2860</td>\n",
       "    </tr>\n",
       "    <tr>\n",
       "      <th>8</th>\n",
       "      <td>0.9</td>\n",
       "      <td>NaN</td>\n",
       "      <td>NaN</td>\n",
       "      <td>1</td>\n",
       "      <td>2860</td>\n",
       "    </tr>\n",
       "    <tr>\n",
       "      <th>9</th>\n",
       "      <td>1.0</td>\n",
       "      <td>NaN</td>\n",
       "      <td>NaN</td>\n",
       "      <td>1</td>\n",
       "      <td>2860</td>\n",
       "    </tr>\n",
       "  </tbody>\n",
       "</table>\n",
       "</div>"
      ]
     },
     "execution_count": 6,
     "metadata": {},
     "output_type": "execute_result"
    }
   ],
   "execution_count": 6
  },
  {
   "metadata": {
    "ExecuteTime": {
     "end_time": "2025-05-14T19:07:45.589093Z",
     "start_time": "2025-05-14T19:07:45.323692Z"
    }
   },
   "cell_type": "code",
   "source": [
    "#DBSCAN for eps = 0.1\n",
    "dbscan_out, X = dbscan(cohort=SPARC_IBD_CADD15_GenePy, gene_feat=NOD_sig_genes9, eps=0.1)"
   ],
   "id": "4203895e54ab6016",
   "outputs": [],
   "execution_count": 8
  },
  {
   "metadata": {
    "ExecuteTime": {
     "end_time": "2025-05-14T19:08:06.078798Z",
     "start_time": "2025-05-14T19:08:06.048360Z"
    }
   },
   "cell_type": "code",
   "source": "dbscan_out_phen_GenePy = merge_phen_genepy(dbscan_out, SPARC_IBD_CADD15_GenePy, X)",
   "id": "7e4e3afe27e7aaea",
   "outputs": [],
   "execution_count": 10
  },
  {
   "metadata": {
    "ExecuteTime": {
     "end_time": "2025-05-14T19:08:38.358849Z",
     "start_time": "2025-05-14T19:08:38.239472Z"
    }
   },
   "cell_type": "code",
   "source": [
    "results_df = analyze_cluster_deviations(dbscan_out_phen_GenePy, ['Diagnosis', 'Crohn s disease phenotype', 'IBD surgery final'])\n",
    "print(results_df['Diagnosis']['overall_p_value'])\n",
    "print(results_df['Crohn s disease phenotype']['overall_p_value'])\n",
    "print(results_df['IBD surgery final']['overall_p_value'])"
   ],
   "id": "d16c7ac0adfd2e2a",
   "outputs": [
    {
     "name": "stdout",
     "output_type": "stream",
     "text": [
      "5.572628906696619e-14\n",
      "2.3011710740606782e-07\n",
      "3.263691524488892e-06\n"
     ]
    }
   ],
   "execution_count": 11
  }
 ],
 "metadata": {
  "kernelspec": {
   "display_name": "Python 3",
   "language": "python",
   "name": "python3"
  },
  "language_info": {
   "codemirror_mode": {
    "name": "ipython",
    "version": 2
   },
   "file_extension": ".py",
   "mimetype": "text/x-python",
   "name": "python",
   "nbconvert_exporter": "python",
   "pygments_lexer": "ipython2",
   "version": "2.7.6"
  }
 },
 "nbformat": 4,
 "nbformat_minor": 5
}
