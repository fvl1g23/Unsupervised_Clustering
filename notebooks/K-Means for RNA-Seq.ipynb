{
 "cells": [
  {
   "metadata": {},
   "cell_type": "markdown",
   "source": "## Imports",
   "id": "98de4735c114be81"
  },
  {
   "metadata": {},
   "cell_type": "markdown",
   "source": "### Import Packages",
   "id": "d8bf586bfdf0e4db"
  },
  {
   "cell_type": "code",
   "id": "initial_id",
   "metadata": {
    "collapsed": true,
    "ExecuteTime": {
     "end_time": "2025-06-03T13:58:28.808031Z",
     "start_time": "2025-06-03T13:58:27.779291Z"
    }
   },
   "source": [
    "from enum import unique\n",
    "\n",
    "import pandas as pd\n",
    "import numpy as np\n",
    "from pandas import read_excel"
   ],
   "outputs": [],
   "execution_count": 1
  },
  {
   "metadata": {},
   "cell_type": "markdown",
   "source": "### Import SPARC IBD STAR Gene Hit Count Matrix",
   "id": "31338c466f102890"
  },
  {
   "metadata": {
    "ExecuteTime": {
     "end_time": "2025-06-03T14:03:59.143712Z",
     "start_time": "2025-06-03T14:03:47.347548Z"
    }
   },
   "cell_type": "code",
   "source": [
    "SPARC_IBD_STAR = pd.read_table(\"C:/Users/fvl1g23/OneDrive - University of Southampton/PhD/Projects/ML/IBD Data/IBD Plexus/SPARC IBD data transfer/sparc_ibd_star_gene_hit_counts.matrix\")\n",
    "\n",
    "#Set genes as index\n",
    "SPARC_IBD_STAR = SPARC_IBD_STAR.set_index(\"Geneid\")\n",
    "#57,500 genes for 2,848 samples"
   ],
   "id": "f9e1c55dd58ae286",
   "outputs": [],
   "execution_count": 14
  },
  {
   "metadata": {
    "ExecuteTime": {
     "end_time": "2025-06-03T13:58:45.231968Z",
     "start_time": "2025-06-03T13:58:44.585902Z"
    }
   },
   "cell_type": "code",
   "source": [
    "#Cross-reference with master patient ID and biomaterial\n",
    "SPARC_master_patient_ID_RNASeq = read_excel(\"C:/Users/fvl1g23/OneDrive - University of Southampton/PhD/Projects/ML/IBD Data/IBD Plexus/SPARC IBD data transfer/SPARC_master_patient_ID_RNASeq.xlsx\")"
   ],
   "id": "80a03679d8e08548",
   "outputs": [],
   "execution_count": 3
  },
  {
   "metadata": {
    "ExecuteTime": {
     "end_time": "2025-06-03T13:58:52.791801Z",
     "start_time": "2025-06-03T13:58:52.764955Z"
    }
   },
   "cell_type": "code",
   "source": "SPARC_master_patient_ID_RNASeq",
   "id": "60c163d91d050359",
   "outputs": [
    {
     "data": {
      "text/plain": [
       "      DEIDENTIFIED_MASTER_PATIENT_ID               INVESTIGATION_TITLE  \\\n",
       "0                            9014435     Biopsy RNASeq Data Generation   \n",
       "1                            9014435     Biopsy RNASeq Data Generation   \n",
       "2                            9014446  CD Biopsy RNASeq Data Generation   \n",
       "3                            9014446  CD Biopsy RNASeq Data Generation   \n",
       "4                            9017683     Biopsy RNASeq Data Generation   \n",
       "...                              ...                               ...   \n",
       "2842                        24563654     Biopsy RNASeq Data Generation   \n",
       "2843                        24737628     Biopsy RNASeq Data Generation   \n",
       "2844                        24737628     Biopsy RNASeq Data Generation   \n",
       "2845                        40456551     Biopsy RNASeq Data Generation   \n",
       "2846                        40456551     Biopsy RNASeq Data Generation   \n",
       "\n",
       "     CHARACTERISTICS_BIO_MATERIAL SAMPLE_NAME  \n",
       "0                        At 20 cm  FS04288295  \n",
       "1                 Ascending Colon  FS04288309  \n",
       "2                        At 20 cm  FS01628940  \n",
       "3                           Other  FS01338808  \n",
       "4                           Ileum  8053021186  \n",
       "...                           ...         ...  \n",
       "2842                     At 20 cm  FS04288042  \n",
       "2843                        Cecum  8051568129  \n",
       "2844                       Rectum  8051391225  \n",
       "2845                     At 20 cm  FS04287779  \n",
       "2846                        Other  FS04287785  \n",
       "\n",
       "[2847 rows x 4 columns]"
      ],
      "text/html": [
       "<div>\n",
       "<style scoped>\n",
       "    .dataframe tbody tr th:only-of-type {\n",
       "        vertical-align: middle;\n",
       "    }\n",
       "\n",
       "    .dataframe tbody tr th {\n",
       "        vertical-align: top;\n",
       "    }\n",
       "\n",
       "    .dataframe thead th {\n",
       "        text-align: right;\n",
       "    }\n",
       "</style>\n",
       "<table border=\"1\" class=\"dataframe\">\n",
       "  <thead>\n",
       "    <tr style=\"text-align: right;\">\n",
       "      <th></th>\n",
       "      <th>DEIDENTIFIED_MASTER_PATIENT_ID</th>\n",
       "      <th>INVESTIGATION_TITLE</th>\n",
       "      <th>CHARACTERISTICS_BIO_MATERIAL</th>\n",
       "      <th>SAMPLE_NAME</th>\n",
       "    </tr>\n",
       "  </thead>\n",
       "  <tbody>\n",
       "    <tr>\n",
       "      <th>0</th>\n",
       "      <td>9014435</td>\n",
       "      <td>Biopsy RNASeq Data Generation</td>\n",
       "      <td>At 20 cm</td>\n",
       "      <td>FS04288295</td>\n",
       "    </tr>\n",
       "    <tr>\n",
       "      <th>1</th>\n",
       "      <td>9014435</td>\n",
       "      <td>Biopsy RNASeq Data Generation</td>\n",
       "      <td>Ascending Colon</td>\n",
       "      <td>FS04288309</td>\n",
       "    </tr>\n",
       "    <tr>\n",
       "      <th>2</th>\n",
       "      <td>9014446</td>\n",
       "      <td>CD Biopsy RNASeq Data Generation</td>\n",
       "      <td>At 20 cm</td>\n",
       "      <td>FS01628940</td>\n",
       "    </tr>\n",
       "    <tr>\n",
       "      <th>3</th>\n",
       "      <td>9014446</td>\n",
       "      <td>CD Biopsy RNASeq Data Generation</td>\n",
       "      <td>Other</td>\n",
       "      <td>FS01338808</td>\n",
       "    </tr>\n",
       "    <tr>\n",
       "      <th>4</th>\n",
       "      <td>9017683</td>\n",
       "      <td>Biopsy RNASeq Data Generation</td>\n",
       "      <td>Ileum</td>\n",
       "      <td>8053021186</td>\n",
       "    </tr>\n",
       "    <tr>\n",
       "      <th>...</th>\n",
       "      <td>...</td>\n",
       "      <td>...</td>\n",
       "      <td>...</td>\n",
       "      <td>...</td>\n",
       "    </tr>\n",
       "    <tr>\n",
       "      <th>2842</th>\n",
       "      <td>24563654</td>\n",
       "      <td>Biopsy RNASeq Data Generation</td>\n",
       "      <td>At 20 cm</td>\n",
       "      <td>FS04288042</td>\n",
       "    </tr>\n",
       "    <tr>\n",
       "      <th>2843</th>\n",
       "      <td>24737628</td>\n",
       "      <td>Biopsy RNASeq Data Generation</td>\n",
       "      <td>Cecum</td>\n",
       "      <td>8051568129</td>\n",
       "    </tr>\n",
       "    <tr>\n",
       "      <th>2844</th>\n",
       "      <td>24737628</td>\n",
       "      <td>Biopsy RNASeq Data Generation</td>\n",
       "      <td>Rectum</td>\n",
       "      <td>8051391225</td>\n",
       "    </tr>\n",
       "    <tr>\n",
       "      <th>2845</th>\n",
       "      <td>40456551</td>\n",
       "      <td>Biopsy RNASeq Data Generation</td>\n",
       "      <td>At 20 cm</td>\n",
       "      <td>FS04287779</td>\n",
       "    </tr>\n",
       "    <tr>\n",
       "      <th>2846</th>\n",
       "      <td>40456551</td>\n",
       "      <td>Biopsy RNASeq Data Generation</td>\n",
       "      <td>Other</td>\n",
       "      <td>FS04287785</td>\n",
       "    </tr>\n",
       "  </tbody>\n",
       "</table>\n",
       "<p>2847 rows × 4 columns</p>\n",
       "</div>"
      ]
     },
     "execution_count": 4,
     "metadata": {},
     "output_type": "execute_result"
    }
   ],
   "execution_count": 4
  },
  {
   "metadata": {},
   "cell_type": "markdown",
   "source": "## Analysis of Ileal Biopsies",
   "id": "70f440f69bbc8e9e"
  },
  {
   "metadata": {
    "ExecuteTime": {
     "end_time": "2025-06-03T14:06:57.236970Z",
     "start_time": "2025-06-03T14:06:57.106755Z"
    }
   },
   "cell_type": "code",
   "source": [
    "#Subset all ileal biopsies from the Biopsy RNASeq Data Generation study\n",
    "SPARC_IBD_STAR_ileum = SPARC_IBD_STAR[SPARC_IBD_STAR.columns[SPARC_IBD_STAR.columns.isin(SPARC_master_patient_ID_RNASeq.loc[(SPARC_master_patient_ID_RNASeq['CHARACTERISTICS_BIO_MATERIAL'] == \"Ileum\") & (SPARC_master_patient_ID_RNASeq['INVESTIGATION_TITLE'] == \"Biopsy RNASeq Data Generation\"),\"SAMPLE_NAME\"])]]"
   ],
   "id": "9c23ee55216b8db5",
   "outputs": [],
   "execution_count": 20
  },
  {
   "metadata": {
    "ExecuteTime": {
     "end_time": "2025-06-03T14:16:19.580727Z",
     "start_time": "2025-06-03T14:16:19.226596Z"
    }
   },
   "cell_type": "code",
   "source": [
    "#Check whether all samples come from a different patient\n",
    "SPARC_IBD_STAR_ileum = SPARC_IBD_STAR_ileum.assign(MASTER_PATIENT_ID = SPARC_master_patient_ID_RNASeq[SPARC_master_patient_ID_RNASeq['SAMPLE_NAME'].isin(SPARC_IBD_STAR_ileum.columns)]['DEIDENTIFIED_MASTER_PATIENT_ID'])\n",
    "SPARC_IBD_STAR_ileum['MASTER_PATIENT_ID']\n",
    "#pd.unique(SPARC_IBD_STAR_ileum['MASTER_PATIENT_ID'])"
   ],
   "id": "4cfceffe0d39dde1",
   "outputs": [
    {
     "data": {
      "text/plain": [
       "Geneid\n",
       "ENSG00000223972     NaN\n",
       "ENSG00000227232     NaN\n",
       "ENSG00000278267     NaN\n",
       "ENSG00000243485     NaN\n",
       "ENSG00000237613     NaN\n",
       "                     ..\n",
       "ENSG00000275405     NaN\n",
       "ENSG00000275987     NaN\n",
       "ENSG00000277475     NaN\n",
       "ENSG00000268674     NaN\n",
       "MASTER_PATIENT_ID   NaN\n",
       "Name: MASTER_PATIENT_ID, Length: 57501, dtype: float64"
      ]
     },
     "execution_count": 34,
     "metadata": {},
     "output_type": "execute_result"
    }
   ],
   "execution_count": 34
  },
  {
   "metadata": {
    "ExecuteTime": {
     "end_time": "2025-06-03T14:13:48.800260Z",
     "start_time": "2025-06-03T14:13:48.786704Z"
    }
   },
   "cell_type": "code",
   "source": "SPARC_master_patient_ID_RNASeq[SPARC_master_patient_ID_RNASeq['SAMPLE_NAME'].isin(SPARC_IBD_STAR_ileum.columns)]['DEIDENTIFIED_MASTER_PATIENT_ID']",
   "id": "3e9976e485f60bdc",
   "outputs": [
    {
     "data": {
      "text/plain": [
       "4        9017683\n",
       "14       9024262\n",
       "16       9027473\n",
       "23       9031178\n",
       "27       9031178\n",
       "          ...   \n",
       "2826    21418047\n",
       "2832    21513788\n",
       "2833    21513788\n",
       "2837    21564669\n",
       "2840    23995055\n",
       "Name: DEIDENTIFIED_MASTER_PATIENT_ID, Length: 501, dtype: int64"
      ]
     },
     "execution_count": 32,
     "metadata": {},
     "output_type": "execute_result"
    }
   ],
   "execution_count": 32
  },
  {
   "metadata": {
    "ExecuteTime": {
     "end_time": "2025-06-03T14:10:28.929040Z",
     "start_time": "2025-06-03T14:10:28.915143Z"
    }
   },
   "cell_type": "code",
   "source": "SPARC_master_patient_ID_RNASeq[SPARC_master_patient_ID_RNASeq['SAMPLE_NAME'].isin(SPARC_IBD_STAR_ileum.columns)]['DEIDENTIFIED_MASTER_PATIENT_ID']",
   "id": "3b6de70f810a053b",
   "outputs": [
    {
     "data": {
      "text/plain": [
       "4        9017683\n",
       "14       9024262\n",
       "16       9027473\n",
       "23       9031178\n",
       "27       9031178\n",
       "          ...   \n",
       "2826    21418047\n",
       "2832    21513788\n",
       "2833    21513788\n",
       "2837    21564669\n",
       "2840    23995055\n",
       "Name: DEIDENTIFIED_MASTER_PATIENT_ID, Length: 501, dtype: int64"
      ]
     },
     "execution_count": 23,
     "metadata": {},
     "output_type": "execute_result"
    }
   ],
   "execution_count": 23
  },
  {
   "metadata": {
    "ExecuteTime": {
     "end_time": "2025-06-03T14:05:23.815087Z",
     "start_time": "2025-06-03T14:05:23.782697Z"
    }
   },
   "cell_type": "code",
   "source": "SPARC_master_patient_ID_RNASeq.value_counts([\"INVESTIGATION_TITLE\", \"CHARACTERISTICS_BIO_MATERIAL\"])",
   "id": "a8afacb9349ff041",
   "outputs": [
    {
     "data": {
      "text/plain": [
       "INVESTIGATION_TITLE               CHARACTERISTICS_BIO_MATERIAL\n",
       "Biopsy RNASeq Data Generation     At 20 cm                        943\n",
       "                                  Ileum                           501\n",
       "                                  Cecum                           373\n",
       "CD Biopsy RNASeq Data Generation  At 20 cm                        269\n",
       "                                  Ileum                           259\n",
       "Biopsy RNASeq Data Generation     Rectum                          137\n",
       "                                  Other                           122\n",
       "                                  Ascending Colon                  44\n",
       "                                  Descending Colon                 39\n",
       "                                  Transverse Colon                 33\n",
       "CD Biopsy RNASeq Data Generation  Rectum                           33\n",
       "                                  Cecum                            28\n",
       "Biopsy RNASeq Data Generation     Sigmoid Colon                    24\n",
       "CD Biopsy RNASeq Data Generation  Other                            16\n",
       "                                  Ascending Colon                  10\n",
       "                                  Transverse Colon                  6\n",
       "                                  Descending Colon                  5\n",
       "                                  Sigmoid Colon                     4\n",
       "Name: count, dtype: int64"
      ]
     },
     "execution_count": 19,
     "metadata": {},
     "output_type": "execute_result"
    }
   ],
   "execution_count": 19
  }
 ],
 "metadata": {
  "kernelspec": {
   "display_name": "Python 3",
   "language": "python",
   "name": "python3"
  },
  "language_info": {
   "codemirror_mode": {
    "name": "ipython",
    "version": 2
   },
   "file_extension": ".py",
   "mimetype": "text/x-python",
   "name": "python",
   "nbconvert_exporter": "python",
   "pygments_lexer": "ipython2",
   "version": "2.7.6"
  }
 },
 "nbformat": 4,
 "nbformat_minor": 5
}
