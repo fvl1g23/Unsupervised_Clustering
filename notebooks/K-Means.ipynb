{
 "cells": [
  {
   "metadata": {},
   "cell_type": "markdown",
   "source": "# Imports",
   "id": "1fe393585e6185ce"
  },
  {
   "metadata": {},
   "cell_type": "markdown",
   "source": "## Import Packages",
   "id": "7b456d247bb75ab7"
  },
  {
   "cell_type": "code",
   "id": "initial_id",
   "metadata": {
    "collapsed": true,
    "ExecuteTime": {
     "end_time": "2025-08-01T15:32:03.997201Z",
     "start_time": "2025-08-01T15:32:00.097935Z"
    }
   },
   "source": [
    "import pandas as pd\n",
    "import numpy as np\n",
    "from scipy.stats import chi2_contingency, norm, chi2\n",
    "from statsmodels.stats.multitest import multipletests\n",
    "import matplotlib.pyplot as plt"
   ],
   "outputs": [],
   "execution_count": 1
  },
  {
   "metadata": {},
   "cell_type": "markdown",
   "source": "## Import Functions",
   "id": "7a5c6fff3c8e9364"
  },
  {
   "metadata": {
    "ExecuteTime": {
     "end_time": "2025-08-01T15:32:06.484065Z",
     "start_time": "2025-08-01T15:32:05.503703Z"
    }
   },
   "cell_type": "code",
   "source": [
    "from src.K_Means_optimisation_GenePy import KM_opt, KM_opt_stabl, KM, KM_random, compute_ari_matrix, KM_RF, merge_phen_genepy, compute_clustering_metrics\n",
    "from src.cluster_enrichment_analysis import analyze_cluster_deviations\n",
    "from src.Plotting import plotk, plot_ari_heatmap, plot_clustering_metrics"
   ],
   "id": "63a8c61a629ebc1b",
   "outputs": [],
   "execution_count": 2
  },
  {
   "metadata": {},
   "cell_type": "markdown",
   "source": "## Import SPARC IBD CADD15 GenePy Matrix",
   "id": "d9dcb5f2b4d26f06"
  },
  {
   "metadata": {
    "ExecuteTime": {
     "end_time": "2025-08-01T15:32:23.145379Z",
     "start_time": "2025-08-01T15:32:06.503954Z"
    }
   },
   "cell_type": "code",
   "source": [
    "#Import SPARC IBD CADD15 GenePy matrix\n",
    "SPARC_IBD_CADD15_GenePy = pd.read_table(\"C:/Users/fvl1g23/OneDrive - University of Southampton/PhD/Projects/ML/IBD Data/IBD Plexus/GenePy/sparc_ibd_ccds_CADD15_merged_filt.mmScaled.matrix\")\n",
    "\n",
    "#Set samid as index\n",
    "SPARC_IBD_CADD15_GenePy = SPARC_IBD_CADD15_GenePy.set_index(\"samid\")"
   ],
   "id": "d60dae24626ad184",
   "outputs": [],
   "execution_count": 3
  },
  {
   "metadata": {},
   "cell_type": "markdown",
   "source": "## Import Southampton IBD CADD15 GenePy Matrix",
   "id": "45ad9021060f275b"
  },
  {
   "metadata": {},
   "cell_type": "code",
   "source": [
    "# Import Soton Local IBD CADD15 GenePy matrix\n",
    "#dtype_dict = {\"Gender\": \"object\", \"Age at diagnosis\": \"float64\",\n",
    "#              'Diagnosis': \"object\", \"Stricturing\": \"object\", \"Fistulating\": \"object\",\n",
    "#              'Granuloma': \"object\", 'IBD Surgery': 'int64', 'IBD phenotype': 'object'}\n",
    "\n",
    "SotonIBD_CADD15_GenePy = pd.read_table(\"C:/Users/fvl1g23/OneDrive - University of Southampton/PhD/Projects/ML/IBD Data/Soton Local IBD/GenePy/jcmar24_IBD_CADD15_merged.mmScaled_filt.matrix\"\n",
    "                                       #,dtype=dtype_dict\n",
    "                                       )\n",
    "\n",
    "#Set samid as index\n",
    "SotonIBD_CADD15_GenePy = SotonIBD_CADD15_GenePy.set_index(\"Samid\")\n",
    "\n",
    "#SotonIBD_CADD15_GenePy = SotonIBD_CADD15_GenePy[SotonIBD_CADD15_GenePy['Diagnosis'] != \"NOT_IBD\"]"
   ],
   "id": "2dd97f4fa40cef9e",
   "outputs": [],
   "execution_count": null
  },
  {
   "metadata": {},
   "cell_type": "markdown",
   "source": "## Import Gene Lists",
   "id": "701551395d5fc571"
  },
  {
   "metadata": {
    "ExecuteTime": {
     "end_time": "2025-08-01T15:32:23.367476Z",
     "start_time": "2025-08-01T15:32:23.205924Z"
    }
   },
   "cell_type": "code",
   "source": [
    "NOD_sig_genes9 = pd.read_table(\"C:/Users/fvl1g23/OneDrive - University of Southampton/PhD/Projects/ML/Gene lists/NOD_sig_genes9.txt\")\n",
    "NOD_sig_genes43 = pd.read_table(\"C:/Users/fvl1g23/OneDrive - University of Southampton/PhD/Projects/ML/Gene lists/NOD_sig_genes43.txt\")\n",
    "JAK_STAT_sig_genes_30 = pd.read_table(\"C:/Users/fvl1g23/OneDrive - University of Southampton/PhD/Projects/ML/Gene lists/JAK_STAT_sig_genes30.txt\")\n",
    "IL10_sig_genes_49 = pd.read_table(\"C:/Users/fvl1g23/OneDrive - University of Southampton/PhD/Projects/ML/Gene lists/IL10_sig_genes49.txt\")\n",
    "IL23_sig_genes_20 = pd.read_table(\"C:/Users/fvl1g23/OneDrive - University of Southampton/PhD/Projects/ML/Gene lists/IL23_genes20.txt\")\n",
    "Th17_sig_genes_11 = pd.read_table(\"C:/Users/fvl1g23/OneDrive - University of Southampton/PhD/Projects/ML/Gene lists/Th17_genes11.txt\") #All of these genes are in the list of 20 IL-23 signalling genes\n",
    "NADPH_genes_12 = pd.read_table(\"C:/Users/fvl1g23/OneDrive - University of Southampton/PhD/Projects/ML/Gene lists/NADPH_sig_genes12.txt\")\n",
    "NADPH_genes_36 = pd.read_table(\"C:/Users/fvl1g23/OneDrive - University of Southampton/PhD/Projects/ML/Gene lists/NADPH_sig_genes36.txt\")"
   ],
   "id": "bcbec879fb842d59",
   "outputs": [],
   "execution_count": 4
  },
  {
   "metadata": {},
   "cell_type": "code",
   "source": [
    "NOD2_gene = NOD_sig_genes9.loc[NOD_sig_genes9['Gene name'] == 'NOD2',:]\n",
    "NOD_sig_genes9_noNOD2 = NOD_sig_genes9.loc[NOD_sig_genes9['Gene name'] != 'NOD2',:]"
   ],
   "id": "95e2dc313f097ada",
   "outputs": [],
   "execution_count": null
  },
  {
   "metadata": {},
   "cell_type": "markdown",
   "source": "### IBD Consensus Pathways",
   "id": "94055b9ea6b78fc0"
  },
  {
   "metadata": {},
   "cell_type": "code",
   "source": [
    "IBD_consensus_paths = pd.read_table(\"C:/Users/fvl1g23/OneDrive - University of Southampton/PhD/Progression Reviews/Confirmation Progression Review/Supp material/Consensus IBD pathway genes.txt\")\n",
    "IBD_union_genes = IBD_consensus_paths.loc[(IBD_consensus_paths['NOD signalling consensus 2'] == 1) | (IBD_consensus_paths['IL-10 signalling consensus 2'] == 1) | (IBD_consensus_paths['IL-23 signalling consensus 2'] == 1) |\n",
    "(IBD_consensus_paths['Th17 differentiation consensus 2']) | (IBD_consensus_paths['JAK-STAT consensus 2'] == 1) | (IBD_consensus_paths['NADPH oxidases consensus 2'] == 1),:]\n",
    "IBD_union_genes = IBD_union_genes.iloc[:,list(range(0,4)) + [11] + [13] + [15] +[17] + [19] + [21]]\n",
    "IBD_union_genes.loc[IBD_union_genes['Gene name'] == 'NOXO1', 'Gene stable ID'] = \"ENSG00000196408\""
   ],
   "id": "3cb6ee69b8d8c0fe",
   "outputs": [],
   "execution_count": null
  },
  {
   "metadata": {},
   "cell_type": "code",
   "source": [
    "IBD_union_genes['GenePy gene'] = IBD_union_genes['Gene stable ID'] + \"_\" + IBD_union_genes['Gene name'] + \"_CADD15_matrix\"\n",
    "IBD_union_genes_sparc = IBD_union_genes.loc[:,['Gene stable ID', 'Gene name', 'GenePy gene']]"
   ],
   "id": "cd607e9d80317025",
   "outputs": [],
   "execution_count": null
  },
  {
   "metadata": {},
   "cell_type": "markdown",
   "source": "# SPARC IBD",
   "id": "46242c8d1f2fac41"
  },
  {
   "metadata": {},
   "cell_type": "markdown",
   "source": "## NOD2",
   "id": "cf6e5326c462e7cc"
  },
  {
   "metadata": {},
   "cell_type": "code",
   "source": "results_df = KM_opt(SPARC_IBD_CADD15_GenePy, NOD2_gene, 50, cohort_name='SPARC')",
   "id": "650232dfbd82a744",
   "outputs": [],
   "execution_count": null
  },
  {
   "metadata": {},
   "cell_type": "code",
   "source": "results_df",
   "id": "e37c394f977ac49d",
   "outputs": [],
   "execution_count": null
  },
  {
   "metadata": {},
   "cell_type": "code",
   "source": "plotk(results_df, [18,37, 47])",
   "id": "883611fbe71f3afd",
   "outputs": [],
   "execution_count": null
  },
  {
   "metadata": {},
   "cell_type": "code",
   "source": [
    "#k = 18\n",
    "km_out, X = KM(SPARC_IBD_CADD15_GenePy, NOD2_gene, 18)\n",
    "km_out_phen_GenePy = merge_phen_genepy(km_out, SPARC_IBD_CADD15_GenePy, X)"
   ],
   "id": "d5141f2b21272096",
   "outputs": [],
   "execution_count": null
  },
  {
   "metadata": {},
   "cell_type": "code",
   "source": [
    "#Get list of patients with no NOD2 signal\n",
    "SPARC_GenePy_0_NOD2_samid = km_out_phen_GenePy[km_out_phen_GenePy['Cluster'] == 1]['Samid']\n",
    "SPARC_GenePy_0_NOD2_samid"
   ],
   "id": "99bd7bdf6948a33f",
   "outputs": [],
   "execution_count": null
  },
  {
   "metadata": {},
   "cell_type": "code",
   "source": "km_out_phen_GenePy.to_csv(\"C:/Users/fvl1g23/OneDrive - University of Southampton/PhD/Projects/ML/Unsupervised ML/K-Means cluster enrichment analysis/K-Means output/SPARC_KMeans_NOD2_18C_genepy.txt\", sep='\\t', index=False)",
   "id": "95f420a47855d540",
   "outputs": [],
   "execution_count": null
  },
  {
   "metadata": {},
   "cell_type": "code",
   "source": [
    "results_df = analyze_cluster_deviations(km_out_phen_GenePy, ['Diagnosis', 'Crohn s disease phenotype', 'IBD surgery final'])\n",
    "print(results_df['Diagnosis']['overall_p_value'])\n",
    "print(results_df['Crohn s disease phenotype']['overall_p_value'])\n",
    "print(results_df['IBD surgery final']['overall_p_value'])"
   ],
   "id": "6fecd28402e61ef9",
   "outputs": [],
   "execution_count": null
  },
  {
   "metadata": {},
   "cell_type": "code",
   "source": "results_df['IBD surgery final']['corr_p_values_chi2'] #.keys()",
   "id": "86a97f48e568295e",
   "outputs": [],
   "execution_count": null
  },
  {
   "metadata": {},
   "cell_type": "code",
   "source": [
    "#Check range of GenePy for each cluster\n",
    "km_out_phen_GenePy[km_out_phen_GenePy['Cluster'] == 10]['ENSG00000167207_NOD2_CADD15_matrix'].value_counts()"
   ],
   "id": "bd92a84882a42a02",
   "outputs": [],
   "execution_count": null
  },
  {
   "metadata": {},
   "cell_type": "code",
   "source": [
    "#Check counts of clinical variables\n",
    "km_out_phen_GenePy[km_out_phen_GenePy['Cluster'] == 10]['Diagnosis'].value_counts()"
   ],
   "id": "4c3205c368c78487",
   "outputs": [],
   "execution_count": null
  },
  {
   "metadata": {},
   "cell_type": "code",
   "source": "km_out_phen_GenePy[(km_out_phen_GenePy['Cluster'] == 3) & (km_out_phen_GenePy['Diagnosis'] == \"CD\")]['Crohn s disease phenotype'].value_counts()",
   "id": "17014835938c2039",
   "outputs": [],
   "execution_count": null
  },
  {
   "metadata": {},
   "cell_type": "markdown",
   "source": "## 8 NOD Signalling Genes on NOD2 Wildtypes",
   "id": "3ce8b8a522ab6677"
  },
  {
   "metadata": {},
   "cell_type": "code",
   "source": [
    "#Subset SPARC IBD patients with CADD15 NOD2 GenePy 0\n",
    "SPARC_IBD_CADD15_0_NOD2 = SPARC_IBD_CADD15_GenePy.loc[SPARC_GenePy_0_NOD2_samid]\n",
    "\n",
    "results_df = KM_opt(SPARC_IBD_CADD15_0_NOD2, NOD_sig_genes9_noNOD2, 50, cohort_name='SPARC')"
   ],
   "id": "8576fa11d2f66532",
   "outputs": [],
   "execution_count": null
  },
  {
   "metadata": {},
   "cell_type": "code",
   "source": "results_df",
   "id": "a5d3a9469e11007",
   "outputs": [],
   "execution_count": null
  },
  {
   "metadata": {},
   "cell_type": "code",
   "source": "plotk(results_df, [19, 33, 43])",
   "id": "43a5bbb1656511bd",
   "outputs": [],
   "execution_count": null
  },
  {
   "metadata": {},
   "cell_type": "code",
   "source": [
    "#k = 19\n",
    "km_out_sparc, X = KM(SPARC_IBD_CADD15_0_NOD2, NOD_sig_genes9_noNOD2, 19)\n",
    "km_out_phen_GenePy_sparc = merge_phen_genepy(km_out_sparc, SPARC_IBD_CADD15_0_NOD2, X)"
   ],
   "id": "a91b28ddfd8ac142",
   "outputs": [],
   "execution_count": null
  },
  {
   "metadata": {},
   "cell_type": "code",
   "source": "km_out_phen_GenePy_sparc.to_csv(\"C:/Users/fvl1g23/OneDrive - University of Southampton/PhD/Projects/ML/Unsupervised ML/K-Means cluster enrichment analysis/K-Means output/SPARC_KMeans_8F_19C_NOD_2_genepy.txt\", sep='\\t', index=False)",
   "id": "adcf18813b8a0a59",
   "outputs": [],
   "execution_count": null
  },
  {
   "metadata": {},
   "cell_type": "code",
   "source": [
    "results_df = analyze_cluster_deviations(km_out_phen_GenePy_sparc, ['Diagnosis', 'Crohn s disease phenotype', 'IBD surgery final'])\n",
    "print(results_df['IBD surgery final']['overall_p_value'])"
   ],
   "id": "7f5b5fe48b8f2b36",
   "outputs": [],
   "execution_count": null
  },
  {
   "metadata": {},
   "cell_type": "markdown",
   "source": "## 9 NOD Signalling Genes",
   "id": "1f341e9070ca9710"
  },
  {
   "metadata": {},
   "cell_type": "code",
   "source": [
    "#Optimise k based on silhouette score and DBI\n",
    "results_df = KM_opt(SPARC_IBD_CADD15_GenePy, NOD_sig_genes9, 50, cohort_name='SPARC')"
   ],
   "id": "57716648ba9086d6",
   "outputs": [],
   "execution_count": null
  },
  {
   "metadata": {},
   "cell_type": "code",
   "source": [
    "#Optimise k based on clustering stability (Adjusted Rand Index)\n",
    "results_ari_df = KM_opt_stabl(SPARC_IBD_CADD15_GenePy, NOD_sig_genes9, 50, cohort_name='SPARC', n_iter=200)"
   ],
   "id": "febc72851d38f5dc",
   "outputs": [],
   "execution_count": null
  },
  {
   "metadata": {
    "ExecuteTime": {
     "end_time": "2025-08-01T15:37:42.936403Z",
     "start_time": "2025-08-01T15:32:49.165076Z"
    }
   },
   "cell_type": "code",
   "source": [
    "#Optimise k based on silhouette score, DBI, and ARI\n",
    "metrics_df = compute_clustering_metrics(SPARC_IBD_CADD15_GenePy, NOD_sig_genes9, 50, \"SPARC\", n_iter=200)"
   ],
   "id": "11088665d33b7eea",
   "outputs": [
    {
     "ename": "KeyboardInterrupt",
     "evalue": "",
     "output_type": "error",
     "traceback": [
      "\u001B[31m---------------------------------------------------------------------------\u001B[39m",
      "\u001B[31mKeyboardInterrupt\u001B[39m                         Traceback (most recent call last)",
      "\u001B[36mCell\u001B[39m\u001B[36m \u001B[39m\u001B[32mIn[5]\u001B[39m\u001B[32m, line 2\u001B[39m\n\u001B[32m      1\u001B[39m \u001B[38;5;66;03m#Optimise k based on silhouette score, DBI, and ARI\u001B[39;00m\n\u001B[32m----> \u001B[39m\u001B[32m2\u001B[39m metrics_df = \u001B[43mcompute_clustering_metrics\u001B[49m\u001B[43m(\u001B[49m\u001B[43mSPARC_IBD_CADD15_GenePy\u001B[49m\u001B[43m,\u001B[49m\u001B[43m \u001B[49m\u001B[43mNOD_sig_genes9\u001B[49m\u001B[43m,\u001B[49m\u001B[43m \u001B[49m\u001B[32;43m50\u001B[39;49m\u001B[43m,\u001B[49m\u001B[43m \u001B[49m\u001B[33;43m\"\u001B[39;49m\u001B[33;43mSPARC\u001B[39;49m\u001B[33;43m\"\u001B[39;49m\u001B[43m,\u001B[49m\u001B[43m \u001B[49m\u001B[43mn_iter\u001B[49m\u001B[43m=\u001B[49m\u001B[32;43m200\u001B[39;49m\u001B[43m)\u001B[49m\n",
      "\u001B[36mFile \u001B[39m\u001B[32m~\\PycharmProjects\\Unsupervised Clustering\\src\\K_Means_optimisation_GenePy.py:113\u001B[39m, in \u001B[36mcompute_clustering_metrics\u001B[39m\u001B[34m(cohort, gene_feat, max_n_clust, cohort_name, n_iter, random_state_seed, n_jobs, confidence)\u001B[39m\n\u001B[32m    110\u001B[39m seeds = rng.integers(\u001B[32m0\u001B[39m, \u001B[32m1_000_000\u001B[39m, size=n_iter)\n\u001B[32m    112\u001B[39m \u001B[38;5;66;03m# Parallel execution of clustering runs for this k\u001B[39;00m\n\u001B[32m--> \u001B[39m\u001B[32m113\u001B[39m out = \u001B[43mParallel\u001B[49m\u001B[43m(\u001B[49m\u001B[43mn_jobs\u001B[49m\u001B[43m=\u001B[49m\u001B[43mn_jobs\u001B[49m\u001B[43m)\u001B[49m\u001B[43m(\u001B[49m\n\u001B[32m    114\u001B[39m \u001B[43m    \u001B[49m\u001B[43mdelayed\u001B[49m\u001B[43m(\u001B[49m\u001B[43m_run_single_kmeans\u001B[49m\u001B[43m)\u001B[49m\u001B[43m(\u001B[49m\u001B[43mX\u001B[49m\u001B[43m,\u001B[49m\u001B[43m \u001B[49m\u001B[43mk\u001B[49m\u001B[43m,\u001B[49m\u001B[43m \u001B[49m\u001B[43mrs\u001B[49m\u001B[43m)\u001B[49m\u001B[43m \u001B[49m\u001B[38;5;28;43;01mfor\u001B[39;49;00m\u001B[43m \u001B[49m\u001B[43mrs\u001B[49m\u001B[43m \u001B[49m\u001B[38;5;129;43;01min\u001B[39;49;00m\u001B[43m \u001B[49m\u001B[43mseeds\u001B[49m\n\u001B[32m    115\u001B[39m \u001B[43m\u001B[49m\u001B[43m)\u001B[49m\n\u001B[32m    117\u001B[39m labels_list, sils, dbis = \u001B[38;5;28mzip\u001B[39m(*out)\n\u001B[32m    119\u001B[39m \u001B[38;5;66;03m# Compute pairwise ARIs\u001B[39;00m\n",
      "\u001B[36mFile \u001B[39m\u001B[32m~\\PycharmProjects\\Unsupervised Clustering\\.venv1\\Lib\\site-packages\\joblib\\parallel.py:2072\u001B[39m, in \u001B[36mParallel.__call__\u001B[39m\u001B[34m(self, iterable)\u001B[39m\n\u001B[32m   2066\u001B[39m \u001B[38;5;66;03m# The first item from the output is blank, but it makes the interpreter\u001B[39;00m\n\u001B[32m   2067\u001B[39m \u001B[38;5;66;03m# progress until it enters the Try/Except block of the generator and\u001B[39;00m\n\u001B[32m   2068\u001B[39m \u001B[38;5;66;03m# reaches the first `yield` statement. This starts the asynchronous\u001B[39;00m\n\u001B[32m   2069\u001B[39m \u001B[38;5;66;03m# dispatch of the tasks to the workers.\u001B[39;00m\n\u001B[32m   2070\u001B[39m \u001B[38;5;28mnext\u001B[39m(output)\n\u001B[32m-> \u001B[39m\u001B[32m2072\u001B[39m \u001B[38;5;28;01mreturn\u001B[39;00m output \u001B[38;5;28;01mif\u001B[39;00m \u001B[38;5;28mself\u001B[39m.return_generator \u001B[38;5;28;01melse\u001B[39;00m \u001B[38;5;28;43mlist\u001B[39;49m\u001B[43m(\u001B[49m\u001B[43moutput\u001B[49m\u001B[43m)\u001B[49m\n",
      "\u001B[36mFile \u001B[39m\u001B[32m~\\PycharmProjects\\Unsupervised Clustering\\.venv1\\Lib\\site-packages\\joblib\\parallel.py:1682\u001B[39m, in \u001B[36mParallel._get_outputs\u001B[39m\u001B[34m(self, iterator, pre_dispatch)\u001B[39m\n\u001B[32m   1679\u001B[39m     \u001B[38;5;28;01myield\u001B[39;00m\n\u001B[32m   1681\u001B[39m     \u001B[38;5;28;01mwith\u001B[39;00m \u001B[38;5;28mself\u001B[39m._backend.retrieval_context():\n\u001B[32m-> \u001B[39m\u001B[32m1682\u001B[39m         \u001B[38;5;28;01myield from\u001B[39;00m \u001B[38;5;28mself\u001B[39m._retrieve()\n\u001B[32m   1684\u001B[39m \u001B[38;5;28;01mexcept\u001B[39;00m \u001B[38;5;167;01mGeneratorExit\u001B[39;00m:\n\u001B[32m   1685\u001B[39m     \u001B[38;5;66;03m# The generator has been garbage collected before being fully\u001B[39;00m\n\u001B[32m   1686\u001B[39m     \u001B[38;5;66;03m# consumed. This aborts the remaining tasks if possible and warn\u001B[39;00m\n\u001B[32m   1687\u001B[39m     \u001B[38;5;66;03m# the user if necessary.\u001B[39;00m\n\u001B[32m   1688\u001B[39m     \u001B[38;5;28mself\u001B[39m._exception = \u001B[38;5;28;01mTrue\u001B[39;00m\n",
      "\u001B[36mFile \u001B[39m\u001B[32m~\\PycharmProjects\\Unsupervised Clustering\\.venv1\\Lib\\site-packages\\joblib\\parallel.py:1800\u001B[39m, in \u001B[36mParallel._retrieve\u001B[39m\u001B[34m(self)\u001B[39m\n\u001B[32m   1789\u001B[39m \u001B[38;5;28;01mif\u001B[39;00m \u001B[38;5;28mself\u001B[39m.return_ordered:\n\u001B[32m   1790\u001B[39m     \u001B[38;5;66;03m# Case ordered: wait for completion (or error) of the next job\u001B[39;00m\n\u001B[32m   1791\u001B[39m     \u001B[38;5;66;03m# that have been dispatched and not retrieved yet. If no job\u001B[39;00m\n\u001B[32m   (...)\u001B[39m\u001B[32m   1795\u001B[39m     \u001B[38;5;66;03m# control only have to be done on the amount of time the next\u001B[39;00m\n\u001B[32m   1796\u001B[39m     \u001B[38;5;66;03m# dispatched job is pending.\u001B[39;00m\n\u001B[32m   1797\u001B[39m     \u001B[38;5;28;01mif\u001B[39;00m (nb_jobs == \u001B[32m0\u001B[39m) \u001B[38;5;129;01mor\u001B[39;00m (\n\u001B[32m   1798\u001B[39m         \u001B[38;5;28mself\u001B[39m._jobs[\u001B[32m0\u001B[39m].get_status(timeout=\u001B[38;5;28mself\u001B[39m.timeout) == TASK_PENDING\n\u001B[32m   1799\u001B[39m     ):\n\u001B[32m-> \u001B[39m\u001B[32m1800\u001B[39m         \u001B[43mtime\u001B[49m\u001B[43m.\u001B[49m\u001B[43msleep\u001B[49m\u001B[43m(\u001B[49m\u001B[32;43m0.01\u001B[39;49m\u001B[43m)\u001B[49m\n\u001B[32m   1801\u001B[39m         \u001B[38;5;28;01mcontinue\u001B[39;00m\n\u001B[32m   1803\u001B[39m \u001B[38;5;28;01melif\u001B[39;00m nb_jobs == \u001B[32m0\u001B[39m:\n\u001B[32m   1804\u001B[39m     \u001B[38;5;66;03m# Case unordered: jobs are added to the list of jobs to\u001B[39;00m\n\u001B[32m   1805\u001B[39m     \u001B[38;5;66;03m# retrieve `self._jobs` only once completed or in error, which\u001B[39;00m\n\u001B[32m   (...)\u001B[39m\u001B[32m   1811\u001B[39m     \u001B[38;5;66;03m# timeouts before any other dispatched job has completed and\u001B[39;00m\n\u001B[32m   1812\u001B[39m     \u001B[38;5;66;03m# been added to `self._jobs` to be retrieved.\u001B[39;00m\n",
      "\u001B[31mKeyboardInterrupt\u001B[39m: "
     ]
    }
   ],
   "execution_count": 5
  },
  {
   "metadata": {},
   "cell_type": "code",
   "source": [
    "import os\n",
    "os.cpu_count()"
   ],
   "id": "9ec1ceb7b26d16d0",
   "outputs": [],
   "execution_count": null
  },
  {
   "metadata": {},
   "cell_type": "code",
   "source": "metrics_df",
   "id": "e5998d2147d9ccb0",
   "outputs": [],
   "execution_count": null
  },
  {
   "metadata": {},
   "cell_type": "code",
   "source": "plotk(results_df, [12, 21, 26, 34, 41])",
   "id": "8f69f0ecfd8e0c54",
   "outputs": [],
   "execution_count": null
  },
  {
   "metadata": {},
   "cell_type": "code",
   "source": "plot_clustering_metrics(metrics_df)",
   "id": "b29b9b9c7ae1637d",
   "outputs": [],
   "execution_count": null
  },
  {
   "metadata": {},
   "cell_type": "code",
   "source": [
    "#Look for onset of plateau\n",
    "k_values = sorted(mean_ari.keys())\n",
    "deltas = np.diff([mean_ari[k] for k in k_values])\n",
    "\n",
    "for i, d in enumerate(deltas):\n",
    "    if abs(d) < 0.01 and all(abs(x) < 0.01 for x in deltas[i:i+3]):\n",
    "        print(f\"Stability plateaus at k ≈ {k_values[i+1]}\")\n",
    "        break"
   ],
   "id": "ac46241b4d23b039",
   "outputs": [],
   "execution_count": null
  },
  {
   "metadata": {},
   "cell_type": "code",
   "source": [
    "#Trade-off between mean and variance\n",
    "epsilon = 1e-6\n",
    "score = {k: mean_ari[k] / (std_ari[k] + epsilon) for k in mean_ari}\n",
    "best_k = max(score, key=score.get)\n",
    "print(f\"Best k by ARI-to-variance ratio: {best_k}\")"
   ],
   "id": "72d93f274ccac963",
   "outputs": [],
   "execution_count": null
  },
  {
   "metadata": {},
   "cell_type": "code",
   "source": [
    "clusterings_k21 = KM_random(SPARC_IBD_CADD15_GenePy, NOD_sig_genes9, 21, cohort_name='SPARC')\n",
    "ari_matrix_k21 = compute_ari_matrix(clusterings_k21)\n",
    "plot_ari_heatmap(ari_matrix_k21, k=21)"
   ],
   "id": "1097830b252f4def",
   "outputs": [],
   "execution_count": null
  },
  {
   "metadata": {},
   "cell_type": "code",
   "source": "clusterings_k21[1]",
   "id": "84451ee9735b710f",
   "outputs": [],
   "execution_count": null
  },
  {
   "metadata": {},
   "cell_type": "markdown",
   "source": "### K = 35",
   "id": "765cf41e46e8f303"
  },
  {
   "metadata": {},
   "cell_type": "code",
   "source": [
    "#For k = 21, silhouette score is 0.5126 and the DBI score is 0.8283\n",
    "#k = 15; silhouette score = 0.398559; DBI = 0.923939\n",
    "km_out_sparc, X = KM(SPARC_IBD_CADD15_GenePy, NOD_sig_genes9, 35)\n",
    "km_out_phen_GenePy_sparc = merge_phen_genepy(km_out_sparc, SPARC_IBD_CADD15_GenePy, X)"
   ],
   "id": "7c114ae42912c533",
   "outputs": [],
   "execution_count": null
  },
  {
   "metadata": {},
   "cell_type": "code",
   "source": "km_out_phen_GenePy",
   "id": "851f8cfd3be7dadd",
   "outputs": [],
   "execution_count": null
  },
  {
   "metadata": {},
   "cell_type": "code",
   "source": "km_out_phen_GenePy.to_csv(\"C:/Users/fvl1g23/OneDrive - University of Southampton/PhD/Projects/ML/Unsupervised ML/K-Means cluster enrichment analysis/K-Means output/SPARC_KMeans_9F_35C_NOD_2_genepy.txt\", sep='\\t', index=False)",
   "id": "f65c616eb9950c7b",
   "outputs": [],
   "execution_count": null
  },
  {
   "metadata": {},
   "cell_type": "code",
   "source": "feat_imp_sparc = KM_RF(km_out, X)",
   "id": "67610922078163ce",
   "outputs": [],
   "execution_count": null
  },
  {
   "metadata": {},
   "cell_type": "code",
   "source": "results_df = analyze_cluster_deviations(km_out_phen_GenePy, ['Diagnosis', 'Crohn s disease phenotype', 'IBD surgery final'])",
   "id": "169afb3f0fe3d929",
   "outputs": [],
   "execution_count": null
  },
  {
   "metadata": {},
   "cell_type": "code",
   "source": [
    "### NOD2 analysis\n",
    "#Sort clusters by feature importance of NOD2 CADD15 GenePy\n",
    "feat_imp_sparc[feat_imp_sparc['Feature'] == \"ENSG00000167207_NOD2_CADD15_matrix\"].sort_values(by=\"Importance\", ascending=False)"
   ],
   "id": "e7571a8734c24ff7",
   "outputs": [],
   "execution_count": null
  },
  {
   "metadata": {},
   "cell_type": "code",
   "source": "feat_imp_sparc[feat_imp_sparc['Cluster'] == 17].sort_values(by=\"Importance\", ascending=False)",
   "id": "d72c5d5b15a6893a",
   "outputs": [],
   "execution_count": null
  },
  {
   "metadata": {},
   "cell_type": "code",
   "source": [
    "#Check range of GenePy for each cluster\n",
    "km_out_phen_GenePy[km_out_phen_GenePy['Cluster'] == 1]['ENSG00000106100_NOD1_CADD15_matrix'].value_counts()"
   ],
   "id": "270e77e5b11d01a6",
   "outputs": [],
   "execution_count": null
  },
  {
   "metadata": {},
   "cell_type": "code",
   "source": [
    "#Check counts of clinical variables\n",
    "km_out_phen_GenePy_sparc[km_out_phen_GenePy_sparc['Cluster'] == 3]['Diagnosis'].value_counts()"
   ],
   "id": "91f2a7802676e1ff",
   "outputs": [],
   "execution_count": null
  },
  {
   "metadata": {},
   "cell_type": "code",
   "source": "km_out_phen_GenePy_sparc[(km_out_phen_GenePy_sparc['Cluster'] == 3) & (km_out_phen_GenePy_sparc['Diagnosis'] == \"CD\")]['Crohn s disease phenotype'].value_counts()",
   "id": "a34ade6c6b014f72",
   "outputs": [],
   "execution_count": null
  },
  {
   "metadata": {},
   "cell_type": "code",
   "source": "km_out_phen_GenePy[km_out_phen_GenePy['Cluster'] == 21].value_counts(['Diagnosis', 'Crohn s disease phenotype', \"IBD surgery final\"])",
   "id": "4da4eee62385b0fd",
   "outputs": [],
   "execution_count": null
  },
  {
   "metadata": {},
   "cell_type": "code",
   "source": [
    "#Check raw and multiple-test-corrected p-values\n",
    "results_df['Diagnosis']['p_values_chi2']#.keys()"
   ],
   "id": "8d92d813d88782da",
   "outputs": [],
   "execution_count": null
  },
  {
   "metadata": {},
   "cell_type": "code",
   "source": [
    "#Cluster 22 (n = 33)\n",
    "#NOD2 -> 96.9%; GenePy >= 0.614532\n",
    "#"
   ],
   "id": "5dfa5e5f0a0c2779",
   "outputs": [],
   "execution_count": null
  },
  {
   "metadata": {},
   "cell_type": "markdown",
   "source": "### K = 21",
   "id": "a33e4ea614d2ac81"
  },
  {
   "metadata": {},
   "cell_type": "code",
   "source": "feat_imp = KM_RF(km_out, X)",
   "id": "b3e576a5c600b8a8",
   "outputs": [],
   "execution_count": null
  },
  {
   "metadata": {},
   "cell_type": "code",
   "source": "feat_imp[feat_imp['Cluster'] == 7].sort_values(by='Importance', ascending=False)",
   "id": "919155b50c7dcd2c",
   "outputs": [],
   "execution_count": null
  },
  {
   "metadata": {},
   "cell_type": "code",
   "source": "results_df = analyze_cluster_deviations(km_out_phen_GenePy, ['Diagnosis', 'Crohn s disease phenotype', 'IBD surgery final'])",
   "id": "d253533e02a4116b",
   "outputs": [],
   "execution_count": null
  },
  {
   "metadata": {},
   "cell_type": "code",
   "source": "results_df['Diagnosis']['corr_p_values_chi2']#.keys()",
   "id": "f1813db40c0b7a4f",
   "outputs": [],
   "execution_count": null
  },
  {
   "metadata": {},
   "cell_type": "code",
   "source": [
    "#Cluster 14 - enriched for CD and depleted for UC\n",
    "#193 CD/UC patients with NOD2 GenePy within 0.2607 to 0.4545, RIPK2 GenePy =< 0.1756 (192 have a score of 0) and NOD1 within 0 and 0.394107\n",
    "SotonIBD_CADD15_GenePy['cluster 14'] = ((SotonIBD_CADD15_GenePy['ENSG00000167207_NOD2'] >= 0.260743) & (SotonIBD_CADD15_GenePy['ENSG00000167207_NOD2'] <= 0.454504) &\n",
    "                                             (SotonIBD_CADD15_GenePy['ENSG00000104312_RIPK2'] <= 0.175602) & (SotonIBD_CADD15_GenePy['ENSG00000106100_NOD1'] <= 0.394107)).astype(int)\n",
    "\n",
    "# SotonIBD_CADD15_GenePy['cluster 14'] = ((SotonIBD_CADD15_GenePy['ENSG00000167207.15_NOD2'] >= 0.260743) & (SotonIBD_CADD15_GenePy['ENSG00000167207.15_NOD2'] <= 0.454504) &\n",
    "#                                               (SotonIBD_CADD15_GenePy['ENSG00000104312.8_RIPK2'] <= 0.175602) & (SotonIBD_CADD15_GenePy['ENSG00000106100.11_NOD1'] <= 0.394107)).astype(int)"
   ],
   "id": "5f17c267c4ca3168",
   "outputs": [],
   "execution_count": null
  },
  {
   "metadata": {},
   "cell_type": "code",
   "source": [
    "#Cluster 19 is depleted for UC (n = 113)\n",
    "#NOD2 (47.15%) -> 0.132311-0.406112\n",
    "#RIPK2 (46.16%) -> 0.175602-0.490679\n",
    "#NOD1 (2.1369%) -> <= 0.127193\n",
    "SotonIBD_CADD15_GenePy['cluster 19'] = ((SotonIBD_CADD15_GenePy['ENSG00000167207_NOD2'] >= 0.132311) &\n",
    "                                               (SotonIBD_CADD15_GenePy['ENSG00000167207_NOD2'] <= 0.406112) &\n",
    "                                               #(SotonIBD_CADD15_GenePy['ENSG00000104312_RIPK2'] >= 0.175602) &\n",
    "                                               #(SotonIBD_CADD15_GenePy['ENSG00000104312_RIPK2'] <= 0.490679) &\n",
    "                                              (SotonIBD_CADD15_GenePy['ENSG00000106100_NOD1'] <= 0.127193)).astype(int)"
   ],
   "id": "76b390b3dbc10673",
   "outputs": [],
   "execution_count": null
  },
  {
   "metadata": {},
   "cell_type": "code",
   "source": [
    "#Cluster 4 is depleted for UC\n",
    "#NOD2 (96.76%) -> >= 0.732\n",
    "SotonIBD_CADD15_GenePy['cluster 4'] = (SotonIBD_CADD15_GenePy['ENSG00000167207_NOD2'] >= 0.732).astype(int)"
   ],
   "id": "b61adebd49891a4",
   "outputs": [],
   "execution_count": null
  },
  {
   "metadata": {},
   "cell_type": "code",
   "source": [
    "#Cluster 12 -> 357 patients with NOD2 0 and CHUK 0, RIPK2 0\n",
    "SotonIBD_CADD15_GenePy['cluster 12'] = ((SotonIBD_CADD15_GenePy['ENSG00000167207_NOD2'] == 0) & (SotonIBD_CADD15_GenePy['ENSG00000213341_CHUK'] == 0)\n",
    "                                            & (SotonIBD_CADD15_GenePy['ENSG00000104312_RIPK2'] == 0)).astype(int)"
   ],
   "id": "54f950f9bc5af45",
   "outputs": [],
   "execution_count": null
  },
  {
   "metadata": {},
   "cell_type": "code",
   "source": "SotonIBD_CADD15_GenePy.loc[(SotonIBD_CADD15_GenePy['ENSG00000104312_RIPK2'] >= 0.175602) & (SotonIBD_CADD15_GenePy['ENSG00000104312_RIPK2'] <= 0.490679),:].value_counts(\"ENSG00000104312_RIPK2\")",
   "id": "918db106013160f6",
   "outputs": [],
   "execution_count": null
  },
  {
   "metadata": {},
   "cell_type": "code",
   "source": [
    "cont_table = pd.crosstab(SotonIBD_CADD15_GenePy['cluster 14'], SotonIBD_CADD15_GenePy['Diagnosis'])\n",
    "#Remove IBDU\n",
    "cont_table = cont_table.iloc[:,[0,3]]\n",
    "#chi square\n",
    "chi2_stat, p_value, dof, expected = chi2_contingency(cont_table)\n",
    "p_value"
   ],
   "id": "7fda1e59cd313c63",
   "outputs": [],
   "execution_count": null
  },
  {
   "metadata": {},
   "cell_type": "code",
   "source": "cont_table",
   "id": "ed8ae5197f09dc85",
   "outputs": [],
   "execution_count": null
  },
  {
   "metadata": {},
   "cell_type": "code",
   "source": [
    "#Calculate standardised residuals\n",
    "residuals = (cont_table - expected) / np.sqrt(expected)\n",
    "\n",
    "#Two-tailed t-tests for each cell\n",
    "p_values_matrix = 2 * (1 - norm.cdf(abs(residuals)))\n",
    "\n",
    "#Multple test correction with Bejamini-Hochberg FDR\n",
    "flat_p_values = p_values_matrix.flatten()\n",
    "rejected, corrected_p_values, _, _ = multipletests(flat_p_values,\n",
    "                                                 alpha=0.05,\n",
    "                                                 method='fdr_bh')\n",
    "corrected_p_values_matrix = corrected_p_values.reshape(p_values_matrix.shape)\n",
    "corr_p_values_df = pd.DataFrame(\n",
    "            corrected_p_values_matrix,\n",
    "            index=cont_table.index,\n",
    "            columns=cont_table.columns\n",
    "        )\n",
    "\n",
    "residuals_df = pd.DataFrame(\n",
    "            residuals,\n",
    "            index=cont_table.index,\n",
    "            columns=cont_table.columns\n",
    "        )\n",
    "\n",
    "#Chi-square per cell contributions\n",
    "cell_contributions = (cont_table - expected) ** 2 / expected\n",
    "p_values_chi2 = 1 - chi2.cdf(cell_contributions, df=1)\n",
    "flat_p_values_chi2 = p_values_chi2.flatten()\n",
    "_, corrected_p_values_chi2, _, _ = multipletests(flat_p_values_chi2, alpha=0.05, method='fdr_bh')\n",
    "\n",
    "corr_p_values_chi2_df = pd.DataFrame(corrected_p_values_chi2.reshape(p_values_chi2.shape),\n",
    "                                      index=cont_table.index, columns=cont_table.columns)"
   ],
   "id": "833afacb83fe947",
   "outputs": [],
   "execution_count": null
  },
  {
   "metadata": {},
   "cell_type": "code",
   "source": [
    "#p_values_chi2\n",
    "p_values_chi2\n",
    "#corr_p_values_chi2_df"
   ],
   "id": "45cb5a4f99ab2ada",
   "outputs": [],
   "execution_count": null
  },
  {
   "metadata": {},
   "cell_type": "markdown",
   "source": "## 43 NOD Signalling Genes",
   "id": "20b74d25613710a6"
  },
  {
   "metadata": {},
   "cell_type": "code",
   "source": "results_df = KM_opt(SPARC_IBD_CADD15_GenePy, NOD_sig_genes43, 50, cohort_name='SPARC')",
   "id": "dc80b3c712131df8",
   "outputs": [],
   "execution_count": null
  },
  {
   "metadata": {},
   "cell_type": "code",
   "source": "#results_df",
   "id": "68f2aa29aa7c9f72",
   "outputs": [],
   "execution_count": null
  },
  {
   "metadata": {},
   "cell_type": "code",
   "source": "plotk(results_df, [16, 38])",
   "id": "52d915512db3cfc5",
   "outputs": [],
   "execution_count": null
  },
  {
   "metadata": {},
   "cell_type": "code",
   "source": [
    "# k = 16\n",
    "km_out, X = KM(SPARC_IBD_CADD15_GenePy, NOD_sig_genes43, 16)\n",
    "km_out_phen_GenePy = merge_phen_genepy(km_out, SPARC_IBD_CADD15_GenePy, X)"
   ],
   "id": "62894f1dd0f7a2d7",
   "outputs": [],
   "execution_count": null
  },
  {
   "metadata": {},
   "cell_type": "code",
   "source": "#km_out.value_counts()",
   "id": "cd562cf0d09387b7",
   "outputs": [],
   "execution_count": null
  },
  {
   "metadata": {},
   "cell_type": "code",
   "source": "feat_imp = KM_RF(km_out, X)",
   "id": "3707fad8d38817be",
   "outputs": [],
   "execution_count": null
  },
  {
   "metadata": {},
   "cell_type": "code",
   "source": [
    "feat_imp[feat_imp['Importance'] >= 0.1]['Feature'].unique()\n",
    "#.sort_values(by='Importance', ascending=False)"
   ],
   "id": "6d956c62dac388a8",
   "outputs": [],
   "execution_count": null
  },
  {
   "metadata": {},
   "cell_type": "code",
   "source": "feat_imp[feat_imp['Cluster'] == 13]",
   "id": "7fd83b9284c2d77d",
   "outputs": [],
   "execution_count": null
  },
  {
   "metadata": {},
   "cell_type": "code",
   "source": "km_out_phen_GenePy[km_out_phen_GenePy['Cluster'] == 10].value_counts(\"ENSG00000165416_SUGT1_CADD15_matrix\")",
   "id": "5e0e93bd98bc36c9",
   "outputs": [],
   "execution_count": null
  },
  {
   "metadata": {},
   "cell_type": "code",
   "source": "km_out_phen_GenePy[km_out_phen_GenePy['Cluster'] == 13].value_counts('Diagnosis', normalize=False)",
   "id": "6cb99c9a709c153c",
   "outputs": [],
   "execution_count": null
  },
  {
   "metadata": {},
   "cell_type": "code",
   "source": "results_df = analyze_cluster_deviations(km_out_phen_GenePy, ['Diagnosis', 'Crohn s disease phenotype', 'IBD surgery final'])",
   "id": "2a983cb96dd8a655",
   "outputs": [],
   "execution_count": null
  },
  {
   "metadata": {},
   "cell_type": "code",
   "source": "results_df['Diagnosis']['corr_p_values_chi2']",
   "id": "4476a3958b1a95a0",
   "outputs": [],
   "execution_count": null
  },
  {
   "metadata": {},
   "cell_type": "code",
   "source": "results_df['Crohn s disease phenotype']['corr_p_values_chi2']",
   "id": "ac140f694446369a",
   "outputs": [],
   "execution_count": null
  },
  {
   "metadata": {},
   "cell_type": "code",
   "source": "results_df['IBD surgery final']['corr_p_values_chi2']",
   "id": "6325dcc279fe2988",
   "outputs": [],
   "execution_count": null
  },
  {
   "metadata": {},
   "cell_type": "code",
   "source": "km_out_phen_GenePy.loc[(km_out_phen_GenePy['Cluster'] == 13) & (km_out_phen_GenePy['Diagnosis'] != \"IBDU\"),:].value_counts(\"ENSG00000132357_CARD6_CADD15_matrix\").sort_values(ascending=False)",
   "id": "cfaadef3fe68ebe9",
   "outputs": [],
   "execution_count": null
  },
  {
   "metadata": {},
   "cell_type": "code",
   "source": [
    "#Cluster 1\n",
    "#NOD2 70.22% -> 0.1323 - 0.3652\n",
    "#SUGT1 3.96% -> <= 0.2013\n",
    "#ERBIN 2.67% ->  <= 0.3058\n",
    "#MAPK12 2.09% -> <= 0.2843\n",
    "#NOD1 1.75% -> <= 0.2768\n",
    "#RELA 1.69% -> 0\n",
    "#BIRC3 1.69% -> 0\n",
    "#NLRP1 1.43% -> <= 0.2021\n",
    "#CASP8 1.32% -> <= 0.09\n",
    "SotonIBD_CADD15_GenePy['Cluster 1'] = ((SotonIBD_CADD15_GenePy['ENSG00000167207_NOD2'] >= 0.132311468176971) & (SotonIBD_CADD15_GenePy['ENSG00000167207_NOD2'] <= 0.365205488832726)\n",
    "                                       & (SotonIBD_CADD15_GenePy['ENSG00000165416_SUGT1'] <= 0.201280690665366) & (SotonIBD_CADD15_GenePy['ENSG00000112851_ERBIN'] <= 0.375835188227294)&\n",
    "                                       (SotonIBD_CADD15_GenePy['ENSG00000188130_MAPK12'] <= 0.284265744209123) & (SotonIBD_CADD15_GenePy['ENSG00000106100_NOD1'] <= 0.276787154268017) &\n",
    "                                       (SotonIBD_CADD15_GenePy['ENSG00000173039_RELA'] == 0) & (SotonIBD_CADD15_GenePy['ENSG00000023445_BIRC3'] == 0) &\n",
    "                                       (SotonIBD_CADD15_GenePy['ENSG00000091592_NLRP1'] <= 0.202101747859509)).astype(int)"
   ],
   "id": "ef60f629c23b7af8",
   "outputs": [],
   "execution_count": null
  },
  {
   "metadata": {},
   "cell_type": "code",
   "source": [
    "#Cluster 5\n",
    "#NOD2 46.21% -> 0\n",
    "#SUGT1 13.83% -> <= 0.007\n",
    "#ERBIN 5.16% -> <= 0.3254\n",
    "#MAPK12 4.22% -> <= 0.2843\n",
    "#NOD1 3.65% -> <= 0.3178\n",
    "#RELA 3.59% -> 0\n",
    "#NRLP1 3.15% -> <= 0.2021\n",
    "#CARD9 2.84% -> 0\n",
    "#BIRC3 2.31% -> 0\n",
    "#TAB1 2.12% -> 0\n",
    "#CARD8 1.77% -> 0\n",
    "#NLRP7 1.31% -> 0\n",
    "SotonIBD_CADD15_GenePy['Cluster 5'] = ((SotonIBD_CADD15_GenePy['ENSG00000167207_NOD2'] == 0) & (SotonIBD_CADD15_GenePy['ENSG00000165416_SUGT1'] <= 0.0070120773143289)\n",
    "                                       & (SotonIBD_CADD15_GenePy['ENSG00000112851_ERBIN'] <= 0.325406754325555)\n",
    "#                                       & (SotonIBD_CADD15_GenePy['ENSG00000188130_MAPK12'] <= 0.284265744209123)\n",
    "#                                       & (SotonIBD_CADD15_GenePy['ENSG00000106100_NOD1'] <= 0.317840326123237) & (SotonIBD_CADD15_GenePy['ENSG00000173039_RELA'] == 0)\n",
    "#                                       & (SotonIBD_CADD15_GenePy['ENSG00000091592_NLRP1'] <= 0.202101747859509)&(SotonIBD_CADD15_GenePy['ENSG00000187796_CARD9'] == 0) &\n",
    "#                                       (SotonIBD_CADD15_GenePy['ENSG00000023445_BIRC3'] == 0)& (SotonIBD_CADD15_GenePy['ENSG00000100324_TAB1'] == 0) &\n",
    "#                                       (SotonIBD_CADD15_GenePy['ENSG00000105483_CARD8'] == 0)\n",
    "                                       ).astype(int)"
   ],
   "id": "bac202b28400afbc",
   "outputs": [],
   "execution_count": null
  },
  {
   "metadata": {},
   "cell_type": "code",
   "source": [
    "#Cluster 13\n",
    "#NOD2 76.41% -> >= 0.3585\n",
    "#ERBIN 2.08% -> <= 0.5793\n",
    "#NOD1 1.88% -> <= 0.5118\n",
    "#CASP9 1.62% -> <= 0.6922\n",
    "#NLRP12 1.42% <= 0.4622\n",
    "#MAPK12 1.37% -> <= 0.44\n",
    "#RELA 1.17% -> <= 0.4136\n",
    "#CARD6 1.07% -> <= 0.4563\n",
    "SotonIBD_CADD15_GenePy['Cluster 13'] = ((SotonIBD_CADD15_GenePy['ENSG00000167207_NOD2'] >= 0.358468103620945) & (SotonIBD_CADD15_GenePy['ENSG00000112851_ERBIN'] <= 0.579367065203214) &\n",
    "                                        (SotonIBD_CADD15_GenePy['ENSG00000106100_NOD1'] <= 0.511821245992663) & (SotonIBD_CADD15_GenePy['ENSG00000132906_CASP9'] <= 0.692219162925112)\n",
    "                                        & (SotonIBD_CADD15_GenePy['ENSG00000142405_NLRP12'] <= 0.462179899117249)&\n",
    "                                        (SotonIBD_CADD15_GenePy['ENSG00000188130_MAPK12'] <= 0.442011527819315) & (SotonIBD_CADD15_GenePy['ENSG00000173039_RELA'] <= 0.41358255389904) &\n",
    "                                        (SotonIBD_CADD15_GenePy['ENSG00000132357_CARD6'] <= 0.456358576821125)\n",
    "                                        ).astype(int)"
   ],
   "id": "f4015be4aed9d22b",
   "outputs": [],
   "execution_count": null
  },
  {
   "metadata": {},
   "cell_type": "code",
   "source": [
    "cont_table = pd.crosstab(SotonIBD_CADD15_GenePy['Cluster 1'], SotonIBD_CADD15_GenePy['IBD Surgery'])\n",
    "#Remove IBDU\n",
    "#cont_table = cont_table.iloc[:,[0,3]]\n",
    "#chi square\n",
    "chi2_stat, p_value, dof, expected = chi2_contingency(cont_table)\n",
    "p_value"
   ],
   "id": "598a542d39f45569",
   "outputs": [],
   "execution_count": null
  },
  {
   "metadata": {},
   "cell_type": "code",
   "source": "cont_table",
   "id": "cc576bdd1395af32",
   "outputs": [],
   "execution_count": null
  },
  {
   "metadata": {},
   "cell_type": "code",
   "source": [
    "#Calculate standardised residuals\n",
    "residuals = (cont_table - expected) / np.sqrt(expected)\n",
    "\n",
    "#Two-tailed t-tests for each cell\n",
    "p_values_matrix = 2 * (1 - norm.cdf(abs(residuals)))\n",
    "\n",
    "#Multple test correction with Bejamini-Hochberg FDR\n",
    "flat_p_values = p_values_matrix.flatten()\n",
    "rejected, corrected_p_values, _, _ = multipletests(flat_p_values,\n",
    "                                                 alpha=0.05,\n",
    "                                                 method='fdr_bh')\n",
    "corrected_p_values_matrix = corrected_p_values.reshape(p_values_matrix.shape)\n",
    "corr_p_values_df = pd.DataFrame(\n",
    "            corrected_p_values_matrix,\n",
    "            index=cont_table.index,\n",
    "            columns=cont_table.columns\n",
    "        )\n",
    "\n",
    "residuals_df = pd.DataFrame(\n",
    "            residuals,\n",
    "            index=cont_table.index,\n",
    "            columns=cont_table.columns\n",
    "        )\n",
    "\n",
    "#Chi-square per cell contributions\n",
    "cell_contributions = (cont_table - expected) ** 2 / expected\n",
    "p_values_chi2 = 1 - chi2.cdf(cell_contributions, df=1)\n",
    "flat_p_values_chi2 = p_values_chi2.flatten()\n",
    "_, corrected_p_values_chi2, _, _ = multipletests(flat_p_values_chi2, alpha=0.05, method='fdr_bh')\n",
    "\n",
    "corr_p_values_chi2_df = pd.DataFrame(corrected_p_values_chi2.reshape(p_values_chi2.shape),\n",
    "                                      index=cont_table.index, columns=cont_table.columns)\n",
    "corr_p_values_chi2_df"
   ],
   "id": "663acc0e4ff9525e",
   "outputs": [],
   "execution_count": null
  },
  {
   "metadata": {},
   "cell_type": "code",
   "source": [
    "# k = 38\n",
    "km_out, X = KM(SPARC_IBD_CADD15_GenePy, NOD_sig_genes43, 38)\n",
    "km_out_phen_GenePy = merge_phen_genepy(km_out, SPARC_IBD_CADD15_GenePy, X)"
   ],
   "id": "4ccef20930f478ad",
   "outputs": [],
   "execution_count": null
  },
  {
   "metadata": {},
   "cell_type": "code",
   "source": "km_out.value_counts()",
   "id": "8cffdc05a7c8da8e",
   "outputs": [],
   "execution_count": null
  },
  {
   "metadata": {},
   "cell_type": "code",
   "source": "results_df = analyze_cluster_deviations(km_out_phen_GenePy, ['Diagnosis', 'Crohn s disease phenotype', 'IBD surgery final'])",
   "id": "978f4040a14ed49e",
   "outputs": [],
   "execution_count": null
  },
  {
   "metadata": {},
   "cell_type": "code",
   "source": "results_df['Crohn s disease phenotype']['overall_p_value']",
   "id": "3d6646fb3b88cade",
   "outputs": [],
   "execution_count": null
  },
  {
   "metadata": {},
   "cell_type": "code",
   "source": "results_df['Diagnosis'].keys()",
   "id": "42a253083e91b827",
   "outputs": [],
   "execution_count": null
  },
  {
   "metadata": {},
   "cell_type": "markdown",
   "source": "## Other Pathways",
   "id": "f5f70d5f0cc0d0c1"
  },
  {
   "metadata": {},
   "cell_type": "code",
   "source": "results_df = KM_opt(SPARC_IBD_CADD15_GenePy, NADPH_genes_36, 50, cohort_name='SPARC')",
   "id": "1876c4b424e546ee",
   "outputs": [],
   "execution_count": null
  },
  {
   "metadata": {},
   "cell_type": "code",
   "source": "results_df",
   "id": "89202a43ae26e0c7",
   "outputs": [],
   "execution_count": null
  },
  {
   "metadata": {},
   "cell_type": "code",
   "source": "plotk(results_df)",
   "id": "2318d452bd1fd7fe",
   "outputs": [],
   "execution_count": null
  },
  {
   "metadata": {},
   "cell_type": "code",
   "source": [
    "#k = 32\n",
    "km_out, X = KM(SPARC_IBD_CADD15_GenePy, NADPH_genes_36, 24)\n",
    "km_out_phen_GenePy = merge_phen_genepy(km_out, SPARC_IBD_CADD15_GenePy, X)\n"
   ],
   "id": "bd77bca382fc2093",
   "outputs": [],
   "execution_count": null
  },
  {
   "metadata": {},
   "cell_type": "code",
   "source": "#km_out_phen_GenePy.to_csv(\"C:/Users/fvl1g23/OneDrive - University of Southampton/PhD/Projects/ML/Unsupervised ML/K-Means cluster enrichment analysis/K-Means output/SPARC_KMeans_30F_32C_JAK_STAT_genepy.txt\", sep='\\t', index=False)",
   "id": "a9a17ace3c086859",
   "outputs": [],
   "execution_count": null
  },
  {
   "metadata": {},
   "cell_type": "code",
   "source": [
    "results_df = analyze_cluster_deviations(km_out_phen_GenePy, ['Diagnosis', 'Crohn s disease phenotype', 'IBD surgery final'])\n",
    "print(results_df['Diagnosis']['overall_p_value'])\n",
    "print(results_df['Crohn s disease phenotype']['overall_p_value'])\n",
    "print(results_df['IBD surgery final']['overall_p_value'])"
   ],
   "id": "3821591bdd16d8e8",
   "outputs": [],
   "execution_count": null
  },
  {
   "metadata": {},
   "cell_type": "markdown",
   "source": "## 34 Consensus IBD Genes",
   "id": "dbf59eb7f46e4a71"
  },
  {
   "metadata": {},
   "cell_type": "code",
   "source": "results_df = KM_opt(SPARC_IBD_CADD15_GenePy, IBD_union_genes_sparc, 50, cohort_name='SPARC')",
   "id": "63b654dfa70dddd6",
   "outputs": [],
   "execution_count": null
  },
  {
   "metadata": {},
   "cell_type": "code",
   "source": "plotk(results_df, [28, 35, 40])",
   "id": "eb244928305f4299",
   "outputs": [],
   "execution_count": null
  },
  {
   "metadata": {},
   "cell_type": "code",
   "source": [
    "# k = 40\n",
    "km_out, X = KM(SPARC_IBD_CADD15_GenePy, IBD_union_genes_sparc, 40)\n",
    "km_out_phen_GenePy = merge_phen_genepy(km_out, SPARC_IBD_CADD15_GenePy, X)"
   ],
   "id": "d926764ac48b89b3",
   "outputs": [],
   "execution_count": null
  },
  {
   "metadata": {},
   "cell_type": "code",
   "source": "km_out_phen_GenePy[km_out_phen_GenePy['Cluster'] == 17].value_counts('Crohn s disease phenotype', normalize=True)",
   "id": "b94c07650b9c40b",
   "outputs": [],
   "execution_count": null
  },
  {
   "metadata": {},
   "cell_type": "code",
   "source": "km_out_phen_GenePy.value_counts('Crohn s disease phenotype', normalize=True)",
   "id": "ef764747ccd02eed",
   "outputs": [],
   "execution_count": null
  },
  {
   "metadata": {},
   "cell_type": "code",
   "source": "feat_imp = KM_RF(km_out, X)",
   "id": "bf1bea7b49955331",
   "outputs": [],
   "execution_count": null
  },
  {
   "metadata": {},
   "cell_type": "code",
   "source": [
    "#len(feat_imp[feat_imp['Importance'] >= 0.1]['Feature'].unique())\n",
    "feat_imp[feat_imp['Cluster'] == 22]"
   ],
   "id": "f1a46b1eae5541c1",
   "outputs": [],
   "execution_count": null
  },
  {
   "metadata": {},
   "cell_type": "code",
   "source": "results_chi2 = analyze_cluster_deviations(km_out_phen_GenePy, ['Diagnosis', 'Crohn s disease phenotype', 'IBD surgery final'])",
   "id": "70bc7656444e3903",
   "outputs": [],
   "execution_count": null
  },
  {
   "metadata": {},
   "cell_type": "code",
   "source": "results_chi2['Diagnosis']['p_values_chi2']",
   "id": "c50bbc2839b206a9",
   "outputs": [],
   "execution_count": null
  },
  {
   "metadata": {},
   "cell_type": "code",
   "source": "results_chi2['Diagnosis']['residuals']",
   "id": "508fb5b90317a76a",
   "outputs": [],
   "execution_count": null
  },
  {
   "metadata": {},
   "cell_type": "code",
   "source": "results_chi2['Crohn s disease phenotype']['p_values_chi2']",
   "id": "aeffdc525c059f37",
   "outputs": [],
   "execution_count": null
  },
  {
   "metadata": {},
   "cell_type": "code",
   "source": "results_chi2['Crohn s disease phenotype']['residuals']",
   "id": "35deaa7f6900b004",
   "outputs": [],
   "execution_count": null
  },
  {
   "metadata": {},
   "cell_type": "code",
   "source": "results_chi2['IBD surgery final']['p_values_chi2']",
   "id": "56f4ced2c90c9be2",
   "outputs": [],
   "execution_count": null
  },
  {
   "metadata": {},
   "cell_type": "code",
   "source": "results_chi2['Diagnosis'].keys()",
   "id": "e8e5f36e14f41ec8",
   "outputs": [],
   "execution_count": null
  },
  {
   "metadata": {},
   "cell_type": "markdown",
   "source": "# Southampton IBD",
   "id": "977b4a372631444c"
  },
  {
   "metadata": {},
   "cell_type": "markdown",
   "source": "## NOD2",
   "id": "34076eb6b156ab1b"
  },
  {
   "metadata": {},
   "cell_type": "code",
   "source": "results_df = KM_opt(SotonIBD_CADD15_GenePy, NOD2_gene, 50, cohort_name='Soton')",
   "id": "afdf890c943017bd",
   "outputs": [],
   "execution_count": null
  },
  {
   "metadata": {},
   "cell_type": "code",
   "source": "results_df",
   "id": "287fb8148a28b881",
   "outputs": [],
   "execution_count": null
  },
  {
   "metadata": {},
   "cell_type": "code",
   "source": "plotk(results_df, [13, 20, 38])",
   "id": "ad700a4c6fc7a56",
   "outputs": [],
   "execution_count": null
  },
  {
   "metadata": {},
   "cell_type": "code",
   "source": [
    "#k = 13\n",
    "km_out, X = KM(SotonIBD_CADD15_GenePy, NOD2_gene, 13, \"Soton\")\n",
    "km_out_phen_GenePy = merge_phen_genepy(km_out, SotonIBD_CADD15_GenePy, X, \"Soton\")"
   ],
   "id": "feaf8284d100e66c",
   "outputs": [],
   "execution_count": null
  },
  {
   "metadata": {},
   "cell_type": "code",
   "source": "km_out_phen_GenePy.to_csv(\"C:/Users/fvl1g23/OneDrive - University of Southampton/PhD/Projects/ML/Unsupervised ML/K-Means cluster enrichment analysis/K-Means output/Soton_KMeans_NOD2_13C_genepy.txt\", sep='\\t', index=False)",
   "id": "843fd3302f0e5e3a",
   "outputs": [],
   "execution_count": null
  },
  {
   "metadata": {},
   "cell_type": "code",
   "source": [
    "results_df = analyze_cluster_deviations(km_out_phen_GenePy, ['Diagnosis', 'IBD phenotype', 'IBD Surgery', 'Granuloma'])\n",
    "print(results_df['Diagnosis']['overall_p_value'])\n",
    "print(results_df['IBD phenotype']['overall_p_value'])\n",
    "print(results_df['IBD Surgery']['overall_p_value'])\n",
    "print(results_df['Granuloma']['overall_p_value'])"
   ],
   "id": "769715196052b518",
   "outputs": [],
   "execution_count": null
  },
  {
   "metadata": {},
   "cell_type": "code",
   "source": [
    "#Check range of GenePy for each cluster\n",
    "km_out_phen_GenePy[km_out_phen_GenePy['Cluster'] ==5 ]['ENSG00000167207.15_NOD2'].value_counts()"
   ],
   "id": "871fea245e245efb",
   "outputs": [],
   "execution_count": null
  },
  {
   "metadata": {},
   "cell_type": "code",
   "source": [
    "#Check counts of clinical variables\n",
    "km_out_phen_GenePy[km_out_phen_GenePy['Cluster'] == 5]['Diagnosis'].value_counts()"
   ],
   "id": "e1ce0e8091b2eecd",
   "outputs": [],
   "execution_count": null
  },
  {
   "metadata": {},
   "cell_type": "code",
   "source": "km_out_phen_GenePy[(km_out_phen_GenePy['Cluster'] == 12) & (km_out_phen_GenePy['Diagnosis'] == \"CD\")]['IBD phenotype'].value_counts()\n",
   "id": "c5a79c3ccc2f40da",
   "outputs": [],
   "execution_count": null
  },
  {
   "metadata": {},
   "cell_type": "markdown",
   "source": "## 9 NOD Signalling Genes",
   "id": "ec0f15bfa96fba6a"
  },
  {
   "metadata": {},
   "cell_type": "code",
   "source": "results_df = KM_opt(SotonIBD_CADD15_GenePy, NOD_sig_genes9, 50, cohort_name='Soton')",
   "id": "c3c232c1992bc971",
   "outputs": [],
   "execution_count": null
  },
  {
   "metadata": {},
   "cell_type": "code",
   "source": "results_df",
   "id": "f98b09bc9b282c28",
   "outputs": [],
   "execution_count": null
  },
  {
   "metadata": {},
   "cell_type": "code",
   "source": "plotk(results_df,[21, 25, 32])",
   "id": "9890d938648662de",
   "outputs": [],
   "execution_count": null
  },
  {
   "metadata": {},
   "cell_type": "markdown",
   "source": "### K = 32",
   "id": "68245f97b090794e"
  },
  {
   "metadata": {},
   "cell_type": "code",
   "source": [
    "#k = 32\n",
    "km_out, X = KM(SotonIBD_CADD15_GenePy, NOD_sig_genes9, 32, \"Soton\")\n",
    "km_out_phen_GenePy = merge_phen_genepy(km_out, SotonIBD_CADD15_GenePy, X, \"Soton\")\n",
    "#km_out_phen_GenePy.to_csv(\"C:/Users/fvl1g23/OneDrive - University of Southampton/PhD/Projects/ML/Unsupervised ML/K-Means cluster enrichment analysis/K-Means output/Soton_KMeans_9F_32C_NOD_2_genepy.txt\", sep='\\t', index=False)"
   ],
   "id": "77605e5c5925690d",
   "outputs": [],
   "execution_count": null
  },
  {
   "metadata": {},
   "cell_type": "code",
   "source": "km_out_phen_GenePy",
   "id": "8dd83a02859acc1c",
   "outputs": [],
   "execution_count": null
  },
  {
   "metadata": {},
   "cell_type": "code",
   "source": "feat_imp = KM_RF(km_out, X)",
   "id": "536e147f26a9776d",
   "outputs": [],
   "execution_count": null
  },
  {
   "metadata": {},
   "cell_type": "code",
   "source": "results_df = analyze_cluster_deviations(km_out_phen_GenePy, ['Diagnosis', 'IBD phenotype', 'IBD Surgery', 'Granuloma'])",
   "id": "c46d4ce86c6e9c21",
   "outputs": [],
   "execution_count": null
  },
  {
   "metadata": {},
   "cell_type": "code",
   "source": "results_df['Diagnosis']['overall_p_value']",
   "id": "3a1749f0e333c32d",
   "outputs": [],
   "execution_count": null
  },
  {
   "metadata": {},
   "cell_type": "code",
   "source": "results_df['IBD phenotype']['residuals']#.keys()",
   "id": "97a2f790dc8f3f78",
   "outputs": [],
   "execution_count": null
  },
  {
   "metadata": {},
   "cell_type": "code",
   "source": [
    "### NOD2 analysis\n",
    "#Sort clusters by feature importance of NOD2 CADD15 GenePy\n",
    "feat_imp[feat_imp['Feature'] == \"ENSG00000167207.15_NOD2\"].sort_values(by=\"Importance\", ascending=False)"
   ],
   "id": "bed5dec53808737d",
   "outputs": [],
   "execution_count": null
  },
  {
   "metadata": {},
   "cell_type": "code",
   "source": "feat_imp[feat_imp['Cluster'] == 17].sort_values(by=\"Importance\", ascending=False)",
   "id": "399401b708bf9457",
   "outputs": [],
   "execution_count": null
  },
  {
   "metadata": {},
   "cell_type": "code",
   "source": [
    "#Check range of GenePy for each cluster\n",
    "km_out_phen_GenePy[km_out_phen_GenePy['Cluster'] == 9]['ENSG00000187796.16_CARD9'].value_counts()"
   ],
   "id": "df77e7bd6c1010e7",
   "outputs": [],
   "execution_count": null
  },
  {
   "metadata": {},
   "cell_type": "code",
   "source": [
    "#Check counts of clinical variables\n",
    "km_out_phen_GenePy[km_out_phen_GenePy['Cluster'] == 20]['Diagnosis'].value_counts()"
   ],
   "id": "7bb6389f6e96e534",
   "outputs": [],
   "execution_count": null
  },
  {
   "metadata": {},
   "cell_type": "code",
   "source": "km_out_phen_GenePy[(km_out_phen_GenePy['Cluster'] == 7) & (km_out_phen_GenePy['Diagnosis'] == \"CD\")]['IBD phenotype'].value_counts()\n",
   "id": "b85cd8bc82e01e73",
   "outputs": [],
   "execution_count": null
  },
  {
   "metadata": {},
   "cell_type": "code",
   "source": "km_out_phen_GenePy[km_out_phen_GenePy['Cluster'] == 21].value_counts(['Diagnosis', 'Crohn s disease phenotype', \"IBD surgery final\"])",
   "id": "6a4371a886a83514",
   "outputs": [],
   "execution_count": null
  },
  {
   "metadata": {},
   "cell_type": "code",
   "source": [
    "#Check raw and multiple-test-corrected p-values\n",
    "results_df['Granuloma']['overall_p_value']#.keys()"
   ],
   "id": "7fe394ac1e2818b0",
   "outputs": [],
   "execution_count": null
  }
 ],
 "metadata": {
  "kernelspec": {
   "display_name": "Python 3",
   "language": "python",
   "name": "python3"
  },
  "language_info": {
   "codemirror_mode": {
    "name": "ipython",
    "version": 2
   },
   "file_extension": ".py",
   "mimetype": "text/x-python",
   "name": "python",
   "nbconvert_exporter": "python",
   "pygments_lexer": "ipython2",
   "version": "2.7.6"
  }
 },
 "nbformat": 4,
 "nbformat_minor": 5
}
