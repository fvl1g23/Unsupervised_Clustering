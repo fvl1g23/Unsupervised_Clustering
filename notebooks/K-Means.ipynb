{
 "cells": [
  {
   "metadata": {},
   "cell_type": "markdown",
   "source": "# Imports",
   "id": "1fe393585e6185ce"
  },
  {
   "metadata": {},
   "cell_type": "markdown",
   "source": "## Import Packages",
   "id": "7b456d247bb75ab7"
  },
  {
   "cell_type": "code",
   "id": "initial_id",
   "metadata": {
    "collapsed": true,
    "ExecuteTime": {
     "end_time": "2025-08-07T15:50:19.301775Z",
     "start_time": "2025-08-07T15:50:15.396287Z"
    }
   },
   "source": [
    "import pandas as pd\n",
    "import numpy as np\n",
    "from scipy.stats import chi2_contingency, norm, chi2\n",
    "from statsmodels.stats.multitest import multipletests\n",
    "import matplotlib.pyplot as plt"
   ],
   "outputs": [],
   "execution_count": 1
  },
  {
   "metadata": {},
   "cell_type": "markdown",
   "source": "## Import Functions",
   "id": "7a5c6fff3c8e9364"
  },
  {
   "metadata": {
    "ExecuteTime": {
     "end_time": "2025-08-07T15:50:20.406383Z",
     "start_time": "2025-08-07T15:50:19.309101Z"
    }
   },
   "cell_type": "code",
   "source": [
    "from src.K_Means_optimisation_GenePy import KM_opt, KM_opt_stabl, KM, KM_random, compute_ari_matrix, KM_RF, merge_phen_genepy, compute_clustering_metrics\n",
    "from src.cluster_enrichment_analysis import analyze_cluster_deviations\n",
    "from src.Plotting import plotk, plot_ari_heatmap, plot_clustering_metrics"
   ],
   "id": "63a8c61a629ebc1b",
   "outputs": [],
   "execution_count": 2
  },
  {
   "metadata": {},
   "cell_type": "markdown",
   "source": "## Import SPARC IBD CADD15 GenePy Matrix",
   "id": "d9dcb5f2b4d26f06"
  },
  {
   "metadata": {
    "ExecuteTime": {
     "end_time": "2025-08-07T15:38:28.936534Z",
     "start_time": "2025-08-07T15:38:12.748578Z"
    }
   },
   "cell_type": "code",
   "source": [
    "#Import SPARC IBD CADD15 GenePy matrix\n",
    "SPARC_IBD_CADD15_GenePy = pd.read_table(\"C:/Users/fvl1g23/OneDrive - University of Southampton/PhD/Projects/ML/IBD Data/IBD Plexus/GenePy/sparc_ibd_ccds_CADD15_merged_filt_mmscaled.matrix\")\n",
    "\n",
    "#Set samid as index\n",
    "SPARC_IBD_CADD15_GenePy = SPARC_IBD_CADD15_GenePy.set_index(\"samid\")"
   ],
   "id": "d60dae24626ad184",
   "outputs": [],
   "execution_count": 3
  },
  {
   "metadata": {},
   "cell_type": "markdown",
   "source": "## Import Southampton IBD CADD15 GenePy Matrix",
   "id": "45ad9021060f275b"
  },
  {
   "metadata": {
    "ExecuteTime": {
     "end_time": "2025-08-07T15:38:36.209242Z",
     "start_time": "2025-08-07T15:38:28.959089Z"
    }
   },
   "cell_type": "code",
   "source": [
    "# Import Soton Local IBD CADD15 GenePy matrix\n",
    "#dtype_dict = {\"Gender\": \"object\", \"Age at diagnosis\": \"float64\",\n",
    "#              'Diagnosis': \"object\", \"Stricturing\": \"object\", \"Fistulating\": \"object\",\n",
    "#              'Granuloma': \"object\", 'IBD Surgery': 'int64', 'IBD phenotype': 'object'}\n",
    "\n",
    "SotonIBD_CADD15_GenePy = pd.read_table(\"C:/Users/fvl1g23/OneDrive - University of Southampton/PhD/Projects/ML/IBD Data/Soton Local IBD/GenePy/jcmar24_IBD_CADD15_merged_filt_mmscaled.matrix\"\n",
    "                                       #,dtype=dtype_dict\n",
    "                                       )\n",
    "\n",
    "#Set samid as index\n",
    "SotonIBD_CADD15_GenePy = SotonIBD_CADD15_GenePy.set_index(\"Samid\")\n",
    "\n",
    "#SotonIBD_CADD15_GenePy = SotonIBD_CADD15_GenePy[SotonIBD_CADD15_GenePy['Diagnosis'] != \"NOT_IBD\"]"
   ],
   "id": "2dd97f4fa40cef9e",
   "outputs": [],
   "execution_count": 4
  },
  {
   "metadata": {},
   "cell_type": "markdown",
   "source": "## Import Mt Sinai IBD CADD15 GenePy Matrix",
   "id": "64b41030cabed393"
  },
  {
   "metadata": {
    "ExecuteTime": {
     "end_time": "2025-08-07T15:50:28.985831Z",
     "start_time": "2025-08-07T15:50:21.563050Z"
    }
   },
   "cell_type": "code",
   "source": [
    "MSCCR_IBD_CADD15_GenePy = pd.read_table(\"C:/Users/fvl1g23/OneDrive - University of Southampton/PhD/Projects/ML/IBD Data/Mt Sinai/GenePy/jcJul25_Sinai_ccds_merged_subset_CADD15.mmscaled.matrix\")\n",
    "\n",
    "#Set samid as index\n",
    "MSCCR_IBD_CADD15_GenePy = MSCCR_IBD_CADD15_GenePy.set_index(\"sample_ids\")"
   ],
   "id": "1ee5cd809782bed3",
   "outputs": [],
   "execution_count": 3
  },
  {
   "metadata": {},
   "cell_type": "markdown",
   "source": "## Import Gene Lists",
   "id": "701551395d5fc571"
  },
  {
   "metadata": {
    "ExecuteTime": {
     "end_time": "2025-08-07T15:50:29.075747Z",
     "start_time": "2025-08-07T15:50:28.997056Z"
    }
   },
   "cell_type": "code",
   "source": [
    "NOD_sig_genes9 = pd.read_table(\"C:/Users/fvl1g23/OneDrive - University of Southampton/PhD/Projects/ML/Gene lists/NOD_sig_genes9.txt\")\n",
    "NOD_sig_genes13 = pd.read_table(\"C:/Users/fvl1g23/OneDrive - University of Southampton/PhD/Projects/ML/Gene lists/NOD_sig_genes13.txt\")\n",
    "NOD_sig_genes43 = pd.read_table(\"C:/Users/fvl1g23/OneDrive - University of Southampton/PhD/Projects/ML/Gene lists/NOD_sig_genes43.txt\")\n",
    "JAK_STAT_sig_genes_30 = pd.read_table(\"C:/Users/fvl1g23/OneDrive - University of Southampton/PhD/Projects/ML/Gene lists/JAK_STAT_sig_genes30.txt\")\n",
    "IL10_sig_genes_49 = pd.read_table(\"C:/Users/fvl1g23/OneDrive - University of Southampton/PhD/Projects/ML/Gene lists/IL10_sig_genes49.txt\")\n",
    "IL23_sig_genes_20 = pd.read_table(\"C:/Users/fvl1g23/OneDrive - University of Southampton/PhD/Projects/ML/Gene lists/IL23_genes20.txt\")\n",
    "Th17_sig_genes_11 = pd.read_table(\"C:/Users/fvl1g23/OneDrive - University of Southampton/PhD/Projects/ML/Gene lists/Th17_genes11.txt\") #All of these genes are in the list of 20 IL-23 signalling genes\n",
    "NADPH_genes_12 = pd.read_table(\"C:/Users/fvl1g23/OneDrive - University of Southampton/PhD/Projects/ML/Gene lists/NADPH_sig_genes12.txt\")\n",
    "NADPH_genes_36 = pd.read_table(\"C:/Users/fvl1g23/OneDrive - University of Southampton/PhD/Projects/ML/Gene lists/NADPH_sig_genes36.txt\")"
   ],
   "id": "bcbec879fb842d59",
   "outputs": [],
   "execution_count": 4
  },
  {
   "metadata": {},
   "cell_type": "code",
   "source": [
    "NOD2_gene = NOD_sig_genes9.loc[NOD_sig_genes9['Gene name'] == 'NOD2',:]\n",
    "NOD_sig_genes9_noNOD2 = NOD_sig_genes9.loc[NOD_sig_genes9['Gene name'] != 'NOD2',:]"
   ],
   "id": "95e2dc313f097ada",
   "outputs": [],
   "execution_count": null
  },
  {
   "metadata": {},
   "cell_type": "markdown",
   "source": "### IBD Consensus Pathways",
   "id": "94055b9ea6b78fc0"
  },
  {
   "metadata": {},
   "cell_type": "code",
   "source": [
    "IBD_consensus_paths = pd.read_table(\"C:/Users/fvl1g23/OneDrive - University of Southampton/PhD/Progression Reviews/Confirmation Progression Review/Supp material/Consensus IBD pathway genes.txt\")\n",
    "IBD_union_genes = IBD_consensus_paths.loc[(IBD_consensus_paths['NOD signalling consensus 2'] == 1) | (IBD_consensus_paths['IL-10 signalling consensus 2'] == 1) | (IBD_consensus_paths['IL-23 signalling consensus 2'] == 1) |\n",
    "(IBD_consensus_paths['Th17 differentiation consensus 2']) | (IBD_consensus_paths['JAK-STAT consensus 2'] == 1) | (IBD_consensus_paths['NADPH oxidases consensus 2'] == 1),:]\n",
    "IBD_union_genes = IBD_union_genes.iloc[:,list(range(0,4)) + [11] + [13] + [15] +[17] + [19] + [21]]\n",
    "IBD_union_genes.loc[IBD_union_genes['Gene name'] == 'NOXO1', 'Gene stable ID'] = \"ENSG00000196408\""
   ],
   "id": "3cb6ee69b8d8c0fe",
   "outputs": [],
   "execution_count": null
  },
  {
   "metadata": {},
   "cell_type": "code",
   "source": [
    "IBD_union_genes['GenePy gene'] = IBD_union_genes['Gene stable ID'] + \"_\" + IBD_union_genes['Gene name'] + \"_CADD15_matrix\"\n",
    "IBD_union_genes_sparc = IBD_union_genes.loc[:,['Gene stable ID', 'Gene name', 'GenePy gene']]"
   ],
   "id": "cd607e9d80317025",
   "outputs": [],
   "execution_count": null
  },
  {
   "metadata": {},
   "cell_type": "code",
   "source": "IBD_union_genes_sparc.to_csv(\"C:/Users/fvl1g23/OneDrive - University of Southampton/PhD/Projects/ML/Gene lists/IBD_union_genes.txt\", index=False, sep='\\t')",
   "id": "65d847039d8c55cc",
   "outputs": [],
   "execution_count": null
  },
  {
   "metadata": {},
   "cell_type": "markdown",
   "source": "# SPARC IBD",
   "id": "46242c8d1f2fac41"
  },
  {
   "metadata": {},
   "cell_type": "markdown",
   "source": "## NOD2",
   "id": "cf6e5326c462e7cc"
  },
  {
   "metadata": {},
   "cell_type": "code",
   "source": "results_df = KM_opt(SPARC_IBD_CADD15_GenePy, NOD2_gene, 50, cohort_name='SPARC')",
   "id": "650232dfbd82a744",
   "outputs": [],
   "execution_count": null
  },
  {
   "metadata": {},
   "cell_type": "code",
   "source": "plotk(results_df, [18,37, 47])",
   "id": "883611fbe71f3afd",
   "outputs": [],
   "execution_count": null
  },
  {
   "metadata": {},
   "cell_type": "code",
   "source": [
    "#k = 18\n",
    "km_out, X = KM(SPARC_IBD_CADD15_GenePy, NOD2_gene, 18)\n",
    "km_out_phen_GenePy = merge_phen_genepy(km_out, SPARC_IBD_CADD15_GenePy, X)"
   ],
   "id": "d5141f2b21272096",
   "outputs": [],
   "execution_count": null
  },
  {
   "metadata": {},
   "cell_type": "code",
   "source": [
    "#Get list of patients with no NOD2 signal\n",
    "SPARC_GenePy_0_NOD2_samid = km_out_phen_GenePy[km_out_phen_GenePy['Cluster'] == 1]['Samid']\n",
    "SPARC_GenePy_0_NOD2_samid"
   ],
   "id": "99bd7bdf6948a33f",
   "outputs": [],
   "execution_count": null
  },
  {
   "metadata": {},
   "cell_type": "code",
   "source": "km_out_phen_GenePy.to_csv(\"C:/Users/fvl1g23/OneDrive - University of Southampton/PhD/Projects/ML/Unsupervised ML/K-Means cluster enrichment analysis/K-Means output/SPARC_KMeans_NOD2_18C_genepy.txt\", sep='\\t', index=False)",
   "id": "95f420a47855d540",
   "outputs": [],
   "execution_count": null
  },
  {
   "metadata": {},
   "cell_type": "code",
   "source": [
    "results_df = analyze_cluster_deviations(km_out_phen_GenePy, ['Diagnosis', 'Crohn s disease phenotype', 'IBD surgery final'])\n",
    "print(results_df['Diagnosis']['overall_p_value'])\n",
    "print(results_df['Crohn s disease phenotype']['overall_p_value'])\n",
    "print(results_df['IBD surgery final']['overall_p_value'])"
   ],
   "id": "6fecd28402e61ef9",
   "outputs": [],
   "execution_count": null
  },
  {
   "metadata": {},
   "cell_type": "code",
   "source": "results_df['IBD surgery final']['corr_p_values_chi2'] #.keys()",
   "id": "86a97f48e568295e",
   "outputs": [],
   "execution_count": null
  },
  {
   "metadata": {},
   "cell_type": "code",
   "source": [
    "#Check range of GenePy for each cluster\n",
    "km_out_phen_GenePy[km_out_phen_GenePy['Cluster'] == 10]['ENSG00000167207_NOD2_CADD15_matrix'].value_counts()"
   ],
   "id": "bd92a84882a42a02",
   "outputs": [],
   "execution_count": null
  },
  {
   "metadata": {},
   "cell_type": "code",
   "source": [
    "#Check counts of clinical variables\n",
    "km_out_phen_GenePy[km_out_phen_GenePy['Cluster'] == 10]['Diagnosis'].value_counts()"
   ],
   "id": "4c3205c368c78487",
   "outputs": [],
   "execution_count": null
  },
  {
   "metadata": {},
   "cell_type": "code",
   "source": "km_out_phen_GenePy[(km_out_phen_GenePy['Cluster'] == 3) & (km_out_phen_GenePy['Diagnosis'] == \"CD\")]['Crohn s disease phenotype'].value_counts()",
   "id": "17014835938c2039",
   "outputs": [],
   "execution_count": null
  },
  {
   "metadata": {},
   "cell_type": "markdown",
   "source": "## 9 NOD Signalling Genes",
   "id": "1f341e9070ca9710"
  },
  {
   "metadata": {},
   "cell_type": "code",
   "source": [
    "#Optimise k based on silhouette score and DBI\n",
    "results_df = KM_opt(SPARC_IBD_CADD15_GenePy, NOD_sig_genes9, 50, cohort_name='SPARC')"
   ],
   "id": "11088665d33b7eea",
   "outputs": [],
   "execution_count": null
  },
  {
   "metadata": {},
   "cell_type": "code",
   "source": "results_df",
   "id": "9dbfa07e9552f5af",
   "outputs": [],
   "execution_count": null
  },
  {
   "metadata": {},
   "cell_type": "code",
   "source": "plotk(results_df, [12,21, 34])",
   "id": "402ac2ddcf010f32",
   "outputs": [],
   "execution_count": null
  },
  {
   "metadata": {},
   "cell_type": "code",
   "source": [
    "#Optimise k based on silhouette score, DBI, and ARI\n",
    "#metrics_df = compute_clustering_metrics(SPARC_IBD_CADD15_GenePy, NOD_sig_genes9, 50, \"SPARC\", n_iter=100)\n",
    "#metrics_df.to_csv(\"C:/Users/fvl1g23/OneDrive - University of Southampton/PhD/Projects/ML/Unsupervised ML/K-Means Paper/SPARC_NODsig9_clustering_metrics.txt\", sep=\"\\t\", index=False)\n",
    "metrics_df=pd.read_table(\"C:/Users/fvl1g23/OneDrive - University of Southampton/PhD/Projects/ML/Unsupervised ML/K-Means Paper/SPARC_NODsig9_clustering_metrics.txt\", index_col=None)"
   ],
   "id": "24f3be42495491f9",
   "outputs": [],
   "execution_count": null
  },
  {
   "metadata": {},
   "cell_type": "code",
   "source": "metrics_df",
   "id": "e5998d2147d9ccb0",
   "outputs": [],
   "execution_count": null
  },
  {
   "metadata": {},
   "cell_type": "code",
   "source": "plot_clustering_metrics(metrics_df, vlines=[12, 23])",
   "id": "b29b9b9c7ae1637d",
   "outputs": [],
   "execution_count": null
  },
  {
   "metadata": {},
   "cell_type": "markdown",
   "source": "### K = 12",
   "id": "ed2c0e3308493705"
  },
  {
   "metadata": {},
   "cell_type": "code",
   "source": [
    "km_out_sparc, X = KM(SPARC_IBD_CADD15_GenePy, NOD_sig_genes9, 12)\n",
    "km_out_phen_GenePy_sparc = merge_phen_genepy(km_out_sparc, SPARC_IBD_CADD15_GenePy, X)\n",
    "km_out_phen_GenePy_sparc.to_csv(\"C:/Users/fvl1g23/OneDrive - University of Southampton/PhD/Projects/ML/Unsupervised ML/K-Means Paper/SPARC_KMeans_9F_12C_NOD_2_genepy.txt\", sep='\\t', index=False)"
   ],
   "id": "c901b970cf00aef8",
   "outputs": [],
   "execution_count": null
  },
  {
   "metadata": {},
   "cell_type": "code",
   "source": [
    "#km_out_sparc.value_counts()\n",
    "results_df = analyze_cluster_deviations(km_out_phen_GenePy_sparc, ['Diagnosis', 'Crohn s disease phenotype', 'IBD surgery final'])\n",
    "values = [subdict['overall_p_value'] for subdict in list(results_df.values())[:3]]\n",
    "print(values)"
   ],
   "id": "9d5a9c7b0982a113",
   "outputs": [],
   "execution_count": null
  },
  {
   "metadata": {},
   "cell_type": "markdown",
   "source": "### K = 23",
   "id": "dde28b52be857d86"
  },
  {
   "metadata": {},
   "cell_type": "code",
   "source": [
    "km_out_sparc, X = KM(SPARC_IBD_CADD15_GenePy, NOD_sig_genes9, 23)\n",
    "km_out_phen_GenePy_sparc = merge_phen_genepy(km_out_sparc, SPARC_IBD_CADD15_GenePy, X)\n",
    "#km_out_phen_GenePy_sparc.to_csv(\"C:/Users/fvl1g23/OneDrive - University of Southampton/PhD/Projects/ML/Unsupervised ML/K-Means Paper/SPARC_KMeans_9F_23C_NOD_2_genepy.txt\", sep='\\t', index=False)"
   ],
   "id": "3acb0908b549be20",
   "outputs": [],
   "execution_count": null
  },
  {
   "metadata": {},
   "cell_type": "code",
   "source": "km_out_sparc.value_counts()",
   "id": "a980b33e95161b43",
   "outputs": [],
   "execution_count": null
  },
  {
   "metadata": {},
   "cell_type": "code",
   "source": "feat_imp_sparc = KM_RF(km_out_sparc, X)",
   "id": "5b54252d4d211a45",
   "outputs": [],
   "execution_count": null
  },
  {
   "metadata": {},
   "cell_type": "code",
   "source": "feat_imp_sparc[feat_imp_sparc['Cluster'] == 17].sort_values(\"Importance\", ascending=False)",
   "id": "9b3d3f67c3519e76",
   "outputs": [],
   "execution_count": null
  },
  {
   "metadata": {},
   "cell_type": "code",
   "source": "results_df = analyze_cluster_deviations(km_out_phen_GenePy_sparc, ['Diagnosis', 'Crohn s disease phenotype', 'IBD surgery final'])",
   "id": "259b2340f4bc4216",
   "outputs": [],
   "execution_count": null
  },
  {
   "metadata": {},
   "cell_type": "code",
   "source": [
    "#results_df['Diagnosis']['overall_p_value'] #.keys()\n",
    "#type(results_df['Diagnosis']['overall_p_value'])\n",
    "values = [subdict['overall_p_value'] for subdict in list(results_df.values())[:3]]\n",
    "print(values)"
   ],
   "id": "ec4eee8408b13c00",
   "outputs": [],
   "execution_count": null
  },
  {
   "metadata": {},
   "cell_type": "markdown",
   "source": "### K = 35",
   "id": "765cf41e46e8f303"
  },
  {
   "metadata": {},
   "cell_type": "code",
   "source": [
    "#For k = 21, silhouette score is 0.5126 and the DBI score is 0.8283\n",
    "#k = 15; silhouette score = 0.398559; DBI = 0.923939\n",
    "km_out_sparc, X = KM(SPARC_IBD_CADD15_GenePy, NOD_sig_genes9, 35)\n",
    "km_out_phen_GenePy_sparc = merge_phen_genepy(km_out_sparc, SPARC_IBD_CADD15_GenePy, X)"
   ],
   "id": "7c114ae42912c533",
   "outputs": [],
   "execution_count": null
  },
  {
   "metadata": {},
   "cell_type": "code",
   "source": "km_out_phen_GenePy.to_csv(\"C:/Users/fvl1g23/OneDrive - University of Southampton/PhD/Projects/ML/Unsupervised ML/K-Means cluster enrichment analysis/K-Means output/SPARC_KMeans_9F_35C_NOD_2_genepy.txt\", sep='\\t', index=False)",
   "id": "f65c616eb9950c7b",
   "outputs": [],
   "execution_count": null
  },
  {
   "metadata": {},
   "cell_type": "code",
   "source": "feat_imp_sparc = KM_RF(km_out, X)",
   "id": "67610922078163ce",
   "outputs": [],
   "execution_count": null
  },
  {
   "metadata": {},
   "cell_type": "code",
   "source": "results_df = analyze_cluster_deviations(km_out_phen_GenePy, ['Diagnosis', 'Crohn s disease phenotype', 'IBD surgery final'])",
   "id": "169afb3f0fe3d929",
   "outputs": [],
   "execution_count": null
  },
  {
   "metadata": {},
   "cell_type": "code",
   "source": [
    "### NOD2 analysis\n",
    "#Sort clusters by feature importance of NOD2 CADD15 GenePy\n",
    "feat_imp_sparc[feat_imp_sparc['Feature'] == \"ENSG00000167207_NOD2_CADD15_matrix\"].sort_values(by=\"Importance\", ascending=False)"
   ],
   "id": "e7571a8734c24ff7",
   "outputs": [],
   "execution_count": null
  },
  {
   "metadata": {},
   "cell_type": "code",
   "source": "feat_imp_sparc[feat_imp_sparc['Cluster'] == 17].sort_values(by=\"Importance\", ascending=False)",
   "id": "d72c5d5b15a6893a",
   "outputs": [],
   "execution_count": null
  },
  {
   "metadata": {},
   "cell_type": "code",
   "source": [
    "#Check range of GenePy for each cluster\n",
    "km_out_phen_GenePy[km_out_phen_GenePy['Cluster'] == 1]['ENSG00000106100_NOD1_CADD15_matrix'].value_counts()"
   ],
   "id": "270e77e5b11d01a6",
   "outputs": [],
   "execution_count": null
  },
  {
   "metadata": {},
   "cell_type": "code",
   "source": [
    "#Check counts of clinical variables\n",
    "km_out_phen_GenePy_sparc[km_out_phen_GenePy_sparc['Cluster'] == 3]['Diagnosis'].value_counts()"
   ],
   "id": "91f2a7802676e1ff",
   "outputs": [],
   "execution_count": null
  },
  {
   "metadata": {},
   "cell_type": "code",
   "source": "km_out_phen_GenePy_sparc[(km_out_phen_GenePy_sparc['Cluster'] == 3) & (km_out_phen_GenePy_sparc['Diagnosis'] == \"CD\")]['Crohn s disease phenotype'].value_counts()",
   "id": "a34ade6c6b014f72",
   "outputs": [],
   "execution_count": null
  },
  {
   "metadata": {},
   "cell_type": "code",
   "source": "km_out_phen_GenePy[km_out_phen_GenePy['Cluster'] == 21].value_counts(['Diagnosis', 'Crohn s disease phenotype', \"IBD surgery final\"])",
   "id": "4da4eee62385b0fd",
   "outputs": [],
   "execution_count": null
  },
  {
   "metadata": {},
   "cell_type": "code",
   "source": [
    "#Check raw and multiple-test-corrected p-values\n",
    "results_df['Diagnosis']['p_values_chi2']#.keys()"
   ],
   "id": "8d92d813d88782da",
   "outputs": [],
   "execution_count": null
  },
  {
   "metadata": {},
   "cell_type": "markdown",
   "source": "### K = 21",
   "id": "a33e4ea614d2ac81"
  },
  {
   "metadata": {},
   "cell_type": "code",
   "source": "feat_imp = KM_RF(km_out, X)",
   "id": "b3e576a5c600b8a8",
   "outputs": [],
   "execution_count": null
  },
  {
   "metadata": {},
   "cell_type": "code",
   "source": "feat_imp[feat_imp['Cluster'] == 7].sort_values(by='Importance', ascending=False)",
   "id": "919155b50c7dcd2c",
   "outputs": [],
   "execution_count": null
  },
  {
   "metadata": {},
   "cell_type": "code",
   "source": "results_df = analyze_cluster_deviations(km_out_phen_GenePy, ['Diagnosis', 'Crohn s disease phenotype', 'IBD surgery final'])",
   "id": "d253533e02a4116b",
   "outputs": [],
   "execution_count": null
  },
  {
   "metadata": {},
   "cell_type": "code",
   "source": "results_df['Diagnosis']['corr_p_values_chi2']#.keys()",
   "id": "f1813db40c0b7a4f",
   "outputs": [],
   "execution_count": null
  },
  {
   "metadata": {},
   "cell_type": "code",
   "source": [
    "#Cluster 14 - enriched for CD and depleted for UC\n",
    "#193 CD/UC patients with NOD2 GenePy within 0.2607 to 0.4545, RIPK2 GenePy =< 0.1756 (192 have a score of 0) and NOD1 within 0 and 0.394107\n",
    "SotonIBD_CADD15_GenePy['cluster 14'] = ((SotonIBD_CADD15_GenePy['ENSG00000167207_NOD2'] >= 0.260743) & (SotonIBD_CADD15_GenePy['ENSG00000167207_NOD2'] <= 0.454504) &\n",
    "                                             (SotonIBD_CADD15_GenePy['ENSG00000104312_RIPK2'] <= 0.175602) & (SotonIBD_CADD15_GenePy['ENSG00000106100_NOD1'] <= 0.394107)).astype(int)\n",
    "\n",
    "# SotonIBD_CADD15_GenePy['cluster 14'] = ((SotonIBD_CADD15_GenePy['ENSG00000167207.15_NOD2'] >= 0.260743) & (SotonIBD_CADD15_GenePy['ENSG00000167207.15_NOD2'] <= 0.454504) &\n",
    "#                                               (SotonIBD_CADD15_GenePy['ENSG00000104312.8_RIPK2'] <= 0.175602) & (SotonIBD_CADD15_GenePy['ENSG00000106100.11_NOD1'] <= 0.394107)).astype(int)"
   ],
   "id": "5f17c267c4ca3168",
   "outputs": [],
   "execution_count": null
  },
  {
   "metadata": {},
   "cell_type": "code",
   "source": [
    "#Cluster 19 is depleted for UC (n = 113)\n",
    "#NOD2 (47.15%) -> 0.132311-0.406112\n",
    "#RIPK2 (46.16%) -> 0.175602-0.490679\n",
    "#NOD1 (2.1369%) -> <= 0.127193\n",
    "SotonIBD_CADD15_GenePy['cluster 19'] = ((SotonIBD_CADD15_GenePy['ENSG00000167207_NOD2'] >= 0.132311) &\n",
    "                                               (SotonIBD_CADD15_GenePy['ENSG00000167207_NOD2'] <= 0.406112) &\n",
    "                                               #(SotonIBD_CADD15_GenePy['ENSG00000104312_RIPK2'] >= 0.175602) &\n",
    "                                               #(SotonIBD_CADD15_GenePy['ENSG00000104312_RIPK2'] <= 0.490679) &\n",
    "                                              (SotonIBD_CADD15_GenePy['ENSG00000106100_NOD1'] <= 0.127193)).astype(int)"
   ],
   "id": "76b390b3dbc10673",
   "outputs": [],
   "execution_count": null
  },
  {
   "metadata": {},
   "cell_type": "code",
   "source": [
    "#Cluster 4 is depleted for UC\n",
    "#NOD2 (96.76%) -> >= 0.732\n",
    "SotonIBD_CADD15_GenePy['cluster 4'] = (SotonIBD_CADD15_GenePy['ENSG00000167207_NOD2'] >= 0.732).astype(int)"
   ],
   "id": "b61adebd49891a4",
   "outputs": [],
   "execution_count": null
  },
  {
   "metadata": {},
   "cell_type": "code",
   "source": [
    "#Cluster 12 -> 357 patients with NOD2 0 and CHUK 0, RIPK2 0\n",
    "SotonIBD_CADD15_GenePy['cluster 12'] = ((SotonIBD_CADD15_GenePy['ENSG00000167207_NOD2'] == 0) & (SotonIBD_CADD15_GenePy['ENSG00000213341_CHUK'] == 0)\n",
    "                                            & (SotonIBD_CADD15_GenePy['ENSG00000104312_RIPK2'] == 0)).astype(int)"
   ],
   "id": "54f950f9bc5af45",
   "outputs": [],
   "execution_count": null
  },
  {
   "metadata": {},
   "cell_type": "code",
   "source": "SotonIBD_CADD15_GenePy.loc[(SotonIBD_CADD15_GenePy['ENSG00000104312_RIPK2'] >= 0.175602) & (SotonIBD_CADD15_GenePy['ENSG00000104312_RIPK2'] <= 0.490679),:].value_counts(\"ENSG00000104312_RIPK2\")",
   "id": "918db106013160f6",
   "outputs": [],
   "execution_count": null
  },
  {
   "metadata": {},
   "cell_type": "markdown",
   "source": "## 43 NOD Signalling Genes",
   "id": "20b74d25613710a6"
  },
  {
   "metadata": {},
   "cell_type": "code",
   "source": [
    "results_df = KM_opt(SPARC_IBD_CADD15_GenePy, NOD_sig_genes43, 50, cohort_name='SPARC')\n",
    "#Optimise k based on silhouette score, DBI, and ARI\n",
    "#metrics_df = compute_clustering_metrics(SPARC_IBD_CADD15_GenePy, NOD_sig_genes43, 50, \"SPARC\", n_iter=100)\n",
    "metrics_df = pd.read_table(\"C:/Users/fvl1g23/OneDrive - University of Southampton/PhD/Projects/ML/Unsupervised ML/K-Means Paper/SPARC_NODsig43_clustering_metrics.txt\")\n",
    "#metrics_df.to_csv(\"C:/Users/fvl1g23/OneDrive - University of Southampton/PhD/Projects/ML/Unsupervised ML/K-Means Paper/SPARC_NODsig43_clustering_metrics.txt\", sep=\"\\t\", index=False)"
   ],
   "id": "dc80b3c712131df8",
   "outputs": [],
   "execution_count": null
  },
  {
   "metadata": {},
   "cell_type": "code",
   "source": "results_df",
   "id": "97361eff31a7dc31",
   "outputs": [],
   "execution_count": null
  },
  {
   "metadata": {},
   "cell_type": "code",
   "source": "metrics_df",
   "id": "68f2aa29aa7c9f72",
   "outputs": [],
   "execution_count": null
  },
  {
   "metadata": {},
   "cell_type": "code",
   "source": "plotk(results_df, [9, 29, 43])",
   "id": "46b4932b26876894",
   "outputs": [],
   "execution_count": null
  },
  {
   "metadata": {},
   "cell_type": "code",
   "source": "plot_clustering_metrics(metrics_df, vlines=[9, 20, 29, 42])",
   "id": "52d915512db3cfc5",
   "outputs": [],
   "execution_count": null
  },
  {
   "metadata": {},
   "cell_type": "markdown",
   "source": "### K = 9",
   "id": "ad00bd9bfe394f00"
  },
  {
   "metadata": {},
   "cell_type": "code",
   "source": [
    "km_out_sparc, X = KM(SPARC_IBD_CADD15_GenePy, NOD_sig_genes43, 9)\n",
    "km_out_phen_GenePy_sparc = merge_phen_genepy(km_out_sparc, SPARC_IBD_CADD15_GenePy, X)\n",
    "km_out_phen_GenePy_sparc.to_csv(\"C:/Users/fvl1g23/OneDrive - University of Southampton/PhD/Projects/ML/Unsupervised ML/K-Means Paper/SPARC_KMeans_43F_9C_NOD_1_genepy.txt\", sep='\\t', index=False)"
   ],
   "id": "cf36405bf4218ffb",
   "outputs": [],
   "execution_count": null
  },
  {
   "metadata": {},
   "cell_type": "code",
   "source": "X.var()",
   "id": "29c2d2cdbc2f5e3d",
   "outputs": [],
   "execution_count": null
  },
  {
   "metadata": {},
   "cell_type": "code",
   "source": "km_out_sparc.value_counts().sort_values(ascending=False)",
   "id": "a9292b5d496ed906",
   "outputs": [],
   "execution_count": null
  },
  {
   "metadata": {},
   "cell_type": "code",
   "source": [
    "results_df = analyze_cluster_deviations(km_out_phen_GenePy_sparc, ['Diagnosis', 'Crohn s disease phenotype', 'IBD surgery final'])\n",
    "values = [subdict['overall_p_value'] for subdict in list(results_df.values())[:3]]\n",
    "print(values)"
   ],
   "id": "89c489a09dcfac34",
   "outputs": [],
   "execution_count": null
  },
  {
   "metadata": {},
   "cell_type": "markdown",
   "source": "### K = 20",
   "id": "11b70ef732453700"
  },
  {
   "metadata": {},
   "cell_type": "code",
   "source": [
    "km_out_sparc, X = KM(SPARC_IBD_CADD15_GenePy, NOD_sig_genes43, 20)\n",
    "km_out_phen_GenePy_sparc = merge_phen_genepy(km_out_sparc, SPARC_IBD_CADD15_GenePy, X)\n",
    "#km_out_phen_GenePy_sparc.to_csv(\"C:/Users/fvl1g23/OneDrive - University of Southampton/PhD/Projects/ML/Unsupervised ML/K-Means Paper/SPARC_KMeans_43F_20C_NOD_1_genepy.txt\", sep='\\t', index=False)"
   ],
   "id": "6d12f4eb216f3800",
   "outputs": [],
   "execution_count": null
  },
  {
   "metadata": {},
   "cell_type": "code",
   "source": "km_out_sparc.value_counts().sort_values(ascending=False)",
   "id": "672a9ece33e85aab",
   "outputs": [],
   "execution_count": null
  },
  {
   "metadata": {},
   "cell_type": "code",
   "source": "feat_imp_sparc = KM_RF(km_out_sparc, X)",
   "id": "620e41fec81215c3",
   "outputs": [],
   "execution_count": null
  },
  {
   "metadata": {},
   "cell_type": "code",
   "source": [
    "#feat_imp_sparc[(feat_imp_sparc['Importance'] <= 0.60) & (feat_imp_sparc['Importance'] >= 0.10)]\n",
    "feat_imp_sparc[feat_imp_sparc['Feature'] == 'ENSG00000185386_MAPK11_CADD15_matrix']\n",
    "#feat_imp_sparc[feat_imp_sparc['Cluster'] == 6]"
   ],
   "id": "af897454f5ee2dcf",
   "outputs": [],
   "execution_count": null
  },
  {
   "metadata": {},
   "cell_type": "code",
   "source": [
    "results_df = analyze_cluster_deviations(km_out_phen_GenePy_sparc, ['Diagnosis', 'Crohn s disease phenotype', 'IBD surgery final'])\n",
    "values = [subdict['overall_p_value'] for subdict in list(results_df.values())[:3]]\n",
    "print(values)"
   ],
   "id": "76723dcb92fa5828",
   "outputs": [],
   "execution_count": null
  },
  {
   "metadata": {},
   "cell_type": "markdown",
   "source": "### K = 29",
   "id": "644b1dc8efd34a73"
  },
  {
   "metadata": {},
   "cell_type": "code",
   "source": [
    "km_out_sparc, X = KM(SPARC_IBD_CADD15_GenePy, NOD_sig_genes43, 29)\n",
    "km_out_phen_GenePy_sparc = merge_phen_genepy(km_out_sparc, SPARC_IBD_CADD15_GenePy, X)\n",
    "#km_out_phen_GenePy_sparc.to_csv(\"C:/Users/fvl1g23/OneDrive - University of Southampton/PhD/Projects/ML/Unsupervised ML/K-Means Paper/SPARC_KMeans_43F_29C_NOD_1_genepy.txt\", sep='\\t', index=False)"
   ],
   "id": "7fa1ce16c2ee83a0",
   "outputs": [],
   "execution_count": null
  },
  {
   "metadata": {},
   "cell_type": "code",
   "source": "km_out_sparc.value_counts().sort_values(ascending=False)",
   "id": "448de90173f9c0d1",
   "outputs": [],
   "execution_count": null
  },
  {
   "metadata": {},
   "cell_type": "code",
   "source": "feat_imp_sparc = KM_RF(km_out_sparc, X)",
   "id": "423fabbe9e23b082",
   "outputs": [],
   "execution_count": null
  },
  {
   "metadata": {},
   "cell_type": "code",
   "source": "feat_imp_sparc[(feat_imp_sparc['Importance'] <= 0.60) & (feat_imp_sparc['Importance'] >= 0.10)]",
   "id": "b8106b045a14440b",
   "outputs": [],
   "execution_count": null
  },
  {
   "metadata": {},
   "cell_type": "code",
   "source": [
    "results_df = analyze_cluster_deviations(km_out_phen_GenePy_sparc, ['Diagnosis', 'Crohn s disease phenotype', 'IBD surgery final'])\n",
    "values = [subdict['overall_p_value'] for subdict in list(results_df.values())[:3]]\n",
    "print(values)"
   ],
   "id": "9d7aa8b9c687e23b",
   "outputs": [],
   "execution_count": null
  },
  {
   "metadata": {},
   "cell_type": "markdown",
   "source": "### K = 42",
   "id": "bdd656d857d415e9"
  },
  {
   "metadata": {},
   "cell_type": "code",
   "source": [
    "km_out_sparc, X = KM(SPARC_IBD_CADD15_GenePy, NOD_sig_genes43, 42)\n",
    "km_out_phen_GenePy_sparc = merge_phen_genepy(km_out_sparc, SPARC_IBD_CADD15_GenePy, X)\n",
    "km_out_phen_GenePy_sparc.to_csv(\"C:/Users/fvl1g23/OneDrive - University of Southampton/PhD/Projects/ML/Unsupervised ML/K-Means Paper/SPARC_KMeans_43F_42C_NOD_1_genepy.txt\", sep='\\t', index=False)"
   ],
   "id": "74e13511d425f30",
   "outputs": [],
   "execution_count": null
  },
  {
   "metadata": {},
   "cell_type": "code",
   "source": "km_out_sparc.value_counts().sort_values(ascending=False)",
   "id": "ad43464376a7d459",
   "outputs": [],
   "execution_count": null
  },
  {
   "metadata": {},
   "cell_type": "code",
   "source": [
    "results_df = analyze_cluster_deviations(km_out_phen_GenePy_sparc, ['Diagnosis', 'Crohn s disease phenotype', 'IBD surgery final'])\n",
    "values = [subdict['overall_p_value'] for subdict in list(results_df.values())[:3]]\n",
    "print(values)"
   ],
   "id": "c3497fc651f63914",
   "outputs": [],
   "execution_count": null
  },
  {
   "metadata": {},
   "cell_type": "markdown",
   "source": "### Other K",
   "id": "88c49a083a64623a"
  },
  {
   "metadata": {},
   "cell_type": "code",
   "source": [
    "# k = 16\n",
    "km_out_sparc, X = KM(SPARC_IBD_CADD15_GenePy, NOD_sig_genes43, 16)\n",
    "km_out_phen_GenePy_sparc = merge_phen_genepy(km_out_sparc, SPARC_IBD_CADD15_GenePy, X)"
   ],
   "id": "62894f1dd0f7a2d7",
   "outputs": [],
   "execution_count": null
  },
  {
   "metadata": {},
   "cell_type": "code",
   "source": "#km_out.value_counts()",
   "id": "cd562cf0d09387b7",
   "outputs": [],
   "execution_count": null
  },
  {
   "metadata": {},
   "cell_type": "code",
   "source": "feat_imp = KM_RF(km_out_sparc, X)",
   "id": "3707fad8d38817be",
   "outputs": [],
   "execution_count": null
  },
  {
   "metadata": {},
   "cell_type": "code",
   "source": "results_df = analyze_cluster_deviations(km_out_phen_GenePy_sparc, ['Diagnosis', 'Crohn s disease phenotype', 'IBD surgery final'])",
   "id": "2a983cb96dd8a655",
   "outputs": [],
   "execution_count": null
  },
  {
   "metadata": {},
   "cell_type": "code",
   "source": "results_df['Diagnosis']['corr_p_values_chi2']",
   "id": "4476a3958b1a95a0",
   "outputs": [],
   "execution_count": null
  },
  {
   "metadata": {},
   "cell_type": "code",
   "source": "results_df['Crohn s disease phenotype']['corr_p_values_chi2']",
   "id": "ac140f694446369a",
   "outputs": [],
   "execution_count": null
  },
  {
   "metadata": {},
   "cell_type": "code",
   "source": "results_df['IBD surgery final']['corr_p_values_chi2']",
   "id": "6325dcc279fe2988",
   "outputs": [],
   "execution_count": null
  },
  {
   "metadata": {},
   "cell_type": "code",
   "source": [
    "#Cluster 1\n",
    "#NOD2 70.22% -> 0.1323 - 0.3652\n",
    "#SUGT1 3.96% -> <= 0.2013\n",
    "#ERBIN 2.67% ->  <= 0.3058\n",
    "#MAPK12 2.09% -> <= 0.2843\n",
    "#NOD1 1.75% -> <= 0.2768\n",
    "#RELA 1.69% -> 0\n",
    "#BIRC3 1.69% -> 0\n",
    "#NLRP1 1.43% -> <= 0.2021\n",
    "#CASP8 1.32% -> <= 0.09\n",
    "SotonIBD_CADD15_GenePy['Cluster 1'] = ((SotonIBD_CADD15_GenePy['ENSG00000167207_NOD2'] >= 0.132311468176971) & (SotonIBD_CADD15_GenePy['ENSG00000167207_NOD2'] <= 0.365205488832726)\n",
    "                                       & (SotonIBD_CADD15_GenePy['ENSG00000165416_SUGT1'] <= 0.201280690665366) & (SotonIBD_CADD15_GenePy['ENSG00000112851_ERBIN'] <= 0.375835188227294)&\n",
    "                                       (SotonIBD_CADD15_GenePy['ENSG00000188130_MAPK12'] <= 0.284265744209123) & (SotonIBD_CADD15_GenePy['ENSG00000106100_NOD1'] <= 0.276787154268017) &\n",
    "                                       (SotonIBD_CADD15_GenePy['ENSG00000173039_RELA'] == 0) & (SotonIBD_CADD15_GenePy['ENSG00000023445_BIRC3'] == 0) &\n",
    "                                       (SotonIBD_CADD15_GenePy['ENSG00000091592_NLRP1'] <= 0.202101747859509)).astype(int)"
   ],
   "id": "ef60f629c23b7af8",
   "outputs": [],
   "execution_count": null
  },
  {
   "metadata": {},
   "cell_type": "code",
   "source": [
    "#Cluster 5\n",
    "#NOD2 46.21% -> 0\n",
    "#SUGT1 13.83% -> <= 0.007\n",
    "#ERBIN 5.16% -> <= 0.3254\n",
    "#MAPK12 4.22% -> <= 0.2843\n",
    "#NOD1 3.65% -> <= 0.3178\n",
    "#RELA 3.59% -> 0\n",
    "#NRLP1 3.15% -> <= 0.2021\n",
    "#CARD9 2.84% -> 0\n",
    "#BIRC3 2.31% -> 0\n",
    "#TAB1 2.12% -> 0\n",
    "#CARD8 1.77% -> 0\n",
    "#NLRP7 1.31% -> 0\n",
    "SotonIBD_CADD15_GenePy['Cluster 5'] = ((SotonIBD_CADD15_GenePy['ENSG00000167207_NOD2'] == 0) & (SotonIBD_CADD15_GenePy['ENSG00000165416_SUGT1'] <= 0.0070120773143289)\n",
    "                                       & (SotonIBD_CADD15_GenePy['ENSG00000112851_ERBIN'] <= 0.325406754325555)\n",
    "#                                       & (SotonIBD_CADD15_GenePy['ENSG00000188130_MAPK12'] <= 0.284265744209123)\n",
    "#                                       & (SotonIBD_CADD15_GenePy['ENSG00000106100_NOD1'] <= 0.317840326123237) & (SotonIBD_CADD15_GenePy['ENSG00000173039_RELA'] == 0)\n",
    "#                                       & (SotonIBD_CADD15_GenePy['ENSG00000091592_NLRP1'] <= 0.202101747859509)&(SotonIBD_CADD15_GenePy['ENSG00000187796_CARD9'] == 0) &\n",
    "#                                       (SotonIBD_CADD15_GenePy['ENSG00000023445_BIRC3'] == 0)& (SotonIBD_CADD15_GenePy['ENSG00000100324_TAB1'] == 0) &\n",
    "#                                       (SotonIBD_CADD15_GenePy['ENSG00000105483_CARD8'] == 0)\n",
    "                                       ).astype(int)"
   ],
   "id": "bac202b28400afbc",
   "outputs": [],
   "execution_count": null
  },
  {
   "metadata": {},
   "cell_type": "code",
   "source": [
    "#Cluster 13\n",
    "#NOD2 76.41% -> >= 0.3585\n",
    "#ERBIN 2.08% -> <= 0.5793\n",
    "#NOD1 1.88% -> <= 0.5118\n",
    "#CASP9 1.62% -> <= 0.6922\n",
    "#NLRP12 1.42% <= 0.4622\n",
    "#MAPK12 1.37% -> <= 0.44\n",
    "#RELA 1.17% -> <= 0.4136\n",
    "#CARD6 1.07% -> <= 0.4563\n",
    "SotonIBD_CADD15_GenePy['Cluster 13'] = ((SotonIBD_CADD15_GenePy['ENSG00000167207_NOD2'] >= 0.358468103620945) & (SotonIBD_CADD15_GenePy['ENSG00000112851_ERBIN'] <= 0.579367065203214) &\n",
    "                                        (SotonIBD_CADD15_GenePy['ENSG00000106100_NOD1'] <= 0.511821245992663) & (SotonIBD_CADD15_GenePy['ENSG00000132906_CASP9'] <= 0.692219162925112)\n",
    "                                        & (SotonIBD_CADD15_GenePy['ENSG00000142405_NLRP12'] <= 0.462179899117249)&\n",
    "                                        (SotonIBD_CADD15_GenePy['ENSG00000188130_MAPK12'] <= 0.442011527819315) & (SotonIBD_CADD15_GenePy['ENSG00000173039_RELA'] <= 0.41358255389904) &\n",
    "                                        (SotonIBD_CADD15_GenePy['ENSG00000132357_CARD6'] <= 0.456358576821125)\n",
    "                                        ).astype(int)"
   ],
   "id": "f4015be4aed9d22b",
   "outputs": [],
   "execution_count": null
  },
  {
   "metadata": {},
   "cell_type": "code",
   "source": [
    "cont_table = pd.crosstab(SotonIBD_CADD15_GenePy['Cluster 1'], SotonIBD_CADD15_GenePy['IBD Surgery'])\n",
    "#Remove IBDU\n",
    "#cont_table = cont_table.iloc[:,[0,3]]\n",
    "#chi square\n",
    "chi2_stat, p_value, dof, expected = chi2_contingency(cont_table)\n",
    "p_value"
   ],
   "id": "598a542d39f45569",
   "outputs": [],
   "execution_count": null
  },
  {
   "metadata": {},
   "cell_type": "code",
   "source": [
    "# k = 38\n",
    "km_out, X = KM(SPARC_IBD_CADD15_GenePy, NOD_sig_genes43, 38)\n",
    "km_out_phen_GenePy = merge_phen_genepy(km_out, SPARC_IBD_CADD15_GenePy, X)"
   ],
   "id": "4ccef20930f478ad",
   "outputs": [],
   "execution_count": null
  },
  {
   "metadata": {},
   "cell_type": "code",
   "source": "results_df = analyze_cluster_deviations(km_out_phen_GenePy, ['Diagnosis', 'Crohn s disease phenotype', 'IBD surgery final'])",
   "id": "978f4040a14ed49e",
   "outputs": [],
   "execution_count": null
  },
  {
   "metadata": {},
   "cell_type": "code",
   "source": "results_df['Crohn s disease phenotype']['overall_p_value']",
   "id": "3d6646fb3b88cade",
   "outputs": [],
   "execution_count": null
  },
  {
   "metadata": {},
   "cell_type": "code",
   "source": "results_df['Diagnosis'].keys()",
   "id": "42a253083e91b827",
   "outputs": [],
   "execution_count": null
  },
  {
   "metadata": {},
   "cell_type": "markdown",
   "source": "## 13 NOD Signalling Genes",
   "id": "ac4e7ccaae5035a2"
  },
  {
   "metadata": {},
   "cell_type": "code",
   "source": [
    "#Check top 20 features with highest variance from consensus NOD signalling genes\n",
    "#SPARC IBD\n",
    "km_out_sparc, X = KM(SPARC_IBD_CADD15_GenePy, NOD_sig_genes43, 2)\n",
    "sparc_ibd_NOD_sig20=X.var().sort_values(ascending=False)[0:20].index\n",
    "\n",
    "#Soton IBD\n",
    "km_out_soton, X = KM(SotonIBD_CADD15_GenePy, NOD_sig_genes43, 2, \"Soton\")\n",
    "soton_ibd_NOD_sig20=X.var().sort_values(ascending=False)[0:20].index\n",
    "\n",
    "intersection=set(sparc_ibd_NOD_sig20.str.split(\"_CADD15_matrix\").str[0]) & set(soton_ibd_NOD_sig20)\n",
    "NOD_sig_genes13=NOD_sig_genes43[NOD_sig_genes43['Gene stable ID'].isin(pd.DataFrame(intersection)[0].str.split(\"_\").str[0])]\n",
    "NOD_sig_genes13.to_csv(\"C:/Users/fvl1g23/OneDrive - University of Southampton/PhD/Projects/ML/Gene lists/NOD_sig_genes13.txt\", index=False, sep=\"\\t\")"
   ],
   "id": "b964db9bebc5ab7c",
   "outputs": [],
   "execution_count": null
  },
  {
   "metadata": {},
   "cell_type": "code",
   "source": [
    "results_df = KM_opt(SPARC_IBD_CADD15_GenePy, NOD_sig_genes13, 50, cohort_name='SPARC')\n",
    "#Optimise k based on silhouette score, DBI, and ARI\n",
    "#metrics_df = compute_clustering_metrics(SPARC_IBD_CADD15_GenePy, NOD_sig_genes12, 50, \"SPARC\", n_iter=100)\n",
    "metrics_df = pd.read_table(\"C:/Users/fvl1g23/OneDrive - University of Southampton/PhD/Projects/ML/Unsupervised ML/K-Means Paper/SPARC_NODsig13_clustering_metrics.txt\")\n",
    "#metrics_df.to_csv(\"C:/Users/fvl1g23/OneDrive - University of Southampton/PhD/Projects/ML/Unsupervised ML/K-Means Paper/SPARC_NODsig12_clustering_metrics.txt\", sep=\"\\t\", index=False)"
   ],
   "id": "a9be76ec5db6b3a3",
   "outputs": [],
   "execution_count": null
  },
  {
   "metadata": {},
   "cell_type": "code",
   "source": "results_df",
   "id": "aad14a60056da349",
   "outputs": [],
   "execution_count": null
  },
  {
   "metadata": {},
   "cell_type": "code",
   "source": "metrics_df",
   "id": "2dbde0f0be0cf55a",
   "outputs": [],
   "execution_count": null
  },
  {
   "metadata": {},
   "cell_type": "code",
   "source": "plotk(results_df, [15, 22, 26])",
   "id": "1f3d4a4e38291c8a",
   "outputs": [],
   "execution_count": null
  },
  {
   "metadata": {},
   "cell_type": "code",
   "source": "plot_clustering_metrics(metrics_df, vlines=[16, 23, 33])",
   "id": "cd7752a52ebf8f15",
   "outputs": [],
   "execution_count": null
  },
  {
   "metadata": {},
   "cell_type": "markdown",
   "source": "### K = 16",
   "id": "ea8279009fcc6375"
  },
  {
   "metadata": {},
   "cell_type": "code",
   "source": [
    "km_out_sparc, X = KM(SPARC_IBD_CADD15_GenePy, NOD_sig_genes13, 16)\n",
    "km_out_phen_GenePy_sparc = merge_phen_genepy(km_out_sparc, SPARC_IBD_CADD15_GenePy, X)\n",
    "#km_out_phen_GenePy_sparc.to_csv(\"C:/Users/fvl1g23/OneDrive - University of Southampton/PhD/Projects/ML/Unsupervised ML/K-Means Paper/SPARC_KMeans_13F_16C_NOD_1_genepy.txt\", sep='\\t', index=False)"
   ],
   "id": "d15a4af1f1e146b3",
   "outputs": [],
   "execution_count": null
  },
  {
   "metadata": {},
   "cell_type": "code",
   "source": "km_out_sparc.value_counts().sort_values(ascending=False)",
   "id": "b61f2b9b1f6e9588",
   "outputs": [],
   "execution_count": null
  },
  {
   "metadata": {},
   "cell_type": "code",
   "source": [
    "results_df = analyze_cluster_deviations(km_out_phen_GenePy_sparc, ['Diagnosis', 'Crohn s disease phenotype', 'IBD surgery final'])\n",
    "values = [subdict['overall_p_value'] for subdict in list(results_df.values())[:3]]\n",
    "print(values)"
   ],
   "id": "3f48dd3d329b83fd",
   "outputs": [],
   "execution_count": null
  },
  {
   "metadata": {},
   "cell_type": "markdown",
   "source": "### K = 23",
   "id": "c94dc64050307d7e"
  },
  {
   "metadata": {},
   "cell_type": "code",
   "source": [
    "km_out_sparc, X = KM(SPARC_IBD_CADD15_GenePy, NOD_sig_genes13, 23)\n",
    "km_out_phen_GenePy_sparc = merge_phen_genepy(km_out_sparc, SPARC_IBD_CADD15_GenePy, X)"
   ],
   "id": "7e605013d5b7befa",
   "outputs": [],
   "execution_count": null
  },
  {
   "metadata": {},
   "cell_type": "code",
   "source": "km_out_sparc.value_counts().sort_values(ascending=False)",
   "id": "b963cf0d7e1491fe",
   "outputs": [],
   "execution_count": null
  },
  {
   "metadata": {},
   "cell_type": "code",
   "source": [
    "results_df = analyze_cluster_deviations(km_out_phen_GenePy_sparc, ['Diagnosis', 'Crohn s disease phenotype', 'IBD surgery final'])\n",
    "values = [subdict['overall_p_value'] for subdict in list(results_df.values())[:3]]\n",
    "print(values)"
   ],
   "id": "1823b21fc4c472a7",
   "outputs": [],
   "execution_count": null
  },
  {
   "metadata": {},
   "cell_type": "markdown",
   "source": "### K = 33",
   "id": "c5e1f9a2dc30ae42"
  },
  {
   "metadata": {},
   "cell_type": "code",
   "source": [
    "km_out_sparc, X = KM(SPARC_IBD_CADD15_GenePy, NOD_sig_genes13, 33)\n",
    "km_out_phen_GenePy_sparc = merge_phen_genepy(km_out_sparc, SPARC_IBD_CADD15_GenePy, X)\n",
    "#km_out_phen_GenePy_sparc.to_csv(\"C:/Users/fvl1g23/OneDrive - University of Southampton/PhD/Projects/ML/Unsupervised ML/K-Means Paper/SPARC_KMeans_13F_33C_NOD_1_genepy.txt\", sep='\\t', index=False)"
   ],
   "id": "d207323551b7b840",
   "outputs": [],
   "execution_count": null
  },
  {
   "metadata": {},
   "cell_type": "code",
   "source": "km_out_sparc.value_counts().sort_values(ascending=False)",
   "id": "6e3426f448a60783",
   "outputs": [],
   "execution_count": null
  },
  {
   "metadata": {},
   "cell_type": "code",
   "source": "feat_imp_sparc = KM_RF(km_out_sparc, X)",
   "id": "fe5464f16c5690a5",
   "outputs": [],
   "execution_count": null
  },
  {
   "metadata": {},
   "cell_type": "code",
   "source": "feat_imp_sparc[feat_imp_sparc['Feature'] == \"ENSG00000188130_MAPK12_CADD15_matrix\"].sort_values(\"Importance\", ascending=False)",
   "id": "777c286593af2bf1",
   "outputs": [],
   "execution_count": null
  },
  {
   "metadata": {},
   "cell_type": "code",
   "source": "feat_imp_sparc[feat_imp_sparc['Cluster'] == 30].sort_values(\"Importance\", ascending=False)",
   "id": "c0d94e75366b312e",
   "outputs": [],
   "execution_count": null
  },
  {
   "metadata": {},
   "cell_type": "code",
   "source": [
    "results_df = analyze_cluster_deviations(km_out_phen_GenePy_sparc, ['Diagnosis', 'Crohn s disease phenotype', 'IBD surgery final'])\n",
    "values = [subdict['overall_p_value'] for subdict in list(results_df.values())[:3]]\n",
    "print(values)"
   ],
   "id": "953256e50088f1aa",
   "outputs": [],
   "execution_count": null
  },
  {
   "metadata": {},
   "cell_type": "markdown",
   "source": "## 49 IL-10 Signalling Genes",
   "id": "86995f2405da44f9"
  },
  {
   "metadata": {},
   "cell_type": "code",
   "source": [
    "results_df = KM_opt(SPARC_IBD_CADD15_GenePy, IL10_sig_genes_49, 50, cohort_name='SPARC')\n",
    "#Optimise k based on silhouette score, DBI, and ARI\n",
    "#metrics_df = compute_clustering_metrics(SPARC_IBD_CADD15_GenePy, NOD_sig_genes43, 50, \"SPARC\", n_iter=100)\n",
    "metrics_df = pd.read_table(\"C:/Users/fvl1g23/OneDrive - University of Southampton/PhD/Projects/ML/Unsupervised ML/K-Means Paper/SPARC_IL10sig49_clustering_metrics.txt\")\n",
    "#metrics_df.to_csv(\"C:/Users/fvl1g23/OneDrive - University of Southampton/PhD/Projects/ML/Unsupervised ML/K-Means Paper/SPARC_NODsig43_clustering_metrics.txt\", sep=\"\\t\", index=False)"
   ],
   "id": "4d03a9b01294353a",
   "outputs": [],
   "execution_count": null
  },
  {
   "metadata": {},
   "cell_type": "code",
   "source": "results_df",
   "id": "bc1bfe78ac309ca5",
   "outputs": [],
   "execution_count": null
  },
  {
   "metadata": {},
   "cell_type": "code",
   "source": "metrics_df",
   "id": "8a944cbe93dd1370",
   "outputs": [],
   "execution_count": null
  },
  {
   "metadata": {},
   "cell_type": "code",
   "source": "plotk(results_df, [5, 25, 37])",
   "id": "2965dcaffe6ef1e2",
   "outputs": [],
   "execution_count": null
  },
  {
   "metadata": {},
   "cell_type": "code",
   "source": "plot_clustering_metrics(metrics_df, vlines=[25])",
   "id": "b1926bb19a4791cd",
   "outputs": [],
   "execution_count": null
  },
  {
   "metadata": {},
   "cell_type": "markdown",
   "source": "### K = 25",
   "id": "93cbddadf8ea6ef"
  },
  {
   "metadata": {},
   "cell_type": "code",
   "source": [
    "km_out_sparc, X = KM(SPARC_IBD_CADD15_GenePy, IL10_sig_genes_49, 20)\n",
    "km_out_phen_GenePy_sparc = merge_phen_genepy(km_out_sparc, SPARC_IBD_CADD15_GenePy, X)\n",
    "km_out_phen_GenePy_sparc.to_csv(\"C:/Users/fvl1g23/OneDrive - University of Southampton/PhD/Projects/ML/Unsupervised ML/K-Means Paper/SPARC_KMeans_47F_25C_IL10_1_genepy.txt\", sep='\\t', index=False)"
   ],
   "id": "ed17d2a54cc7249a",
   "outputs": [],
   "execution_count": null
  },
  {
   "metadata": {},
   "cell_type": "code",
   "source": "",
   "id": "65bae846703a2acb",
   "outputs": [],
   "execution_count": null
  },
  {
   "metadata": {},
   "cell_type": "markdown",
   "source": "## IL-10 Signalling Genes",
   "id": "c247956eab136c2e"
  },
  {
   "metadata": {},
   "cell_type": "code",
   "source": [
    "#Check top 20 features with highest variance from consensus IL-10 signalling genes\n",
    "#SPARC IBD\n",
    "km_out_sparc, X = KM(SPARC_IBD_CADD15_GenePy, IL10_sig_genes_49, 2)\n",
    "sparc_ibd_IL10_sig20=X.var().sort_values(ascending=False)[0:20].index\n",
    "\n",
    "#Soton IBD\n",
    "km_out_soton, X = KM(SotonIBD_CADD15_GenePy, IL10_sig_genes_49, 2, \"Soton\")\n",
    "soton_ibd_IL10_sig20=X.var().sort_values(ascending=False)[0:20].index\n",
    "\n",
    "intersection=set(sparc_ibd_IL10_sig20.str.split(\"_CADD15_matrix\").str[0]) & set(soton_ibd_IL10_sig20)\n",
    "IL10_sig_genes13=IL10_sig_genes_49[IL10_sig_genes_49['Gene stable ID'].isin(pd.DataFrame(intersection)[0].str.split(\"_\").str[0])]\n",
    "IL10_sig_genes13.to_csv(\"C:/Users/fvl1g23/OneDrive - University of Southampton/PhD/Projects/ML/Gene lists/IL10_sig_genes13.txt\", index=False, sep=\"\\t\")"
   ],
   "id": "60dacb6a694f94e8",
   "outputs": [],
   "execution_count": null
  },
  {
   "metadata": {},
   "cell_type": "markdown",
   "source": "## Other Pathways",
   "id": "f5f70d5f0cc0d0c1"
  },
  {
   "metadata": {},
   "cell_type": "code",
   "source": "results_df = KM_opt(SPARC_IBD_CADD15_GenePy, NADPH_genes_36, 50, cohort_name='SPARC')",
   "id": "1876c4b424e546ee",
   "outputs": [],
   "execution_count": null
  },
  {
   "metadata": {},
   "cell_type": "code",
   "source": "results_df",
   "id": "89202a43ae26e0c7",
   "outputs": [],
   "execution_count": null
  },
  {
   "metadata": {},
   "cell_type": "code",
   "source": "plotk(results_df)",
   "id": "2318d452bd1fd7fe",
   "outputs": [],
   "execution_count": null
  },
  {
   "metadata": {},
   "cell_type": "code",
   "source": [
    "#k = 32\n",
    "km_out, X = KM(SPARC_IBD_CADD15_GenePy, NADPH_genes_36, 24)\n",
    "km_out_phen_GenePy = merge_phen_genepy(km_out, SPARC_IBD_CADD15_GenePy, X)\n"
   ],
   "id": "bd77bca382fc2093",
   "outputs": [],
   "execution_count": null
  },
  {
   "metadata": {},
   "cell_type": "code",
   "source": "#km_out_phen_GenePy.to_csv(\"C:/Users/fvl1g23/OneDrive - University of Southampton/PhD/Projects/ML/Unsupervised ML/K-Means cluster enrichment analysis/K-Means output/SPARC_KMeans_30F_32C_JAK_STAT_genepy.txt\", sep='\\t', index=False)",
   "id": "a9a17ace3c086859",
   "outputs": [],
   "execution_count": null
  },
  {
   "metadata": {},
   "cell_type": "code",
   "source": [
    "results_df = analyze_cluster_deviations(km_out_phen_GenePy, ['Diagnosis', 'Crohn s disease phenotype', 'IBD surgery final'])\n",
    "print(results_df['Diagnosis']['overall_p_value'])\n",
    "print(results_df['Crohn s disease phenotype']['overall_p_value'])\n",
    "print(results_df['IBD surgery final']['overall_p_value'])"
   ],
   "id": "3821591bdd16d8e8",
   "outputs": [],
   "execution_count": null
  },
  {
   "metadata": {},
   "cell_type": "markdown",
   "source": "## 34 Consensus IBD Genes",
   "id": "dbf59eb7f46e4a71"
  },
  {
   "metadata": {},
   "cell_type": "code",
   "source": "results_df = KM_opt(SPARC_IBD_CADD15_GenePy, IBD_union_genes_sparc, 50, cohort_name='SPARC')",
   "id": "63b654dfa70dddd6",
   "outputs": [],
   "execution_count": null
  },
  {
   "metadata": {},
   "cell_type": "code",
   "source": "plotk(results_df, [28, 35, 40])",
   "id": "eb244928305f4299",
   "outputs": [],
   "execution_count": null
  },
  {
   "metadata": {},
   "cell_type": "code",
   "source": [
    "# k = 40\n",
    "km_out, X = KM(SPARC_IBD_CADD15_GenePy, IBD_union_genes_sparc, 40)\n",
    "km_out_phen_GenePy = merge_phen_genepy(km_out, SPARC_IBD_CADD15_GenePy, X)"
   ],
   "id": "d926764ac48b89b3",
   "outputs": [],
   "execution_count": null
  },
  {
   "metadata": {},
   "cell_type": "code",
   "source": "km_out_phen_GenePy[km_out_phen_GenePy['Cluster'] == 17].value_counts('Crohn s disease phenotype', normalize=True)",
   "id": "b94c07650b9c40b",
   "outputs": [],
   "execution_count": null
  },
  {
   "metadata": {},
   "cell_type": "code",
   "source": "km_out_phen_GenePy.value_counts('Crohn s disease phenotype', normalize=True)",
   "id": "ef764747ccd02eed",
   "outputs": [],
   "execution_count": null
  },
  {
   "metadata": {},
   "cell_type": "code",
   "source": "feat_imp = KM_RF(km_out, X)",
   "id": "bf1bea7b49955331",
   "outputs": [],
   "execution_count": null
  },
  {
   "metadata": {},
   "cell_type": "code",
   "source": [
    "#len(feat_imp[feat_imp['Importance'] >= 0.1]['Feature'].unique())\n",
    "feat_imp[feat_imp['Cluster'] == 22]"
   ],
   "id": "f1a46b1eae5541c1",
   "outputs": [],
   "execution_count": null
  },
  {
   "metadata": {},
   "cell_type": "code",
   "source": "results_chi2 = analyze_cluster_deviations(km_out_phen_GenePy, ['Diagnosis', 'Crohn s disease phenotype', 'IBD surgery final'])",
   "id": "70bc7656444e3903",
   "outputs": [],
   "execution_count": null
  },
  {
   "metadata": {},
   "cell_type": "code",
   "source": "results_chi2['Diagnosis']['p_values_chi2']",
   "id": "c50bbc2839b206a9",
   "outputs": [],
   "execution_count": null
  },
  {
   "metadata": {},
   "cell_type": "code",
   "source": "results_chi2['Diagnosis']['residuals']",
   "id": "508fb5b90317a76a",
   "outputs": [],
   "execution_count": null
  },
  {
   "metadata": {},
   "cell_type": "code",
   "source": "results_chi2['Crohn s disease phenotype']['p_values_chi2']",
   "id": "aeffdc525c059f37",
   "outputs": [],
   "execution_count": null
  },
  {
   "metadata": {},
   "cell_type": "code",
   "source": "results_chi2['Crohn s disease phenotype']['residuals']",
   "id": "35deaa7f6900b004",
   "outputs": [],
   "execution_count": null
  },
  {
   "metadata": {},
   "cell_type": "code",
   "source": "results_chi2['IBD surgery final']['p_values_chi2']",
   "id": "56f4ced2c90c9be2",
   "outputs": [],
   "execution_count": null
  },
  {
   "metadata": {},
   "cell_type": "code",
   "source": "results_chi2['Diagnosis'].keys()",
   "id": "e8e5f36e14f41ec8",
   "outputs": [],
   "execution_count": null
  },
  {
   "metadata": {},
   "cell_type": "markdown",
   "source": "# Southampton IBD",
   "id": "977b4a372631444c"
  },
  {
   "metadata": {},
   "cell_type": "markdown",
   "source": "## NOD2",
   "id": "34076eb6b156ab1b"
  },
  {
   "metadata": {},
   "cell_type": "code",
   "source": "results_df = KM_opt(SotonIBD_CADD15_GenePy, NOD2_gene, 50, cohort_name='Soton')",
   "id": "afdf890c943017bd",
   "outputs": [],
   "execution_count": null
  },
  {
   "metadata": {},
   "cell_type": "code",
   "source": "results_df",
   "id": "287fb8148a28b881",
   "outputs": [],
   "execution_count": null
  },
  {
   "metadata": {},
   "cell_type": "code",
   "source": "plotk(results_df, [13, 20, 38])",
   "id": "ad700a4c6fc7a56",
   "outputs": [],
   "execution_count": null
  },
  {
   "metadata": {},
   "cell_type": "code",
   "source": [
    "#k = 13\n",
    "km_out, X = KM(SotonIBD_CADD15_GenePy, NOD2_gene, 13, \"Soton\")\n",
    "km_out_phen_GenePy = merge_phen_genepy(km_out, SotonIBD_CADD15_GenePy, X, \"Soton\")"
   ],
   "id": "feaf8284d100e66c",
   "outputs": [],
   "execution_count": null
  },
  {
   "metadata": {},
   "cell_type": "code",
   "source": "km_out_phen_GenePy.to_csv(\"C:/Users/fvl1g23/OneDrive - University of Southampton/PhD/Projects/ML/Unsupervised ML/K-Means cluster enrichment analysis/K-Means output/Soton_KMeans_NOD2_13C_genepy.txt\", sep='\\t', index=False)",
   "id": "843fd3302f0e5e3a",
   "outputs": [],
   "execution_count": null
  },
  {
   "metadata": {},
   "cell_type": "code",
   "source": [
    "results_df = analyze_cluster_deviations(km_out_phen_GenePy, ['Diagnosis', 'IBD phenotype', 'IBD Surgery', 'Granuloma'])\n",
    "print(results_df['Diagnosis']['overall_p_value'])\n",
    "print(results_df['IBD phenotype']['overall_p_value'])\n",
    "print(results_df['IBD Surgery']['overall_p_value'])\n",
    "print(results_df['Granuloma']['overall_p_value'])"
   ],
   "id": "769715196052b518",
   "outputs": [],
   "execution_count": null
  },
  {
   "metadata": {},
   "cell_type": "code",
   "source": [
    "#Check range of GenePy for each cluster\n",
    "km_out_phen_GenePy[km_out_phen_GenePy['Cluster'] ==5 ]['ENSG00000167207.15_NOD2'].value_counts()"
   ],
   "id": "871fea245e245efb",
   "outputs": [],
   "execution_count": null
  },
  {
   "metadata": {},
   "cell_type": "code",
   "source": [
    "#Check counts of clinical variables\n",
    "km_out_phen_GenePy[km_out_phen_GenePy['Cluster'] == 5]['Diagnosis'].value_counts()"
   ],
   "id": "e1ce0e8091b2eecd",
   "outputs": [],
   "execution_count": null
  },
  {
   "metadata": {},
   "cell_type": "code",
   "source": "km_out_phen_GenePy[(km_out_phen_GenePy['Cluster'] == 12) & (km_out_phen_GenePy['Diagnosis'] == \"CD\")]['IBD phenotype'].value_counts()\n",
   "id": "c5a79c3ccc2f40da",
   "outputs": [],
   "execution_count": null
  },
  {
   "metadata": {},
   "cell_type": "markdown",
   "source": "## 9 NOD Signalling Genes",
   "id": "ec0f15bfa96fba6a"
  },
  {
   "metadata": {},
   "cell_type": "code",
   "source": [
    "#results_df = KM_opt(SotonIBD_CADD15_GenePy, NOD_sig_genes9, 50, cohort_name='Soton')\n",
    "metrics_df = compute_clustering_metrics(SotonIBD_CADD15_GenePy, NOD_sig_genes9, 50, \"Soton\", n_iter=100)"
   ],
   "id": "c3c232c1992bc971",
   "outputs": [],
   "execution_count": null
  },
  {
   "metadata": {},
   "cell_type": "code",
   "source": "metrics_df.to_csv(\"C:/Users/fvl1g23/OneDrive - University of Southampton/PhD/Projects/ML/Unsupervised ML/K-Means Paper/Soton_NODsig8_clustering_metrics.txt\", sep=\"\\t\", index=False) #No IKBKG GenePy",
   "id": "aaaa367baee299ad",
   "outputs": [],
   "execution_count": null
  },
  {
   "metadata": {},
   "cell_type": "code",
   "source": "metrics_df",
   "id": "f98b09bc9b282c28",
   "outputs": [],
   "execution_count": null
  },
  {
   "metadata": {},
   "cell_type": "code",
   "source": [
    "#plotk(results_df,[21, 25, 32])\n",
    "plot_clustering_metrics(metrics_df, vlines=[10, 16, 31])"
   ],
   "id": "9890d938648662de",
   "outputs": [],
   "execution_count": null
  },
  {
   "metadata": {},
   "cell_type": "markdown",
   "source": "### K = 10",
   "id": "9dd984b0e74ae632"
  },
  {
   "metadata": {},
   "cell_type": "code",
   "source": [
    "km_out_soton, X = KM(SotonIBD_CADD15_GenePy, NOD_sig_genes9, 10, \"Soton\")\n",
    "km_out_phen_GenePy_soton = merge_phen_genepy(km_out_soton, SotonIBD_CADD15_GenePy, X, cohort_name=\"Soton\")\n",
    "km_out_phen_GenePy_soton.to_csv(\"C:/Users/fvl1g23/OneDrive - University of Southampton/PhD/Projects/ML/Unsupervised ML/K-Means Paper/Soton_KMeans_8F_10C_NOD_2_genepy.txt\", sep='\\t', index=False)"
   ],
   "id": "9f704924f5b315cd",
   "outputs": [],
   "execution_count": null
  },
  {
   "metadata": {},
   "cell_type": "code",
   "source": "km_out_soton.value_counts().sort_values(ascending=False)",
   "id": "7b7e2ae37791ce94",
   "outputs": [],
   "execution_count": null
  },
  {
   "metadata": {},
   "cell_type": "code",
   "source": [
    "results_df = analyze_cluster_deviations(km_out_phen_GenePy_soton, ['Diagnosis', 'IBD.phenotype', 'IBD.Surgery'])\n",
    "values = [subdict['overall_p_value'] for subdict in list(results_df.values())[:3]]\n",
    "print(values)"
   ],
   "id": "f6e0713b2555de3b",
   "outputs": [],
   "execution_count": null
  },
  {
   "metadata": {},
   "cell_type": "markdown",
   "source": "### K = 16",
   "id": "23b1354b1b24610"
  },
  {
   "metadata": {},
   "cell_type": "code",
   "source": [
    "km_out_soton, X = KM(SotonIBD_CADD15_GenePy, NOD_sig_genes9, 16, \"Soton\")\n",
    "km_out_phen_GenePy_soton = merge_phen_genepy(km_out_soton, SotonIBD_CADD15_GenePy, X, cohort_name=\"Soton\")\n",
    "#km_out_phen_GenePy_soton.to_csv(\"C:/Users/fvl1g23/OneDrive - University of Southampton/PhD/Projects/ML/Unsupervised ML/K-Means Paper/Soton_KMeans_8F_16C_NOD_2_genepy.txt\", sep='\\t', index=False)"
   ],
   "id": "9752b98de3400a27",
   "outputs": [],
   "execution_count": null
  },
  {
   "metadata": {},
   "cell_type": "code",
   "source": "km_out_soton.value_counts().sort_values(ascending=False)",
   "id": "f6bdb7600367ce2",
   "outputs": [],
   "execution_count": null
  },
  {
   "metadata": {},
   "cell_type": "code",
   "source": "feat_imp_soton = KM_RF(km_out_soton, X)",
   "id": "9612cec5360151f6",
   "outputs": [],
   "execution_count": null
  },
  {
   "metadata": {},
   "cell_type": "code",
   "source": [
    "results_df = analyze_cluster_deviations(km_out_phen_GenePy_soton, ['Diagnosis', 'IBD.phenotype', 'IBD.Surgery'])\n",
    "values = [subdict['overall_p_value'] for subdict in list(results_df.values())[:3]]\n",
    "print(values)"
   ],
   "id": "20c5a0ca446df134",
   "outputs": [],
   "execution_count": null
  },
  {
   "metadata": {},
   "cell_type": "markdown",
   "source": "### K = 31",
   "id": "68245f97b090794e"
  },
  {
   "metadata": {},
   "cell_type": "code",
   "source": [
    "km_out_soton, X = KM(SotonIBD_CADD15_GenePy, NOD_sig_genes9, 31, \"Soton\")\n",
    "km_out_phen_GenePy_soton = merge_phen_genepy(km_out_soton, SotonIBD_CADD15_GenePy, X, \"Soton\")\n",
    "km_out_phen_GenePy_soton.to_csv(\"C:/Users/fvl1g23/OneDrive - University of Southampton/PhD/Projects/ML/Unsupervised ML/K-Means Paper/Soton_KMeans_8F_31C_NOD_2_genepy.txt\", sep='\\t', index=False)"
   ],
   "id": "77605e5c5925690d",
   "outputs": [],
   "execution_count": null
  },
  {
   "metadata": {},
   "cell_type": "code",
   "source": "km_out_soton.value_counts().sort_values(ascending=False)",
   "id": "8dd83a02859acc1c",
   "outputs": [],
   "execution_count": null
  },
  {
   "metadata": {},
   "cell_type": "code",
   "source": "feat_imp = KM_RF(km_out, X)",
   "id": "536e147f26a9776d",
   "outputs": [],
   "execution_count": null
  },
  {
   "metadata": {},
   "cell_type": "code",
   "source": [
    "results_df = analyze_cluster_deviations(km_out_phen_GenePy, ['Diagnosis', 'IBD.phenotype', 'IBD.Surgery', 'Granuloma'])\n",
    "values = [subdict['overall_p_value'] for subdict in list(results_df.values())[:3]]\n",
    "print(values)"
   ],
   "id": "c46d4ce86c6e9c21",
   "outputs": [],
   "execution_count": null
  },
  {
   "metadata": {},
   "cell_type": "code",
   "source": [
    "### NOD2 analysis\n",
    "#Sort clusters by feature importance of NOD2 CADD15 GenePy\n",
    "feat_imp[feat_imp['Feature'] == \"ENSG00000167207.15_NOD2\"].sort_values(by=\"Importance\", ascending=False)"
   ],
   "id": "bed5dec53808737d",
   "outputs": [],
   "execution_count": null
  },
  {
   "metadata": {},
   "cell_type": "code",
   "source": "feat_imp[feat_imp['Cluster'] == 17].sort_values(by=\"Importance\", ascending=False)",
   "id": "399401b708bf9457",
   "outputs": [],
   "execution_count": null
  },
  {
   "metadata": {},
   "cell_type": "code",
   "source": [
    "#Check range of GenePy for each cluster\n",
    "km_out_phen_GenePy[km_out_phen_GenePy['Cluster'] == 9]['ENSG00000187796.16_CARD9'].value_counts()"
   ],
   "id": "df77e7bd6c1010e7",
   "outputs": [],
   "execution_count": null
  },
  {
   "metadata": {},
   "cell_type": "code",
   "source": [
    "#Check counts of clinical variables\n",
    "km_out_phen_GenePy[km_out_phen_GenePy['Cluster'] == 20]['Diagnosis'].value_counts()"
   ],
   "id": "7bb6389f6e96e534",
   "outputs": [],
   "execution_count": null
  },
  {
   "metadata": {},
   "cell_type": "code",
   "source": "km_out_phen_GenePy[(km_out_phen_GenePy['Cluster'] == 7) & (km_out_phen_GenePy['Diagnosis'] == \"CD\")]['IBD phenotype'].value_counts()\n",
   "id": "b85cd8bc82e01e73",
   "outputs": [],
   "execution_count": null
  },
  {
   "metadata": {},
   "cell_type": "code",
   "source": "km_out_phen_GenePy[km_out_phen_GenePy['Cluster'] == 21].value_counts(['Diagnosis', 'Crohn s disease phenotype', \"IBD surgery final\"])",
   "id": "6a4371a886a83514",
   "outputs": [],
   "execution_count": null
  },
  {
   "metadata": {},
   "cell_type": "code",
   "source": [
    "#Check raw and multiple-test-corrected p-values\n",
    "results_df['Granuloma']['overall_p_value']#.keys()"
   ],
   "id": "7fe394ac1e2818b0",
   "outputs": [],
   "execution_count": null
  },
  {
   "metadata": {},
   "cell_type": "markdown",
   "source": "## 43 NOD Signalling Genes",
   "id": "ae935fd2527c14a0"
  },
  {
   "metadata": {},
   "cell_type": "code",
   "source": [
    "results_df = KM_opt(SotonIBD_CADD15_GenePy, NOD_sig_genes43, 50, cohort_name='Soton')\n",
    "#Optimise k based on silhouette score, DBI, and ARI\n",
    "#metrics_df = compute_clustering_metrics(SotonIBD_CADD15_GenePy, NOD_sig_genes43, 50, \"Soton\", n_iter=100)\n",
    "metrics_df=pd.read_table(\"C:/Users/fvl1g23/OneDrive - University of Southampton/PhD/Projects/ML/Unsupervised ML/K-Means Paper/Soton_NODsig43_clustering_metrics.txt\")\n",
    "#metrics_df.to_csv(\"C:/Users/fvl1g23/OneDrive - University of Southampton/PhD/Projects/ML/Unsupervised ML/K-Means Paper/Soton_NODsig43_clustering_metrics.txt\", sep=\"\\t\", index=False)"
   ],
   "id": "2405d9145da19ed2",
   "outputs": [],
   "execution_count": null
  },
  {
   "metadata": {},
   "cell_type": "code",
   "source": [
    "#results_df\n",
    "metrics_df"
   ],
   "id": "5cc78c572c9a13c",
   "outputs": [],
   "execution_count": null
  },
  {
   "metadata": {},
   "cell_type": "code",
   "source": "plotk(results_df, [6, 24, 31])",
   "id": "87a13c65560aab17",
   "outputs": [],
   "execution_count": null
  },
  {
   "metadata": {},
   "cell_type": "code",
   "source": "plot_clustering_metrics(metrics_df, vlines=[8, 16, 34])",
   "id": "b81cccc6cb94024c",
   "outputs": [],
   "execution_count": null
  },
  {
   "metadata": {},
   "cell_type": "markdown",
   "source": "### K = 8",
   "id": "c58e176c7aed9045"
  },
  {
   "metadata": {},
   "cell_type": "code",
   "source": [
    "km_out_soton, X = KM(SotonIBD_CADD15_GenePy, NOD_sig_genes43, 8, \"Soton\") #39 genes; missing IL-18, NLRP7, NAIP, IKBKG\n",
    "km_out_phen_GenePy_soton = merge_phen_genepy(km_out_soton, SotonIBD_CADD15_GenePy, X, cohort_name=\"Soton\")\n",
    "km_out_phen_GenePy_soton.to_csv(\"C:/Users/fvl1g23/OneDrive - University of Southampton/PhD/Projects/ML/Unsupervised ML/K-Means Paper/Soton_KMeans_39F_8C_NOD_1_genepy.txt\", sep='\\t', index=False)"
   ],
   "id": "b6c87d9f27045d81",
   "outputs": [],
   "execution_count": null
  },
  {
   "metadata": {},
   "cell_type": "code",
   "source": "km_out_soton.value_counts().sort_values(ascending=False)",
   "id": "e0d613b0fed34a4d",
   "outputs": [],
   "execution_count": null
  },
  {
   "metadata": {},
   "cell_type": "code",
   "source": [
    "results_df = analyze_cluster_deviations(km_out_phen_GenePy_soton, ['Diagnosis', 'IBD.phenotype', 'IBD.Surgery'])\n",
    "values = [subdict['overall_p_value'] for subdict in list(results_df.values())[:3]]\n",
    "print(values)"
   ],
   "id": "334d045fef366300",
   "outputs": [],
   "execution_count": null
  },
  {
   "metadata": {},
   "cell_type": "markdown",
   "source": "### K = 16",
   "id": "4748aede56b9c03f"
  },
  {
   "metadata": {},
   "cell_type": "code",
   "source": [
    "km_out_soton, X = KM(SotonIBD_CADD15_GenePy, NOD_sig_genes43, 16, \"Soton\") #39 genes; missing IL-18, NLRP7, NAIP, IKBKG\n",
    "km_out_phen_GenePy_soton = merge_phen_genepy(km_out_soton, SotonIBD_CADD15_GenePy, X, cohort_name=\"Soton\")\n",
    "#km_out_phen_GenePy_soton.to_csv(\"C:/Users/fvl1g23/OneDrive - University of Southampton/PhD/Projects/ML/Unsupervised ML/K-Means Paper/Soton_KMeans_39F_16C_NOD_1_genepy.txt\", sep='\\t', index=False)"
   ],
   "id": "c801e12437bd25e7",
   "outputs": [],
   "execution_count": null
  },
  {
   "metadata": {},
   "cell_type": "code",
   "source": "km_out_soton.value_counts().sort_values(ascending=False)",
   "id": "bb5e66d4b01b2bd8",
   "outputs": [],
   "execution_count": null
  },
  {
   "metadata": {},
   "cell_type": "code",
   "source": "feat_imp_soton = KM_RF(km_out_soton, X)",
   "id": "3558a46e28021684",
   "outputs": [],
   "execution_count": null
  },
  {
   "metadata": {},
   "cell_type": "code",
   "source": "feat_imp_soton[feat_imp_soton['Feature'] == \"ENSG00000185386_MAPK11\"]",
   "id": "860670d0c12b0474",
   "outputs": [],
   "execution_count": null
  },
  {
   "metadata": {},
   "cell_type": "code",
   "source": [
    "results_df = analyze_cluster_deviations(km_out_phen_GenePy_soton, ['Diagnosis', 'IBD.phenotype', 'IBD.Surgery'])\n",
    "values = [subdict['overall_p_value'] for subdict in list(results_df.values())[:3]]\n",
    "print(values)"
   ],
   "id": "a173ee0bfe5ad66e",
   "outputs": [],
   "execution_count": null
  },
  {
   "metadata": {},
   "cell_type": "markdown",
   "source": "### K = 34",
   "id": "be9de3e71ed8187d"
  },
  {
   "metadata": {},
   "cell_type": "code",
   "source": [
    "km_out_soton, X = KM(SotonIBD_CADD15_GenePy, NOD_sig_genes43, 34, \"Soton\")  #39 genes; missing IL-18, NLRP7, NAIP, IKBKG\n",
    "km_out_phen_GenePy_soton = merge_phen_genepy(km_out_soton, SotonIBD_CADD15_GenePy, X, cohort_name=\"Soton\")\n",
    "km_out_phen_GenePy_soton.to_csv(\n",
    "    \"C:/Users/fvl1g23/OneDrive - University of Southampton/PhD/Projects/ML/Unsupervised ML/K-Means Paper/Soton_KMeans_39F_34C_NOD_1_genepy.txt\",\n",
    "    sep='\\t', index=False)"
   ],
   "id": "5eed1a012ec7b1e6",
   "outputs": [],
   "execution_count": null
  },
  {
   "metadata": {},
   "cell_type": "code",
   "source": "km_out_soton.value_counts().sort_values(ascending=False)",
   "id": "9d0c2ccd613b1820",
   "outputs": [],
   "execution_count": null
  },
  {
   "metadata": {},
   "cell_type": "code",
   "source": [
    "results_df = analyze_cluster_deviations(km_out_phen_GenePy_soton, ['Diagnosis', 'IBD.phenotype', 'IBD.Surgery'])\n",
    "values = [subdict['overall_p_value'] for subdict in list(results_df.values())[:3]]\n",
    "print(values)"
   ],
   "id": "46b55b8a388f1913",
   "outputs": [],
   "execution_count": null
  },
  {
   "metadata": {},
   "cell_type": "markdown",
   "source": "## 13 NOD Signalling Genes",
   "id": "58363e9c8c1d608b"
  },
  {
   "metadata": {},
   "cell_type": "code",
   "source": [
    "results_df = KM_opt(SotonIBD_CADD15_GenePy, NOD_sig_genes13, 50, cohort_name='Soton')\n",
    "#Optimise k based on silhouette score, DBI, and ARI\n",
    "#metrics_df = compute_clustering_metrics(SotonIBD_CADD15_GenePy, NOD_sig_genes12, 50, \"Soton\", n_iter=100)\n",
    "metrics_df=pd.read_table(\"C:/Users/fvl1g23/OneDrive - University of Southampton/PhD/Projects/ML/Unsupervised ML/K-Means Paper/Soton_NODsig13_clustering_metrics.txt\")\n",
    "#metrics_df.to_csv(\"C:/Users/fvl1g23/OneDrive - University of Southampton/PhD/Projects/ML/Unsupervised ML/K-Means Paper/Soton_NODsig12_clustering_metrics.txt\", sep=\"\\t\", index=False)"
   ],
   "id": "8f135bddf6eb0856",
   "outputs": [],
   "execution_count": null
  },
  {
   "metadata": {},
   "cell_type": "code",
   "source": "results_df",
   "id": "9d44ee87a6efb00b",
   "outputs": [],
   "execution_count": null
  },
  {
   "metadata": {},
   "cell_type": "code",
   "source": "metrics_df",
   "id": "395cf9b2abf8f9d8",
   "outputs": [],
   "execution_count": null
  },
  {
   "metadata": {},
   "cell_type": "code",
   "source": "plotk(results_df, [12, 23, 34, 38])",
   "id": "863f8b5e9d32b196",
   "outputs": [],
   "execution_count": null
  },
  {
   "metadata": {},
   "cell_type": "code",
   "source": "plot_clustering_metrics(metrics_df, vlines=[20, 24, 30])",
   "id": "48a7bceb4c7e82ad",
   "outputs": [],
   "execution_count": null
  },
  {
   "metadata": {},
   "cell_type": "markdown",
   "source": "### K = 20",
   "id": "6a3a01d5fadbb06b"
  },
  {
   "metadata": {},
   "cell_type": "code",
   "source": [
    "km_out_soton, X = KM(SotonIBD_CADD15_GenePy, NOD_sig_genes13, 20, \"Soton\")\n",
    "km_out_phen_GenePy_soton = merge_phen_genepy(km_out_soton, SotonIBD_CADD15_GenePy, X, cohort_name=\"Soton\")"
   ],
   "id": "e0d5ce1674cde359",
   "outputs": [],
   "execution_count": null
  },
  {
   "metadata": {},
   "cell_type": "code",
   "source": "km_out_soton.value_counts().sort_values(ascending=False)",
   "id": "d245fd396afefaf5",
   "outputs": [],
   "execution_count": null
  },
  {
   "metadata": {},
   "cell_type": "code",
   "source": [
    "results_df = analyze_cluster_deviations(km_out_phen_GenePy_soton, ['Diagnosis', 'IBD.phenotype', 'IBD.Surgery'])\n",
    "values = [subdict['overall_p_value'] for subdict in list(results_df.values())[:3]]\n",
    "print(values)"
   ],
   "id": "94e529e989d1b46d",
   "outputs": [],
   "execution_count": null
  },
  {
   "metadata": {},
   "cell_type": "markdown",
   "source": "### K = 24",
   "id": "bd2ad57a43464e6a"
  },
  {
   "metadata": {},
   "cell_type": "code",
   "source": [
    "km_out_soton, X = KM(SotonIBD_CADD15_GenePy, NOD_sig_genes13, 24, \"Soton\")\n",
    "km_out_phen_GenePy_soton = merge_phen_genepy(km_out_soton, SotonIBD_CADD15_GenePy, X, cohort_name=\"Soton\")\n",
    "#km_out_phen_GenePy_soton.to_csv(\"C:/Users/fvl1g23/OneDrive - University of Southampton/PhD/Projects/ML/Unsupervised ML/K-Means Paper/Soton_KMeans_13F_24C_NOD_1_genepy.txt\", sep='\\t', index=False)"
   ],
   "id": "ccd7bd45a99073a3",
   "outputs": [],
   "execution_count": null
  },
  {
   "metadata": {},
   "cell_type": "code",
   "source": "km_out_soton.value_counts().sort_values(ascending=False)",
   "id": "785802c7a5a21193",
   "outputs": [],
   "execution_count": null
  },
  {
   "metadata": {},
   "cell_type": "code",
   "source": "feat_imp_soton = KM_RF(km_out_soton, X)",
   "id": "6236b559202836a5",
   "outputs": [],
   "execution_count": null
  },
  {
   "metadata": {},
   "cell_type": "code",
   "source": "feat_imp_soton[feat_imp_soton['Feature'] == \"ENSG00000188130_MAPK12\"].sort_values(\"Importance\", ascending=False)",
   "id": "8a741244cb670a0a",
   "outputs": [],
   "execution_count": null
  },
  {
   "metadata": {},
   "cell_type": "code",
   "source": "feat_imp_soton[feat_imp_soton['Cluster'] == 2].sort_values(\"Importance\", ascending=False)",
   "id": "d7151062dc8c7e0b",
   "outputs": [],
   "execution_count": null
  },
  {
   "metadata": {},
   "cell_type": "code",
   "source": [
    "results_df = analyze_cluster_deviations(km_out_phen_GenePy_soton, ['Diagnosis', 'IBD.phenotype', 'IBD.Surgery'])\n",
    "values = [subdict['overall_p_value'] for subdict in list(results_df.values())[:3]]\n",
    "print(values)"
   ],
   "id": "e4f181ce52ca2af0",
   "outputs": [],
   "execution_count": null
  },
  {
   "metadata": {},
   "cell_type": "markdown",
   "source": "### K = 30",
   "id": "dcf8aaedc9e5deb3"
  },
  {
   "metadata": {},
   "cell_type": "code",
   "source": [
    "km_out_soton, X = KM(SotonIBD_CADD15_GenePy, NOD_sig_genes13, 30, \"Soton\")\n",
    "km_out_phen_GenePy_soton = merge_phen_genepy(km_out_soton, SotonIBD_CADD15_GenePy, X, cohort_name=\"Soton\")"
   ],
   "id": "5934befb9cee6603",
   "outputs": [],
   "execution_count": null
  },
  {
   "metadata": {},
   "cell_type": "code",
   "source": "km_out_soton.value_counts().sort_values(ascending=False)",
   "id": "822fc7b59b381bf6",
   "outputs": [],
   "execution_count": null
  },
  {
   "metadata": {},
   "cell_type": "code",
   "source": [
    "results_df = analyze_cluster_deviations(km_out_phen_GenePy_soton, ['Diagnosis', 'IBD.phenotype', 'IBD.Surgery'])\n",
    "values = [subdict['overall_p_value'] for subdict in list(results_df.values())[:3]]\n",
    "print(values)"
   ],
   "id": "5a69b68b332ac48f",
   "outputs": [],
   "execution_count": null
  },
  {
   "metadata": {},
   "cell_type": "markdown",
   "source": "## 49 IL-10 Signalling Genes",
   "id": "25b50856c8b9f414"
  },
  {
   "metadata": {},
   "cell_type": "code",
   "source": [
    "results_df = KM_opt(SotonIBD_CADD15_GenePy, IL10_sig_genes_49, 50, cohort_name='Soton')\n",
    "#Optimise k based on silhouette score, DBI, and ARI\n",
    "#metrics_df = compute_clustering_metrics(SotonIBD_CADD15_GenePy, NOD_sig_genes43, 50, \"Soton\", n_iter=100)\n",
    "metrics_df=pd.read_table(\"C:/Users/fvl1g23/OneDrive - University of Southampton/PhD/Projects/ML/Unsupervised ML/K-Means Paper/Soton_IL10sig49_clustering_metrics.txt\")\n",
    "#metrics_df.to_csv(\"C:/Users/fvl1g23/OneDrive - University of Southampton/PhD/Projects/ML/Unsupervised ML/K-Means Paper/Soton_NODsig43_clustering_metrics.txt\", sep=\"\\t\", index=False)"
   ],
   "id": "349e624c092e8ff5",
   "outputs": [],
   "execution_count": null
  },
  {
   "metadata": {},
   "cell_type": "code",
   "source": "results_df",
   "id": "c9ebb8cd32c25a7d",
   "outputs": [],
   "execution_count": null
  },
  {
   "metadata": {},
   "cell_type": "code",
   "source": "metrics_df",
   "id": "367d5d25e234b99b",
   "outputs": [],
   "execution_count": null
  },
  {
   "metadata": {},
   "cell_type": "code",
   "source": "plotk(results_df, [6, 35])",
   "id": "8a9fcda922257495",
   "outputs": [],
   "execution_count": null
  },
  {
   "metadata": {},
   "cell_type": "code",
   "source": "plot_clustering_metrics(metrics_df, vlines=[17, 29, 36])",
   "id": "b3831281a98791bc",
   "outputs": [],
   "execution_count": null
  },
  {
   "metadata": {},
   "cell_type": "markdown",
   "source": "### K = 29",
   "id": "14bc6c13aee63f45"
  },
  {
   "metadata": {},
   "cell_type": "code",
   "source": [
    "km_out_soton, X = KM(SotonIBD_CADD15_GenePy, IL10_sig_genes_49, 29, \"Soton\") #42 genes\n",
    "km_out_phen_GenePy_soton = merge_phen_genepy(km_out_soton, SotonIBD_CADD15_GenePy, X, cohort_name=\"Soton\")\n",
    "km_out_phen_GenePy_soton.to_csv(\"C:/Users/fvl1g23/OneDrive - University of Southampton/PhD/Projects/ML/Unsupervised ML/K-Means Paper/Soton_KMeans_42F_29C_IL10_1_genepy.txt\", sep='\\t', index=False)"
   ],
   "id": "3d13b113d5fc44b8",
   "outputs": [],
   "execution_count": null
  },
  {
   "metadata": {},
   "cell_type": "code",
   "source": "X",
   "id": "eea250ada08f72f1",
   "outputs": [],
   "execution_count": null
  },
  {
   "metadata": {},
   "cell_type": "markdown",
   "source": "# Mt Sinai IBD",
   "id": "e9eb78ad9299bae"
  },
  {
   "metadata": {},
   "cell_type": "markdown",
   "source": "## 9 NOD Signalling Genes",
   "id": "1576d584c6cb4a8d"
  },
  {
   "metadata": {
    "ExecuteTime": {
     "end_time": "2025-08-07T15:44:39.053261Z",
     "start_time": "2025-08-07T15:40:55.468771Z"
    }
   },
   "cell_type": "code",
   "source": [
    "#Optimise k based on silhouette score and DBI\n",
    "#results_df = KM_opt(MSCCR_IBD_CADD15_GenePy, NOD_sig_genes9, 50, cohort_name='MSCCR')\n",
    "#Optimise k based on silhouette score, DBI, and ARI\n",
    "metrics_df = compute_clustering_metrics(MSCCR_IBD_CADD15_GenePy, NOD_sig_genes9, 50, \"MSCCR\", n_iter=100)\n",
    "metrics_df.to_csv(\"C:/Users/fvl1g23/OneDrive - University of Southampton/PhD/Projects/ML/Unsupervised ML/K-Means Paper/MSCCR_NODsig9_clustering_metrics.txt\", sep=\"\\t\", index=False)\n",
    "#metrics_df=pd.read_table(\"C:/Users/fvl1g23/OneDrive - University of Southampton/PhD/Projects/ML/Unsupervised ML/K-Means Paper/SPARC_NODsig9_clustering_metrics.txt\", index_col=None)"
   ],
   "id": "1f5baa46a31506bb",
   "outputs": [],
   "execution_count": 14
  },
  {
   "metadata": {
    "ExecuteTime": {
     "end_time": "2025-08-07T15:39:31.793328Z",
     "start_time": "2025-08-07T15:39:31.784150Z"
    }
   },
   "cell_type": "code",
   "source": "results_df",
   "id": "664a050749102a98",
   "outputs": [
    {
     "data": {
      "text/plain": [
       "    n_clusters  silhouette_score  DBI_score  max_cluster_size\n",
       "0            2          0.513089   0.914986              1161\n",
       "1            3          0.515550   1.065208              1106\n",
       "2            4          0.510091   0.882447              1094\n",
       "3            5          0.521515   0.819263              1079\n",
       "4            6          0.420019   0.942246               901\n",
       "5            7          0.457869   0.844923               873\n",
       "6            8          0.557627   0.759048               960\n",
       "7            9          0.472375   0.802572               888\n",
       "8           10          0.334823   0.968660               666\n",
       "9           11          0.340774   0.915482               665\n",
       "10          12          0.383152   0.836245               635\n",
       "11          13          0.380268   0.918187               635\n",
       "12          14          0.447708   0.847732               561\n",
       "13          15          0.447502   0.882423               561\n",
       "14          16          0.449621   0.854187               561\n",
       "15          17          0.453819   0.831013               560\n",
       "16          18          0.455740   0.812479               560\n",
       "17          19          0.447253   0.873366               560\n",
       "18          20          0.411659   0.896549               366\n",
       "19          21          0.453595   0.834295               292\n",
       "20          22          0.460403   0.801582               292\n",
       "21          23          0.444172   0.872708               292\n",
       "22          24          0.432201   0.899168               292\n",
       "23          25          0.432869   0.880026               292\n",
       "24          26          0.433091   0.839756               292\n",
       "25          27          0.427498   0.866682               292\n",
       "26          28          0.428365   0.838595               292\n",
       "27          29          0.433411   0.852433               292\n",
       "28          30          0.431199   0.917915               292\n",
       "29          31          0.445542   0.891467               292\n",
       "30          32          0.441691   0.891602               292\n",
       "31          33          0.442410   0.877117               292\n",
       "32          34          0.441038   0.856698               292\n",
       "33          35          0.440539   0.816205               292\n",
       "34          36          0.440903   0.797666               292\n",
       "35          37          0.440427   0.800542               292\n",
       "36          38          0.440015   0.786571               292\n",
       "37          39          0.440530   0.756782               292\n",
       "38          40          0.465559   0.739425               292\n",
       "39          41          0.467749   0.735424               292\n",
       "40          42          0.478431   0.746894               292\n",
       "41          43          0.479389   0.733653               292\n",
       "42          44          0.479269   0.711196               292\n",
       "43          45          0.469720   0.737869               292\n",
       "44          46          0.469750   0.716207               292\n",
       "45          47          0.461584   0.729362               292\n",
       "46          48          0.460982   0.733519               292\n",
       "47          49          0.462059   0.737426               292\n",
       "48          50          0.459773   0.760361               292"
      ],
      "text/html": [
       "<div>\n",
       "<style scoped>\n",
       "    .dataframe tbody tr th:only-of-type {\n",
       "        vertical-align: middle;\n",
       "    }\n",
       "\n",
       "    .dataframe tbody tr th {\n",
       "        vertical-align: top;\n",
       "    }\n",
       "\n",
       "    .dataframe thead th {\n",
       "        text-align: right;\n",
       "    }\n",
       "</style>\n",
       "<table border=\"1\" class=\"dataframe\">\n",
       "  <thead>\n",
       "    <tr style=\"text-align: right;\">\n",
       "      <th></th>\n",
       "      <th>n_clusters</th>\n",
       "      <th>silhouette_score</th>\n",
       "      <th>DBI_score</th>\n",
       "      <th>max_cluster_size</th>\n",
       "    </tr>\n",
       "  </thead>\n",
       "  <tbody>\n",
       "    <tr>\n",
       "      <th>0</th>\n",
       "      <td>2</td>\n",
       "      <td>0.513089</td>\n",
       "      <td>0.914986</td>\n",
       "      <td>1161</td>\n",
       "    </tr>\n",
       "    <tr>\n",
       "      <th>1</th>\n",
       "      <td>3</td>\n",
       "      <td>0.515550</td>\n",
       "      <td>1.065208</td>\n",
       "      <td>1106</td>\n",
       "    </tr>\n",
       "    <tr>\n",
       "      <th>2</th>\n",
       "      <td>4</td>\n",
       "      <td>0.510091</td>\n",
       "      <td>0.882447</td>\n",
       "      <td>1094</td>\n",
       "    </tr>\n",
       "    <tr>\n",
       "      <th>3</th>\n",
       "      <td>5</td>\n",
       "      <td>0.521515</td>\n",
       "      <td>0.819263</td>\n",
       "      <td>1079</td>\n",
       "    </tr>\n",
       "    <tr>\n",
       "      <th>4</th>\n",
       "      <td>6</td>\n",
       "      <td>0.420019</td>\n",
       "      <td>0.942246</td>\n",
       "      <td>901</td>\n",
       "    </tr>\n",
       "    <tr>\n",
       "      <th>5</th>\n",
       "      <td>7</td>\n",
       "      <td>0.457869</td>\n",
       "      <td>0.844923</td>\n",
       "      <td>873</td>\n",
       "    </tr>\n",
       "    <tr>\n",
       "      <th>6</th>\n",
       "      <td>8</td>\n",
       "      <td>0.557627</td>\n",
       "      <td>0.759048</td>\n",
       "      <td>960</td>\n",
       "    </tr>\n",
       "    <tr>\n",
       "      <th>7</th>\n",
       "      <td>9</td>\n",
       "      <td>0.472375</td>\n",
       "      <td>0.802572</td>\n",
       "      <td>888</td>\n",
       "    </tr>\n",
       "    <tr>\n",
       "      <th>8</th>\n",
       "      <td>10</td>\n",
       "      <td>0.334823</td>\n",
       "      <td>0.968660</td>\n",
       "      <td>666</td>\n",
       "    </tr>\n",
       "    <tr>\n",
       "      <th>9</th>\n",
       "      <td>11</td>\n",
       "      <td>0.340774</td>\n",
       "      <td>0.915482</td>\n",
       "      <td>665</td>\n",
       "    </tr>\n",
       "    <tr>\n",
       "      <th>10</th>\n",
       "      <td>12</td>\n",
       "      <td>0.383152</td>\n",
       "      <td>0.836245</td>\n",
       "      <td>635</td>\n",
       "    </tr>\n",
       "    <tr>\n",
       "      <th>11</th>\n",
       "      <td>13</td>\n",
       "      <td>0.380268</td>\n",
       "      <td>0.918187</td>\n",
       "      <td>635</td>\n",
       "    </tr>\n",
       "    <tr>\n",
       "      <th>12</th>\n",
       "      <td>14</td>\n",
       "      <td>0.447708</td>\n",
       "      <td>0.847732</td>\n",
       "      <td>561</td>\n",
       "    </tr>\n",
       "    <tr>\n",
       "      <th>13</th>\n",
       "      <td>15</td>\n",
       "      <td>0.447502</td>\n",
       "      <td>0.882423</td>\n",
       "      <td>561</td>\n",
       "    </tr>\n",
       "    <tr>\n",
       "      <th>14</th>\n",
       "      <td>16</td>\n",
       "      <td>0.449621</td>\n",
       "      <td>0.854187</td>\n",
       "      <td>561</td>\n",
       "    </tr>\n",
       "    <tr>\n",
       "      <th>15</th>\n",
       "      <td>17</td>\n",
       "      <td>0.453819</td>\n",
       "      <td>0.831013</td>\n",
       "      <td>560</td>\n",
       "    </tr>\n",
       "    <tr>\n",
       "      <th>16</th>\n",
       "      <td>18</td>\n",
       "      <td>0.455740</td>\n",
       "      <td>0.812479</td>\n",
       "      <td>560</td>\n",
       "    </tr>\n",
       "    <tr>\n",
       "      <th>17</th>\n",
       "      <td>19</td>\n",
       "      <td>0.447253</td>\n",
       "      <td>0.873366</td>\n",
       "      <td>560</td>\n",
       "    </tr>\n",
       "    <tr>\n",
       "      <th>18</th>\n",
       "      <td>20</td>\n",
       "      <td>0.411659</td>\n",
       "      <td>0.896549</td>\n",
       "      <td>366</td>\n",
       "    </tr>\n",
       "    <tr>\n",
       "      <th>19</th>\n",
       "      <td>21</td>\n",
       "      <td>0.453595</td>\n",
       "      <td>0.834295</td>\n",
       "      <td>292</td>\n",
       "    </tr>\n",
       "    <tr>\n",
       "      <th>20</th>\n",
       "      <td>22</td>\n",
       "      <td>0.460403</td>\n",
       "      <td>0.801582</td>\n",
       "      <td>292</td>\n",
       "    </tr>\n",
       "    <tr>\n",
       "      <th>21</th>\n",
       "      <td>23</td>\n",
       "      <td>0.444172</td>\n",
       "      <td>0.872708</td>\n",
       "      <td>292</td>\n",
       "    </tr>\n",
       "    <tr>\n",
       "      <th>22</th>\n",
       "      <td>24</td>\n",
       "      <td>0.432201</td>\n",
       "      <td>0.899168</td>\n",
       "      <td>292</td>\n",
       "    </tr>\n",
       "    <tr>\n",
       "      <th>23</th>\n",
       "      <td>25</td>\n",
       "      <td>0.432869</td>\n",
       "      <td>0.880026</td>\n",
       "      <td>292</td>\n",
       "    </tr>\n",
       "    <tr>\n",
       "      <th>24</th>\n",
       "      <td>26</td>\n",
       "      <td>0.433091</td>\n",
       "      <td>0.839756</td>\n",
       "      <td>292</td>\n",
       "    </tr>\n",
       "    <tr>\n",
       "      <th>25</th>\n",
       "      <td>27</td>\n",
       "      <td>0.427498</td>\n",
       "      <td>0.866682</td>\n",
       "      <td>292</td>\n",
       "    </tr>\n",
       "    <tr>\n",
       "      <th>26</th>\n",
       "      <td>28</td>\n",
       "      <td>0.428365</td>\n",
       "      <td>0.838595</td>\n",
       "      <td>292</td>\n",
       "    </tr>\n",
       "    <tr>\n",
       "      <th>27</th>\n",
       "      <td>29</td>\n",
       "      <td>0.433411</td>\n",
       "      <td>0.852433</td>\n",
       "      <td>292</td>\n",
       "    </tr>\n",
       "    <tr>\n",
       "      <th>28</th>\n",
       "      <td>30</td>\n",
       "      <td>0.431199</td>\n",
       "      <td>0.917915</td>\n",
       "      <td>292</td>\n",
       "    </tr>\n",
       "    <tr>\n",
       "      <th>29</th>\n",
       "      <td>31</td>\n",
       "      <td>0.445542</td>\n",
       "      <td>0.891467</td>\n",
       "      <td>292</td>\n",
       "    </tr>\n",
       "    <tr>\n",
       "      <th>30</th>\n",
       "      <td>32</td>\n",
       "      <td>0.441691</td>\n",
       "      <td>0.891602</td>\n",
       "      <td>292</td>\n",
       "    </tr>\n",
       "    <tr>\n",
       "      <th>31</th>\n",
       "      <td>33</td>\n",
       "      <td>0.442410</td>\n",
       "      <td>0.877117</td>\n",
       "      <td>292</td>\n",
       "    </tr>\n",
       "    <tr>\n",
       "      <th>32</th>\n",
       "      <td>34</td>\n",
       "      <td>0.441038</td>\n",
       "      <td>0.856698</td>\n",
       "      <td>292</td>\n",
       "    </tr>\n",
       "    <tr>\n",
       "      <th>33</th>\n",
       "      <td>35</td>\n",
       "      <td>0.440539</td>\n",
       "      <td>0.816205</td>\n",
       "      <td>292</td>\n",
       "    </tr>\n",
       "    <tr>\n",
       "      <th>34</th>\n",
       "      <td>36</td>\n",
       "      <td>0.440903</td>\n",
       "      <td>0.797666</td>\n",
       "      <td>292</td>\n",
       "    </tr>\n",
       "    <tr>\n",
       "      <th>35</th>\n",
       "      <td>37</td>\n",
       "      <td>0.440427</td>\n",
       "      <td>0.800542</td>\n",
       "      <td>292</td>\n",
       "    </tr>\n",
       "    <tr>\n",
       "      <th>36</th>\n",
       "      <td>38</td>\n",
       "      <td>0.440015</td>\n",
       "      <td>0.786571</td>\n",
       "      <td>292</td>\n",
       "    </tr>\n",
       "    <tr>\n",
       "      <th>37</th>\n",
       "      <td>39</td>\n",
       "      <td>0.440530</td>\n",
       "      <td>0.756782</td>\n",
       "      <td>292</td>\n",
       "    </tr>\n",
       "    <tr>\n",
       "      <th>38</th>\n",
       "      <td>40</td>\n",
       "      <td>0.465559</td>\n",
       "      <td>0.739425</td>\n",
       "      <td>292</td>\n",
       "    </tr>\n",
       "    <tr>\n",
       "      <th>39</th>\n",
       "      <td>41</td>\n",
       "      <td>0.467749</td>\n",
       "      <td>0.735424</td>\n",
       "      <td>292</td>\n",
       "    </tr>\n",
       "    <tr>\n",
       "      <th>40</th>\n",
       "      <td>42</td>\n",
       "      <td>0.478431</td>\n",
       "      <td>0.746894</td>\n",
       "      <td>292</td>\n",
       "    </tr>\n",
       "    <tr>\n",
       "      <th>41</th>\n",
       "      <td>43</td>\n",
       "      <td>0.479389</td>\n",
       "      <td>0.733653</td>\n",
       "      <td>292</td>\n",
       "    </tr>\n",
       "    <tr>\n",
       "      <th>42</th>\n",
       "      <td>44</td>\n",
       "      <td>0.479269</td>\n",
       "      <td>0.711196</td>\n",
       "      <td>292</td>\n",
       "    </tr>\n",
       "    <tr>\n",
       "      <th>43</th>\n",
       "      <td>45</td>\n",
       "      <td>0.469720</td>\n",
       "      <td>0.737869</td>\n",
       "      <td>292</td>\n",
       "    </tr>\n",
       "    <tr>\n",
       "      <th>44</th>\n",
       "      <td>46</td>\n",
       "      <td>0.469750</td>\n",
       "      <td>0.716207</td>\n",
       "      <td>292</td>\n",
       "    </tr>\n",
       "    <tr>\n",
       "      <th>45</th>\n",
       "      <td>47</td>\n",
       "      <td>0.461584</td>\n",
       "      <td>0.729362</td>\n",
       "      <td>292</td>\n",
       "    </tr>\n",
       "    <tr>\n",
       "      <th>46</th>\n",
       "      <td>48</td>\n",
       "      <td>0.460982</td>\n",
       "      <td>0.733519</td>\n",
       "      <td>292</td>\n",
       "    </tr>\n",
       "    <tr>\n",
       "      <th>47</th>\n",
       "      <td>49</td>\n",
       "      <td>0.462059</td>\n",
       "      <td>0.737426</td>\n",
       "      <td>292</td>\n",
       "    </tr>\n",
       "    <tr>\n",
       "      <th>48</th>\n",
       "      <td>50</td>\n",
       "      <td>0.459773</td>\n",
       "      <td>0.760361</td>\n",
       "      <td>292</td>\n",
       "    </tr>\n",
       "  </tbody>\n",
       "</table>\n",
       "</div>"
      ]
     },
     "execution_count": 11,
     "metadata": {},
     "output_type": "execute_result"
    }
   ],
   "execution_count": 11
  },
  {
   "metadata": {
    "ExecuteTime": {
     "end_time": "2025-08-07T15:44:45.001407Z",
     "start_time": "2025-08-07T15:44:44.984650Z"
    }
   },
   "cell_type": "code",
   "source": "metrics_df",
   "id": "ff91a6e99ac6461a",
   "outputs": [
    {
     "data": {
      "text/plain": [
       "     k  mean_ari   std_ari    ci_ari  mean_silhouette  std_silhouette  \\\n",
       "0    2  0.347663  0.419992  0.011704         0.515510        0.080279   \n",
       "1    3  0.619709  0.241062  0.006718         0.457834        0.082195   \n",
       "2    4  0.641778  0.195955  0.005461         0.452972        0.067625   \n",
       "3    5  0.648918  0.168387  0.004692         0.460626        0.071201   \n",
       "4    6  0.690575  0.154570  0.004307         0.468909        0.056444   \n",
       "5    7  0.661768  0.188039  0.005240         0.435939        0.086383   \n",
       "6    8  0.761416  0.159783  0.004453         0.466640        0.058600   \n",
       "7    9  0.738326  0.172851  0.004817         0.457694        0.070029   \n",
       "8   10  0.697622  0.183516  0.005114         0.449171        0.078019   \n",
       "9   11  0.733608  0.184967  0.005155         0.460644        0.076060   \n",
       "10  12  0.703132  0.185020  0.005156         0.453744        0.077351   \n",
       "11  13  0.706835  0.184384  0.005138         0.460740        0.068125   \n",
       "12  14  0.659458  0.178396  0.004971         0.434458        0.078098   \n",
       "13  15  0.676619  0.177358  0.004942         0.447984        0.069270   \n",
       "14  16  0.653287  0.170628  0.004755         0.434534        0.064192   \n",
       "15  17  0.675579  0.175519  0.004891         0.442618        0.050752   \n",
       "16  18  0.668300  0.169853  0.004733         0.434765        0.048637   \n",
       "17  19  0.702122  0.168622  0.004699         0.436639        0.039952   \n",
       "18  20  0.684094  0.159507  0.004445         0.436310        0.042285   \n",
       "19  21  0.725445  0.156492  0.004361         0.439237        0.033121   \n",
       "20  22  0.750903  0.147449  0.004109         0.443928        0.024501   \n",
       "21  23  0.725321  0.156496  0.004361         0.438826        0.032613   \n",
       "22  24  0.736479  0.140701  0.003921         0.442430        0.028239   \n",
       "23  25  0.744428  0.135745  0.003783         0.443085        0.024999   \n",
       "24  26  0.759403  0.134277  0.003742         0.450910        0.025337   \n",
       "25  27  0.781301  0.133166  0.003711         0.448972        0.024424   \n",
       "26  28  0.743574  0.135853  0.003786         0.443303        0.029363   \n",
       "27  29  0.747530  0.129663  0.003613         0.452964        0.034570   \n",
       "28  30  0.756833  0.123894  0.003453         0.453302        0.032152   \n",
       "29  31  0.747498  0.118994  0.003316         0.455700        0.030623   \n",
       "30  32  0.743808  0.121389  0.003383         0.453406        0.031529   \n",
       "31  33  0.723488  0.114873  0.003201         0.460100        0.037726   \n",
       "32  34  0.728371  0.109455  0.003050         0.462542        0.037616   \n",
       "33  35  0.710073  0.108136  0.003013         0.464263        0.042336   \n",
       "34  36  0.736581  0.109813  0.003060         0.468817        0.040908   \n",
       "35  37  0.733479  0.103061  0.002872         0.480167        0.040633   \n",
       "36  38  0.743755  0.102870  0.002867         0.480819        0.042131   \n",
       "37  39  0.754740  0.098213  0.002737         0.489320        0.042821   \n",
       "38  40  0.747609  0.098153  0.002735         0.488168        0.043575   \n",
       "39  41  0.766975  0.101000  0.002815         0.500563        0.040366   \n",
       "40  42  0.775167  0.094900  0.002645         0.501403        0.037667   \n",
       "41  43  0.786537  0.100614  0.002804         0.509916        0.039988   \n",
       "42  44  0.786927  0.095437  0.002660         0.513898        0.037576   \n",
       "43  45  0.825345  0.085979  0.002396         0.518510        0.031723   \n",
       "44  46  0.809851  0.092313  0.002573         0.519669        0.033724   \n",
       "45  47  0.803255  0.094158  0.002624         0.517824        0.037027   \n",
       "46  48  0.827125  0.083260  0.002320         0.522893        0.031706   \n",
       "47  49  0.847765  0.079566  0.002217         0.531414        0.026852   \n",
       "48  50  0.861378  0.061113  0.001703         0.535091        0.021560   \n",
       "\n",
       "    ci_silhouette  mean_dbi   std_dbi    ci_dbi  \n",
       "0        0.016009  1.026423  0.314030  0.062624  \n",
       "1        0.016392  1.091357  0.300360  0.059898  \n",
       "2        0.013486  1.025340  0.227554  0.045379  \n",
       "3        0.014199  0.987342  0.205775  0.041036  \n",
       "4        0.011256  0.908106  0.153580  0.030627  \n",
       "5        0.017227  0.905838  0.153980  0.030707  \n",
       "6        0.011686  0.820330  0.108931  0.021723  \n",
       "7        0.013965  0.816944  0.108388  0.021615  \n",
       "8        0.015559  0.815795  0.101023  0.020146  \n",
       "9        0.015168  0.805579  0.090676  0.018083  \n",
       "10       0.015425  0.805502  0.085593  0.017069  \n",
       "11       0.013586  0.798731  0.074218  0.014801  \n",
       "12       0.015574  0.822065  0.079358  0.015826  \n",
       "13       0.013814  0.821061  0.095059  0.018957  \n",
       "14       0.012801  0.823368  0.080933  0.016140  \n",
       "15       0.010121  0.824906  0.076311  0.015218  \n",
       "16       0.009699  0.832414  0.076274  0.015211  \n",
       "17       0.007967  0.825219  0.076230  0.015202  \n",
       "18       0.008432  0.826510  0.082415  0.016435  \n",
       "19       0.006605  0.825961  0.075076  0.014972  \n",
       "20       0.004886  0.825332  0.081876  0.016328  \n",
       "21       0.006504  0.845853  0.077796  0.015514  \n",
       "22       0.005631  0.845621  0.069580  0.013876  \n",
       "23       0.004985  0.838670  0.063837  0.012730  \n",
       "24       0.005053  0.823125  0.067681  0.013497  \n",
       "25       0.004871  0.828858  0.066335  0.013229  \n",
       "26       0.005856  0.849395  0.058815  0.011729  \n",
       "27       0.006894  0.839829  0.062446  0.012453  \n",
       "28       0.006412  0.834939  0.063765  0.012716  \n",
       "29       0.006107  0.832870  0.068226  0.013606  \n",
       "30       0.006288  0.837898  0.060134  0.011992  \n",
       "31       0.007523  0.836932  0.070031  0.013966  \n",
       "32       0.007501  0.831252  0.055929  0.011153  \n",
       "33       0.008443  0.841372  0.063241  0.012612  \n",
       "34       0.008158  0.829234  0.059374  0.011840  \n",
       "35       0.008103  0.813129  0.052963  0.010562  \n",
       "36       0.008402  0.816177  0.055470  0.011062  \n",
       "37       0.008539  0.807416  0.053012  0.010572  \n",
       "38       0.008690  0.808592  0.053642  0.010697  \n",
       "39       0.008050  0.793611  0.052074  0.010385  \n",
       "40       0.007512  0.792678  0.050457  0.010062  \n",
       "41       0.007974  0.784642  0.051121  0.010195  \n",
       "42       0.007493  0.781418  0.049834  0.009938  \n",
       "43       0.006326  0.779608  0.043440  0.008663  \n",
       "44       0.006725  0.782187  0.045341  0.009042  \n",
       "45       0.007384  0.770548  0.045039  0.008982  \n",
       "46       0.006323  0.769872  0.050322  0.010035  \n",
       "47       0.005355  0.759171  0.039669  0.007911  \n",
       "48       0.004299  0.752090  0.041157  0.008208  "
      ],
      "text/html": [
       "<div>\n",
       "<style scoped>\n",
       "    .dataframe tbody tr th:only-of-type {\n",
       "        vertical-align: middle;\n",
       "    }\n",
       "\n",
       "    .dataframe tbody tr th {\n",
       "        vertical-align: top;\n",
       "    }\n",
       "\n",
       "    .dataframe thead th {\n",
       "        text-align: right;\n",
       "    }\n",
       "</style>\n",
       "<table border=\"1\" class=\"dataframe\">\n",
       "  <thead>\n",
       "    <tr style=\"text-align: right;\">\n",
       "      <th></th>\n",
       "      <th>k</th>\n",
       "      <th>mean_ari</th>\n",
       "      <th>std_ari</th>\n",
       "      <th>ci_ari</th>\n",
       "      <th>mean_silhouette</th>\n",
       "      <th>std_silhouette</th>\n",
       "      <th>ci_silhouette</th>\n",
       "      <th>mean_dbi</th>\n",
       "      <th>std_dbi</th>\n",
       "      <th>ci_dbi</th>\n",
       "    </tr>\n",
       "  </thead>\n",
       "  <tbody>\n",
       "    <tr>\n",
       "      <th>0</th>\n",
       "      <td>2</td>\n",
       "      <td>0.347663</td>\n",
       "      <td>0.419992</td>\n",
       "      <td>0.011704</td>\n",
       "      <td>0.515510</td>\n",
       "      <td>0.080279</td>\n",
       "      <td>0.016009</td>\n",
       "      <td>1.026423</td>\n",
       "      <td>0.314030</td>\n",
       "      <td>0.062624</td>\n",
       "    </tr>\n",
       "    <tr>\n",
       "      <th>1</th>\n",
       "      <td>3</td>\n",
       "      <td>0.619709</td>\n",
       "      <td>0.241062</td>\n",
       "      <td>0.006718</td>\n",
       "      <td>0.457834</td>\n",
       "      <td>0.082195</td>\n",
       "      <td>0.016392</td>\n",
       "      <td>1.091357</td>\n",
       "      <td>0.300360</td>\n",
       "      <td>0.059898</td>\n",
       "    </tr>\n",
       "    <tr>\n",
       "      <th>2</th>\n",
       "      <td>4</td>\n",
       "      <td>0.641778</td>\n",
       "      <td>0.195955</td>\n",
       "      <td>0.005461</td>\n",
       "      <td>0.452972</td>\n",
       "      <td>0.067625</td>\n",
       "      <td>0.013486</td>\n",
       "      <td>1.025340</td>\n",
       "      <td>0.227554</td>\n",
       "      <td>0.045379</td>\n",
       "    </tr>\n",
       "    <tr>\n",
       "      <th>3</th>\n",
       "      <td>5</td>\n",
       "      <td>0.648918</td>\n",
       "      <td>0.168387</td>\n",
       "      <td>0.004692</td>\n",
       "      <td>0.460626</td>\n",
       "      <td>0.071201</td>\n",
       "      <td>0.014199</td>\n",
       "      <td>0.987342</td>\n",
       "      <td>0.205775</td>\n",
       "      <td>0.041036</td>\n",
       "    </tr>\n",
       "    <tr>\n",
       "      <th>4</th>\n",
       "      <td>6</td>\n",
       "      <td>0.690575</td>\n",
       "      <td>0.154570</td>\n",
       "      <td>0.004307</td>\n",
       "      <td>0.468909</td>\n",
       "      <td>0.056444</td>\n",
       "      <td>0.011256</td>\n",
       "      <td>0.908106</td>\n",
       "      <td>0.153580</td>\n",
       "      <td>0.030627</td>\n",
       "    </tr>\n",
       "    <tr>\n",
       "      <th>5</th>\n",
       "      <td>7</td>\n",
       "      <td>0.661768</td>\n",
       "      <td>0.188039</td>\n",
       "      <td>0.005240</td>\n",
       "      <td>0.435939</td>\n",
       "      <td>0.086383</td>\n",
       "      <td>0.017227</td>\n",
       "      <td>0.905838</td>\n",
       "      <td>0.153980</td>\n",
       "      <td>0.030707</td>\n",
       "    </tr>\n",
       "    <tr>\n",
       "      <th>6</th>\n",
       "      <td>8</td>\n",
       "      <td>0.761416</td>\n",
       "      <td>0.159783</td>\n",
       "      <td>0.004453</td>\n",
       "      <td>0.466640</td>\n",
       "      <td>0.058600</td>\n",
       "      <td>0.011686</td>\n",
       "      <td>0.820330</td>\n",
       "      <td>0.108931</td>\n",
       "      <td>0.021723</td>\n",
       "    </tr>\n",
       "    <tr>\n",
       "      <th>7</th>\n",
       "      <td>9</td>\n",
       "      <td>0.738326</td>\n",
       "      <td>0.172851</td>\n",
       "      <td>0.004817</td>\n",
       "      <td>0.457694</td>\n",
       "      <td>0.070029</td>\n",
       "      <td>0.013965</td>\n",
       "      <td>0.816944</td>\n",
       "      <td>0.108388</td>\n",
       "      <td>0.021615</td>\n",
       "    </tr>\n",
       "    <tr>\n",
       "      <th>8</th>\n",
       "      <td>10</td>\n",
       "      <td>0.697622</td>\n",
       "      <td>0.183516</td>\n",
       "      <td>0.005114</td>\n",
       "      <td>0.449171</td>\n",
       "      <td>0.078019</td>\n",
       "      <td>0.015559</td>\n",
       "      <td>0.815795</td>\n",
       "      <td>0.101023</td>\n",
       "      <td>0.020146</td>\n",
       "    </tr>\n",
       "    <tr>\n",
       "      <th>9</th>\n",
       "      <td>11</td>\n",
       "      <td>0.733608</td>\n",
       "      <td>0.184967</td>\n",
       "      <td>0.005155</td>\n",
       "      <td>0.460644</td>\n",
       "      <td>0.076060</td>\n",
       "      <td>0.015168</td>\n",
       "      <td>0.805579</td>\n",
       "      <td>0.090676</td>\n",
       "      <td>0.018083</td>\n",
       "    </tr>\n",
       "    <tr>\n",
       "      <th>10</th>\n",
       "      <td>12</td>\n",
       "      <td>0.703132</td>\n",
       "      <td>0.185020</td>\n",
       "      <td>0.005156</td>\n",
       "      <td>0.453744</td>\n",
       "      <td>0.077351</td>\n",
       "      <td>0.015425</td>\n",
       "      <td>0.805502</td>\n",
       "      <td>0.085593</td>\n",
       "      <td>0.017069</td>\n",
       "    </tr>\n",
       "    <tr>\n",
       "      <th>11</th>\n",
       "      <td>13</td>\n",
       "      <td>0.706835</td>\n",
       "      <td>0.184384</td>\n",
       "      <td>0.005138</td>\n",
       "      <td>0.460740</td>\n",
       "      <td>0.068125</td>\n",
       "      <td>0.013586</td>\n",
       "      <td>0.798731</td>\n",
       "      <td>0.074218</td>\n",
       "      <td>0.014801</td>\n",
       "    </tr>\n",
       "    <tr>\n",
       "      <th>12</th>\n",
       "      <td>14</td>\n",
       "      <td>0.659458</td>\n",
       "      <td>0.178396</td>\n",
       "      <td>0.004971</td>\n",
       "      <td>0.434458</td>\n",
       "      <td>0.078098</td>\n",
       "      <td>0.015574</td>\n",
       "      <td>0.822065</td>\n",
       "      <td>0.079358</td>\n",
       "      <td>0.015826</td>\n",
       "    </tr>\n",
       "    <tr>\n",
       "      <th>13</th>\n",
       "      <td>15</td>\n",
       "      <td>0.676619</td>\n",
       "      <td>0.177358</td>\n",
       "      <td>0.004942</td>\n",
       "      <td>0.447984</td>\n",
       "      <td>0.069270</td>\n",
       "      <td>0.013814</td>\n",
       "      <td>0.821061</td>\n",
       "      <td>0.095059</td>\n",
       "      <td>0.018957</td>\n",
       "    </tr>\n",
       "    <tr>\n",
       "      <th>14</th>\n",
       "      <td>16</td>\n",
       "      <td>0.653287</td>\n",
       "      <td>0.170628</td>\n",
       "      <td>0.004755</td>\n",
       "      <td>0.434534</td>\n",
       "      <td>0.064192</td>\n",
       "      <td>0.012801</td>\n",
       "      <td>0.823368</td>\n",
       "      <td>0.080933</td>\n",
       "      <td>0.016140</td>\n",
       "    </tr>\n",
       "    <tr>\n",
       "      <th>15</th>\n",
       "      <td>17</td>\n",
       "      <td>0.675579</td>\n",
       "      <td>0.175519</td>\n",
       "      <td>0.004891</td>\n",
       "      <td>0.442618</td>\n",
       "      <td>0.050752</td>\n",
       "      <td>0.010121</td>\n",
       "      <td>0.824906</td>\n",
       "      <td>0.076311</td>\n",
       "      <td>0.015218</td>\n",
       "    </tr>\n",
       "    <tr>\n",
       "      <th>16</th>\n",
       "      <td>18</td>\n",
       "      <td>0.668300</td>\n",
       "      <td>0.169853</td>\n",
       "      <td>0.004733</td>\n",
       "      <td>0.434765</td>\n",
       "      <td>0.048637</td>\n",
       "      <td>0.009699</td>\n",
       "      <td>0.832414</td>\n",
       "      <td>0.076274</td>\n",
       "      <td>0.015211</td>\n",
       "    </tr>\n",
       "    <tr>\n",
       "      <th>17</th>\n",
       "      <td>19</td>\n",
       "      <td>0.702122</td>\n",
       "      <td>0.168622</td>\n",
       "      <td>0.004699</td>\n",
       "      <td>0.436639</td>\n",
       "      <td>0.039952</td>\n",
       "      <td>0.007967</td>\n",
       "      <td>0.825219</td>\n",
       "      <td>0.076230</td>\n",
       "      <td>0.015202</td>\n",
       "    </tr>\n",
       "    <tr>\n",
       "      <th>18</th>\n",
       "      <td>20</td>\n",
       "      <td>0.684094</td>\n",
       "      <td>0.159507</td>\n",
       "      <td>0.004445</td>\n",
       "      <td>0.436310</td>\n",
       "      <td>0.042285</td>\n",
       "      <td>0.008432</td>\n",
       "      <td>0.826510</td>\n",
       "      <td>0.082415</td>\n",
       "      <td>0.016435</td>\n",
       "    </tr>\n",
       "    <tr>\n",
       "      <th>19</th>\n",
       "      <td>21</td>\n",
       "      <td>0.725445</td>\n",
       "      <td>0.156492</td>\n",
       "      <td>0.004361</td>\n",
       "      <td>0.439237</td>\n",
       "      <td>0.033121</td>\n",
       "      <td>0.006605</td>\n",
       "      <td>0.825961</td>\n",
       "      <td>0.075076</td>\n",
       "      <td>0.014972</td>\n",
       "    </tr>\n",
       "    <tr>\n",
       "      <th>20</th>\n",
       "      <td>22</td>\n",
       "      <td>0.750903</td>\n",
       "      <td>0.147449</td>\n",
       "      <td>0.004109</td>\n",
       "      <td>0.443928</td>\n",
       "      <td>0.024501</td>\n",
       "      <td>0.004886</td>\n",
       "      <td>0.825332</td>\n",
       "      <td>0.081876</td>\n",
       "      <td>0.016328</td>\n",
       "    </tr>\n",
       "    <tr>\n",
       "      <th>21</th>\n",
       "      <td>23</td>\n",
       "      <td>0.725321</td>\n",
       "      <td>0.156496</td>\n",
       "      <td>0.004361</td>\n",
       "      <td>0.438826</td>\n",
       "      <td>0.032613</td>\n",
       "      <td>0.006504</td>\n",
       "      <td>0.845853</td>\n",
       "      <td>0.077796</td>\n",
       "      <td>0.015514</td>\n",
       "    </tr>\n",
       "    <tr>\n",
       "      <th>22</th>\n",
       "      <td>24</td>\n",
       "      <td>0.736479</td>\n",
       "      <td>0.140701</td>\n",
       "      <td>0.003921</td>\n",
       "      <td>0.442430</td>\n",
       "      <td>0.028239</td>\n",
       "      <td>0.005631</td>\n",
       "      <td>0.845621</td>\n",
       "      <td>0.069580</td>\n",
       "      <td>0.013876</td>\n",
       "    </tr>\n",
       "    <tr>\n",
       "      <th>23</th>\n",
       "      <td>25</td>\n",
       "      <td>0.744428</td>\n",
       "      <td>0.135745</td>\n",
       "      <td>0.003783</td>\n",
       "      <td>0.443085</td>\n",
       "      <td>0.024999</td>\n",
       "      <td>0.004985</td>\n",
       "      <td>0.838670</td>\n",
       "      <td>0.063837</td>\n",
       "      <td>0.012730</td>\n",
       "    </tr>\n",
       "    <tr>\n",
       "      <th>24</th>\n",
       "      <td>26</td>\n",
       "      <td>0.759403</td>\n",
       "      <td>0.134277</td>\n",
       "      <td>0.003742</td>\n",
       "      <td>0.450910</td>\n",
       "      <td>0.025337</td>\n",
       "      <td>0.005053</td>\n",
       "      <td>0.823125</td>\n",
       "      <td>0.067681</td>\n",
       "      <td>0.013497</td>\n",
       "    </tr>\n",
       "    <tr>\n",
       "      <th>25</th>\n",
       "      <td>27</td>\n",
       "      <td>0.781301</td>\n",
       "      <td>0.133166</td>\n",
       "      <td>0.003711</td>\n",
       "      <td>0.448972</td>\n",
       "      <td>0.024424</td>\n",
       "      <td>0.004871</td>\n",
       "      <td>0.828858</td>\n",
       "      <td>0.066335</td>\n",
       "      <td>0.013229</td>\n",
       "    </tr>\n",
       "    <tr>\n",
       "      <th>26</th>\n",
       "      <td>28</td>\n",
       "      <td>0.743574</td>\n",
       "      <td>0.135853</td>\n",
       "      <td>0.003786</td>\n",
       "      <td>0.443303</td>\n",
       "      <td>0.029363</td>\n",
       "      <td>0.005856</td>\n",
       "      <td>0.849395</td>\n",
       "      <td>0.058815</td>\n",
       "      <td>0.011729</td>\n",
       "    </tr>\n",
       "    <tr>\n",
       "      <th>27</th>\n",
       "      <td>29</td>\n",
       "      <td>0.747530</td>\n",
       "      <td>0.129663</td>\n",
       "      <td>0.003613</td>\n",
       "      <td>0.452964</td>\n",
       "      <td>0.034570</td>\n",
       "      <td>0.006894</td>\n",
       "      <td>0.839829</td>\n",
       "      <td>0.062446</td>\n",
       "      <td>0.012453</td>\n",
       "    </tr>\n",
       "    <tr>\n",
       "      <th>28</th>\n",
       "      <td>30</td>\n",
       "      <td>0.756833</td>\n",
       "      <td>0.123894</td>\n",
       "      <td>0.003453</td>\n",
       "      <td>0.453302</td>\n",
       "      <td>0.032152</td>\n",
       "      <td>0.006412</td>\n",
       "      <td>0.834939</td>\n",
       "      <td>0.063765</td>\n",
       "      <td>0.012716</td>\n",
       "    </tr>\n",
       "    <tr>\n",
       "      <th>29</th>\n",
       "      <td>31</td>\n",
       "      <td>0.747498</td>\n",
       "      <td>0.118994</td>\n",
       "      <td>0.003316</td>\n",
       "      <td>0.455700</td>\n",
       "      <td>0.030623</td>\n",
       "      <td>0.006107</td>\n",
       "      <td>0.832870</td>\n",
       "      <td>0.068226</td>\n",
       "      <td>0.013606</td>\n",
       "    </tr>\n",
       "    <tr>\n",
       "      <th>30</th>\n",
       "      <td>32</td>\n",
       "      <td>0.743808</td>\n",
       "      <td>0.121389</td>\n",
       "      <td>0.003383</td>\n",
       "      <td>0.453406</td>\n",
       "      <td>0.031529</td>\n",
       "      <td>0.006288</td>\n",
       "      <td>0.837898</td>\n",
       "      <td>0.060134</td>\n",
       "      <td>0.011992</td>\n",
       "    </tr>\n",
       "    <tr>\n",
       "      <th>31</th>\n",
       "      <td>33</td>\n",
       "      <td>0.723488</td>\n",
       "      <td>0.114873</td>\n",
       "      <td>0.003201</td>\n",
       "      <td>0.460100</td>\n",
       "      <td>0.037726</td>\n",
       "      <td>0.007523</td>\n",
       "      <td>0.836932</td>\n",
       "      <td>0.070031</td>\n",
       "      <td>0.013966</td>\n",
       "    </tr>\n",
       "    <tr>\n",
       "      <th>32</th>\n",
       "      <td>34</td>\n",
       "      <td>0.728371</td>\n",
       "      <td>0.109455</td>\n",
       "      <td>0.003050</td>\n",
       "      <td>0.462542</td>\n",
       "      <td>0.037616</td>\n",
       "      <td>0.007501</td>\n",
       "      <td>0.831252</td>\n",
       "      <td>0.055929</td>\n",
       "      <td>0.011153</td>\n",
       "    </tr>\n",
       "    <tr>\n",
       "      <th>33</th>\n",
       "      <td>35</td>\n",
       "      <td>0.710073</td>\n",
       "      <td>0.108136</td>\n",
       "      <td>0.003013</td>\n",
       "      <td>0.464263</td>\n",
       "      <td>0.042336</td>\n",
       "      <td>0.008443</td>\n",
       "      <td>0.841372</td>\n",
       "      <td>0.063241</td>\n",
       "      <td>0.012612</td>\n",
       "    </tr>\n",
       "    <tr>\n",
       "      <th>34</th>\n",
       "      <td>36</td>\n",
       "      <td>0.736581</td>\n",
       "      <td>0.109813</td>\n",
       "      <td>0.003060</td>\n",
       "      <td>0.468817</td>\n",
       "      <td>0.040908</td>\n",
       "      <td>0.008158</td>\n",
       "      <td>0.829234</td>\n",
       "      <td>0.059374</td>\n",
       "      <td>0.011840</td>\n",
       "    </tr>\n",
       "    <tr>\n",
       "      <th>35</th>\n",
       "      <td>37</td>\n",
       "      <td>0.733479</td>\n",
       "      <td>0.103061</td>\n",
       "      <td>0.002872</td>\n",
       "      <td>0.480167</td>\n",
       "      <td>0.040633</td>\n",
       "      <td>0.008103</td>\n",
       "      <td>0.813129</td>\n",
       "      <td>0.052963</td>\n",
       "      <td>0.010562</td>\n",
       "    </tr>\n",
       "    <tr>\n",
       "      <th>36</th>\n",
       "      <td>38</td>\n",
       "      <td>0.743755</td>\n",
       "      <td>0.102870</td>\n",
       "      <td>0.002867</td>\n",
       "      <td>0.480819</td>\n",
       "      <td>0.042131</td>\n",
       "      <td>0.008402</td>\n",
       "      <td>0.816177</td>\n",
       "      <td>0.055470</td>\n",
       "      <td>0.011062</td>\n",
       "    </tr>\n",
       "    <tr>\n",
       "      <th>37</th>\n",
       "      <td>39</td>\n",
       "      <td>0.754740</td>\n",
       "      <td>0.098213</td>\n",
       "      <td>0.002737</td>\n",
       "      <td>0.489320</td>\n",
       "      <td>0.042821</td>\n",
       "      <td>0.008539</td>\n",
       "      <td>0.807416</td>\n",
       "      <td>0.053012</td>\n",
       "      <td>0.010572</td>\n",
       "    </tr>\n",
       "    <tr>\n",
       "      <th>38</th>\n",
       "      <td>40</td>\n",
       "      <td>0.747609</td>\n",
       "      <td>0.098153</td>\n",
       "      <td>0.002735</td>\n",
       "      <td>0.488168</td>\n",
       "      <td>0.043575</td>\n",
       "      <td>0.008690</td>\n",
       "      <td>0.808592</td>\n",
       "      <td>0.053642</td>\n",
       "      <td>0.010697</td>\n",
       "    </tr>\n",
       "    <tr>\n",
       "      <th>39</th>\n",
       "      <td>41</td>\n",
       "      <td>0.766975</td>\n",
       "      <td>0.101000</td>\n",
       "      <td>0.002815</td>\n",
       "      <td>0.500563</td>\n",
       "      <td>0.040366</td>\n",
       "      <td>0.008050</td>\n",
       "      <td>0.793611</td>\n",
       "      <td>0.052074</td>\n",
       "      <td>0.010385</td>\n",
       "    </tr>\n",
       "    <tr>\n",
       "      <th>40</th>\n",
       "      <td>42</td>\n",
       "      <td>0.775167</td>\n",
       "      <td>0.094900</td>\n",
       "      <td>0.002645</td>\n",
       "      <td>0.501403</td>\n",
       "      <td>0.037667</td>\n",
       "      <td>0.007512</td>\n",
       "      <td>0.792678</td>\n",
       "      <td>0.050457</td>\n",
       "      <td>0.010062</td>\n",
       "    </tr>\n",
       "    <tr>\n",
       "      <th>41</th>\n",
       "      <td>43</td>\n",
       "      <td>0.786537</td>\n",
       "      <td>0.100614</td>\n",
       "      <td>0.002804</td>\n",
       "      <td>0.509916</td>\n",
       "      <td>0.039988</td>\n",
       "      <td>0.007974</td>\n",
       "      <td>0.784642</td>\n",
       "      <td>0.051121</td>\n",
       "      <td>0.010195</td>\n",
       "    </tr>\n",
       "    <tr>\n",
       "      <th>42</th>\n",
       "      <td>44</td>\n",
       "      <td>0.786927</td>\n",
       "      <td>0.095437</td>\n",
       "      <td>0.002660</td>\n",
       "      <td>0.513898</td>\n",
       "      <td>0.037576</td>\n",
       "      <td>0.007493</td>\n",
       "      <td>0.781418</td>\n",
       "      <td>0.049834</td>\n",
       "      <td>0.009938</td>\n",
       "    </tr>\n",
       "    <tr>\n",
       "      <th>43</th>\n",
       "      <td>45</td>\n",
       "      <td>0.825345</td>\n",
       "      <td>0.085979</td>\n",
       "      <td>0.002396</td>\n",
       "      <td>0.518510</td>\n",
       "      <td>0.031723</td>\n",
       "      <td>0.006326</td>\n",
       "      <td>0.779608</td>\n",
       "      <td>0.043440</td>\n",
       "      <td>0.008663</td>\n",
       "    </tr>\n",
       "    <tr>\n",
       "      <th>44</th>\n",
       "      <td>46</td>\n",
       "      <td>0.809851</td>\n",
       "      <td>0.092313</td>\n",
       "      <td>0.002573</td>\n",
       "      <td>0.519669</td>\n",
       "      <td>0.033724</td>\n",
       "      <td>0.006725</td>\n",
       "      <td>0.782187</td>\n",
       "      <td>0.045341</td>\n",
       "      <td>0.009042</td>\n",
       "    </tr>\n",
       "    <tr>\n",
       "      <th>45</th>\n",
       "      <td>47</td>\n",
       "      <td>0.803255</td>\n",
       "      <td>0.094158</td>\n",
       "      <td>0.002624</td>\n",
       "      <td>0.517824</td>\n",
       "      <td>0.037027</td>\n",
       "      <td>0.007384</td>\n",
       "      <td>0.770548</td>\n",
       "      <td>0.045039</td>\n",
       "      <td>0.008982</td>\n",
       "    </tr>\n",
       "    <tr>\n",
       "      <th>46</th>\n",
       "      <td>48</td>\n",
       "      <td>0.827125</td>\n",
       "      <td>0.083260</td>\n",
       "      <td>0.002320</td>\n",
       "      <td>0.522893</td>\n",
       "      <td>0.031706</td>\n",
       "      <td>0.006323</td>\n",
       "      <td>0.769872</td>\n",
       "      <td>0.050322</td>\n",
       "      <td>0.010035</td>\n",
       "    </tr>\n",
       "    <tr>\n",
       "      <th>47</th>\n",
       "      <td>49</td>\n",
       "      <td>0.847765</td>\n",
       "      <td>0.079566</td>\n",
       "      <td>0.002217</td>\n",
       "      <td>0.531414</td>\n",
       "      <td>0.026852</td>\n",
       "      <td>0.005355</td>\n",
       "      <td>0.759171</td>\n",
       "      <td>0.039669</td>\n",
       "      <td>0.007911</td>\n",
       "    </tr>\n",
       "    <tr>\n",
       "      <th>48</th>\n",
       "      <td>50</td>\n",
       "      <td>0.861378</td>\n",
       "      <td>0.061113</td>\n",
       "      <td>0.001703</td>\n",
       "      <td>0.535091</td>\n",
       "      <td>0.021560</td>\n",
       "      <td>0.004299</td>\n",
       "      <td>0.752090</td>\n",
       "      <td>0.041157</td>\n",
       "      <td>0.008208</td>\n",
       "    </tr>\n",
       "  </tbody>\n",
       "</table>\n",
       "</div>"
      ]
     },
     "execution_count": 15,
     "metadata": {},
     "output_type": "execute_result"
    }
   ],
   "execution_count": 15
  },
  {
   "metadata": {
    "ExecuteTime": {
     "end_time": "2025-08-07T15:40:27.916187Z",
     "start_time": "2025-08-07T15:40:27.815664Z"
    }
   },
   "cell_type": "code",
   "source": "plotk(results_df, [8, 22, 44])",
   "id": "87d5f3ec60327f32",
   "outputs": [
    {
     "data": {
      "text/plain": [
       "<Figure size 640x480 with 2 Axes>"
      ],
      "image/png": "[encoded data removed]"
     },
     "metadata": {},
     "output_type": "display_data"
    }
   ],
   "execution_count": 13
  },
  {
   "metadata": {
    "ExecuteTime": {
     "end_time": "2025-08-07T15:45:35.766915Z",
     "start_time": "2025-08-07T15:45:35.609564Z"
    }
   },
   "cell_type": "code",
   "source": "plot_clustering_metrics(metrics_df, vlines=[8, 22, 27, 45])",
   "id": "77bd91e922d85ff9",
   "outputs": [
    {
     "data": {
      "text/plain": [
       "<Figure size 1200x600 with 2 Axes>"
      ],
      "image/png": "[encoded data removed]"
     },
     "metadata": {},
     "output_type": "display_data"
    }
   ],
   "execution_count": 18
  },
  {
   "metadata": {},
   "cell_type": "markdown",
   "source": "### K = 27",
   "id": "4fa50e83b65fb3f6"
  },
  {
   "metadata": {
    "ExecuteTime": {
     "end_time": "2025-08-07T15:51:44.445744Z",
     "start_time": "2025-08-07T15:51:44.369187Z"
    }
   },
   "cell_type": "code",
   "source": [
    "km_out_msccr, X = KM(MSCCR_IBD_CADD15_GenePy, NOD_sig_genes9, 27, \"MSCCR\")\n",
    "km_out_phen_GenePy_msccr = merge_phen_genepy(km_out_msccr, MSCCR_IBD_CADD15_GenePy, X, \"MSCCR\")\n",
    "km_out_phen_GenePy_msccr.to_csv(\"C:/Users/fvl1g23/OneDrive - University of Southampton/PhD/Projects/ML/Unsupervised ML/K-Means Paper/Results/MSCCR_KMeans_9F_27C_NOD_2_genepy.txt\", sep='\\t', index=False)"
   ],
   "id": "edc7f6d9a1c871eb",
   "outputs": [],
   "execution_count": 8
  },
  {
   "metadata": {},
   "cell_type": "markdown",
   "source": "## NOD Signalling Genes",
   "id": "5bc9d9e272d6243a"
  },
  {
   "metadata": {},
   "cell_type": "code",
   "outputs": [],
   "execution_count": null,
   "source": [
    "#Check top 15 features with highest variance from consensus NOD signalling genes\n",
    "#SPARC IBD\n",
    "km_out_sparc, X = KM(SPARC_IBD_CADD15_GenePy, NOD_sig_genes43, 2)\n",
    "sparc_ibd_NOD_sig20=X.var().sort_values(ascending=False)[0:20].index\n",
    "\n",
    "#Soton IBD\n",
    "km_out_soton, X = KM(SotonIBD_CADD15_GenePy, NOD_sig_genes43, 2, \"Soton\")\n",
    "soton_ibd_NOD_sig20=X.var().sort_values(ascending=False)[0:20].index\n",
    "\n",
    "#MSCCR IBD\n",
    "\n",
    "intersection=set(sparc_ibd_NOD_sig20.str.split(\"_CADD15_matrix\").str[0]) & set(soton_ibd_NOD_sig20)\n",
    "NOD_sig_genes13=NOD_sig_genes43[NOD_sig_genes43['Gene stable ID'].isin(pd.DataFrame(intersection)[0].str.split(\"_\").str[0])]\n",
    "NOD_sig_genes13.to_csv(\"C:/Users/fvl1g23/OneDrive - University of Southampton/PhD/Projects/ML/Gene lists/NOD_sig_genes13.txt\", index=False, sep=\"\\t\")"
   ],
   "id": "adfe576607a49ca"
  }
 ],
 "metadata": {
  "kernelspec": {
   "display_name": "Python 3",
   "language": "python",
   "name": "python3"
  },
  "language_info": {
   "codemirror_mode": {
    "name": "ipython",
    "version": 2
   },
   "file_extension": ".py",
   "mimetype": "text/x-python",
   "name": "python",
   "nbconvert_exporter": "python",
   "pygments_lexer": "ipython2",
   "version": "2.7.6"
  }
 },
 "nbformat": 4,
 "nbformat_minor": 5
}
